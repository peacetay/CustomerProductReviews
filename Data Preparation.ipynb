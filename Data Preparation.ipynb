{
 "cells": [
  {
   "cell_type": "markdown",
   "metadata": {},
   "source": [
    "### **Data Pre-Processing**"
   ]
  },
  {
   "cell_type": "code",
   "execution_count": 513,
   "metadata": {},
   "outputs": [],
   "source": [
    "import numpy as np\n",
    "import pandas as pd\n",
    "import matplotlib.pyplot as plt\n",
    "import seaborn as sns\n",
    "import string\n",
    "import re\n",
    "import nltk\n",
    "import textblob\n",
    "\n",
    "from textblob import TextBlob\n",
    "from textblob import Word\n",
    "from nltk import tokenize\n",
    "from nltk.corpus import stopwords\n",
    "from nltk.stem import PorterStemmer\n",
    "from textblob import Word\n",
    "from nltk.stem import WordNetLemmatizer\n",
    "from nltk.probability import FreqDist\n",
    "from sklearn.feature_extraction.text import CountVectorizer"
   ]
  },
  {
   "cell_type": "code",
   "execution_count": 476,
   "metadata": {},
   "outputs": [
    {
     "data": {
      "text/html": [
       "<div>\n",
       "<style scoped>\n",
       "    .dataframe tbody tr th:only-of-type {\n",
       "        vertical-align: middle;\n",
       "    }\n",
       "\n",
       "    .dataframe tbody tr th {\n",
       "        vertical-align: top;\n",
       "    }\n",
       "\n",
       "    .dataframe thead th {\n",
       "        text-align: right;\n",
       "    }\n",
       "</style>\n",
       "<table border=\"1\" class=\"dataframe\">\n",
       "  <thead>\n",
       "    <tr style=\"text-align: right;\">\n",
       "      <th></th>\n",
       "      <th>Review Model</th>\n",
       "      <th>Retailer</th>\n",
       "      <th>Review date</th>\n",
       "      <th>Review name</th>\n",
       "      <th>Review rating</th>\n",
       "      <th>Review title</th>\n",
       "      <th>Review Content</th>\n",
       "      <th>Verified Purchase or not</th>\n",
       "      <th>People_find_helpful</th>\n",
       "      <th>vine or not</th>\n",
       "      <th>URL</th>\n",
       "      <th>list price</th>\n",
       "      <th>rating count</th>\n",
       "      <th>overall rating</th>\n",
       "    </tr>\n",
       "  </thead>\n",
       "  <tbody>\n",
       "    <tr>\n",
       "      <th>0</th>\n",
       "      <td>Canon Pixma TS6420a</td>\n",
       "      <td>Amazon</td>\n",
       "      <td>2023-08-10</td>\n",
       "      <td>Ernest Birkholz</td>\n",
       "      <td>5</td>\n",
       "      <td>Works great</td>\n",
       "      <td>🖨 was easy to install and works great.</td>\n",
       "      <td>Verified Purchase</td>\n",
       "      <td>NaN</td>\n",
       "      <td>NaN</td>\n",
       "      <td>https://www.amazon.com/product-reviews/B09TG52...</td>\n",
       "      <td>129.99</td>\n",
       "      <td>285</td>\n",
       "      <td>4.2</td>\n",
       "    </tr>\n",
       "    <tr>\n",
       "      <th>1</th>\n",
       "      <td>HP OfficeJet Pro 9015e</td>\n",
       "      <td>Amazon</td>\n",
       "      <td>2022-06-04</td>\n",
       "      <td>mattey</td>\n",
       "      <td>3</td>\n",
       "      <td>spunky mid size printer</td>\n",
       "      <td>🔆Slower print speed than what I’m used to (old...</td>\n",
       "      <td>Verified Purchase</td>\n",
       "      <td>NaN</td>\n",
       "      <td>NaN</td>\n",
       "      <td>https://www.amazon.com/product-reviews/B08QR6P...</td>\n",
       "      <td>289.99</td>\n",
       "      <td>285</td>\n",
       "      <td>4.2</td>\n",
       "    </tr>\n",
       "    <tr>\n",
       "      <th>2</th>\n",
       "      <td>Canon PIXMA MG3620</td>\n",
       "      <td>Amazon</td>\n",
       "      <td>2023-03-15</td>\n",
       "      <td>Maria D</td>\n",
       "      <td>4</td>\n",
       "      <td>𝙲𝚕𝚎𝚊𝚛 𝚙𝚛𝚒𝚗𝚝𝚜</td>\n",
       "      <td>𝙻𝚘𝚟𝚎 𝚒𝚝</td>\n",
       "      <td>Verified Purchase</td>\n",
       "      <td>NaN</td>\n",
       "      <td>NaN</td>\n",
       "      <td>https://www.amazon.com/Canon-MG3620-Wireless-P...</td>\n",
       "      <td>79.99</td>\n",
       "      <td>285</td>\n",
       "      <td>4.2</td>\n",
       "    </tr>\n",
       "    <tr>\n",
       "      <th>3</th>\n",
       "      <td>Epson - ET-3830</td>\n",
       "      <td>Amazon</td>\n",
       "      <td>2022-11-17</td>\n",
       "      <td>Ryan H</td>\n",
       "      <td>5</td>\n",
       "      <td>Shaq knows what he's talking about</td>\n",
       "      <td>Yup, this printer is a slam dunk. :)What an up...</td>\n",
       "      <td>Verified Purchase</td>\n",
       "      <td>12.0</td>\n",
       "      <td>NaN</td>\n",
       "      <td>https://www.amazon.com/product-reviews/B096NBP...</td>\n",
       "      <td>399.99</td>\n",
       "      <td>285</td>\n",
       "      <td>4.2</td>\n",
       "    </tr>\n",
       "    <tr>\n",
       "      <th>4</th>\n",
       "      <td>HP ENVY 6055e</td>\n",
       "      <td>Amazon</td>\n",
       "      <td>2022-04-09</td>\n",
       "      <td>Sam</td>\n",
       "      <td>3</td>\n",
       "      <td>Not User Friendly</td>\n",
       "      <td>You would think something as simple as reconne...</td>\n",
       "      <td>Verified Purchase</td>\n",
       "      <td>NaN</td>\n",
       "      <td>NaN</td>\n",
       "      <td>https://www.amazon.com/product-reviews/B08XYRV...</td>\n",
       "      <td>129.99</td>\n",
       "      <td>285</td>\n",
       "      <td>4.2</td>\n",
       "    </tr>\n",
       "  </tbody>\n",
       "</table>\n",
       "</div>"
      ],
      "text/plain": [
       "             Review Model Retailer Review date      Review name  \\\n",
       "0     Canon Pixma TS6420a   Amazon  2023-08-10  Ernest Birkholz   \n",
       "1  HP OfficeJet Pro 9015e   Amazon  2022-06-04           mattey   \n",
       "2      Canon PIXMA MG3620   Amazon  2023-03-15          Maria D   \n",
       "3         Epson - ET-3830   Amazon  2022-11-17           Ryan H   \n",
       "4           HP ENVY 6055e   Amazon  2022-04-09              Sam   \n",
       "\n",
       "   Review rating                        Review title  \\\n",
       "0              5                         Works great   \n",
       "1              3             spunky mid size printer   \n",
       "2              4                        𝙲𝚕𝚎𝚊𝚛 𝚙𝚛𝚒𝚗𝚝𝚜   \n",
       "3              5  Shaq knows what he's talking about   \n",
       "4              3                   Not User Friendly   \n",
       "\n",
       "                                      Review Content Verified Purchase or not  \\\n",
       "0             🖨 was easy to install and works great.        Verified Purchase   \n",
       "1  🔆Slower print speed than what I’m used to (old...        Verified Purchase   \n",
       "2                                            𝙻𝚘𝚟𝚎 𝚒𝚝        Verified Purchase   \n",
       "3  Yup, this printer is a slam dunk. :)What an up...        Verified Purchase   \n",
       "4  You would think something as simple as reconne...        Verified Purchase   \n",
       "\n",
       "   People_find_helpful vine or not  \\\n",
       "0                  NaN         NaN   \n",
       "1                  NaN         NaN   \n",
       "2                  NaN         NaN   \n",
       "3                 12.0         NaN   \n",
       "4                  NaN         NaN   \n",
       "\n",
       "                                                 URL  list price  \\\n",
       "0  https://www.amazon.com/product-reviews/B09TG52...      129.99   \n",
       "1  https://www.amazon.com/product-reviews/B08QR6P...      289.99   \n",
       "2  https://www.amazon.com/Canon-MG3620-Wireless-P...       79.99   \n",
       "3  https://www.amazon.com/product-reviews/B096NBP...      399.99   \n",
       "4  https://www.amazon.com/product-reviews/B08XYRV...      129.99   \n",
       "\n",
       "   rating count  overall rating  \n",
       "0           285             4.2  \n",
       "1           285             4.2  \n",
       "2           285             4.2  \n",
       "3           285             4.2  \n",
       "4           285             4.2  "
      ]
     },
     "execution_count": 476,
     "metadata": {},
     "output_type": "execute_result"
    }
   ],
   "source": [
    "df_raw = pd.read_excel(\"amazon_review.xlsx\")\n",
    "df_raw.head(5)"
   ]
  },
  {
   "cell_type": "code",
   "execution_count": 477,
   "metadata": {},
   "outputs": [],
   "source": [
    "df_raw['vine or not'].fillna('', inplace=True)\n",
    "df_raw['People_find_helpful'].fillna('', inplace=True)\n",
    "df_raw['Verified Purchase or not'].fillna('', inplace=True)"
   ]
  },
  {
   "cell_type": "code",
   "execution_count": 478,
   "metadata": {},
   "outputs": [],
   "source": [
    "df_raw['vine or not'] = df_raw['vine or not'].replace('', 'Not VINE VOICE')\n",
    "df_raw['People_find_helpful'] = df_raw['People_find_helpful'].replace('', 0)\n",
    "df_raw['Verified Purchase or not'] = df_raw['Verified Purchase or not'].replace('', 'Not Verified')"
   ]
  },
  {
   "cell_type": "code",
   "execution_count": 479,
   "metadata": {},
   "outputs": [],
   "source": [
    "df_raw['Review Model'] = df_raw['Review Model'].astype(str)\n",
    "df_raw['Retailer'] = df_raw['Retailer'].astype(str)\n",
    "df_raw['Review title'] = df_raw['Review title'].astype(str)\n",
    "df_raw['Review Content'] = df_raw['Review Content'].astype(str)\n",
    "df_raw['Verified Purchase or not'] = df_raw['Verified Purchase or not'].astype(str)\n",
    "df_raw['People_find_helpful'] = df_raw['People_find_helpful'].astype(str)"
   ]
  },
  {
   "cell_type": "markdown",
   "metadata": {},
   "source": [
    "#### <font color=#FFB703> **Checking for Missing Values** </font>"
   ]
  },
  {
   "cell_type": "code",
   "execution_count": 480,
   "metadata": {},
   "outputs": [
    {
     "data": {
      "text/plain": [
       "Review Model                 0\n",
       "Retailer                     0\n",
       "Review date                  0\n",
       "Review name                 57\n",
       "Review rating                0\n",
       "Review title                 0\n",
       "Review Content               0\n",
       "Verified Purchase or not     0\n",
       "People_find_helpful          0\n",
       "vine or not                  0\n",
       "URL                          0\n",
       "list price                   0\n",
       "rating count                 0\n",
       "overall rating               0\n",
       "dtype: int64"
      ]
     },
     "execution_count": 480,
     "metadata": {},
     "output_type": "execute_result"
    }
   ],
   "source": [
    "missing_values = df_raw.isnull().sum()\n",
    "missing_values"
   ]
  },
  {
   "cell_type": "markdown",
   "metadata": {},
   "source": [
    "#### <font color=#FFB703> **Summarising Review Rating** </font>"
   ]
  },
  {
   "cell_type": "code",
   "execution_count": 481,
   "metadata": {},
   "outputs": [
    {
     "name": "stdout",
     "output_type": "stream",
     "text": [
      "<class 'pandas.core.frame.DataFrame'>\n",
      "RangeIndex: 10209 entries, 0 to 10208\n",
      "Data columns (total 14 columns):\n",
      " #   Column                    Non-Null Count  Dtype         \n",
      "---  ------                    --------------  -----         \n",
      " 0   Review Model              10209 non-null  object        \n",
      " 1   Retailer                  10209 non-null  object        \n",
      " 2   Review date               10209 non-null  datetime64[ns]\n",
      " 3   Review name               10152 non-null  object        \n",
      " 4   Review rating             10209 non-null  int64         \n",
      " 5   Review title              10209 non-null  object        \n",
      " 6   Review Content            10209 non-null  object        \n",
      " 7   Verified Purchase or not  10209 non-null  object        \n",
      " 8   People_find_helpful       10209 non-null  object        \n",
      " 9   vine or not               10209 non-null  object        \n",
      " 10  URL                       10209 non-null  object        \n",
      " 11  list price                10209 non-null  float64       \n",
      " 12  rating count              10209 non-null  int64         \n",
      " 13  overall rating            10209 non-null  float64       \n",
      "dtypes: datetime64[ns](1), float64(2), int64(2), object(9)\n",
      "memory usage: 1.1+ MB\n"
     ]
    }
   ],
   "source": [
    "df_raw.info()"
   ]
  },
  {
   "cell_type": "markdown",
   "metadata": {},
   "source": [
    "#### <font color=#FFB703> **Feature Extraction** </font>"
   ]
  },
  {
   "cell_type": "markdown",
   "metadata": {},
   "source": [
    "<font color=#61BEB0>**Number of Words:**</font>"
   ]
  },
  {
   "cell_type": "code",
   "execution_count": 482,
   "metadata": {},
   "outputs": [
    {
     "data": {
      "text/html": [
       "<div>\n",
       "<style scoped>\n",
       "    .dataframe tbody tr th:only-of-type {\n",
       "        vertical-align: middle;\n",
       "    }\n",
       "\n",
       "    .dataframe tbody tr th {\n",
       "        vertical-align: top;\n",
       "    }\n",
       "\n",
       "    .dataframe thead th {\n",
       "        text-align: right;\n",
       "    }\n",
       "</style>\n",
       "<table border=\"1\" class=\"dataframe\">\n",
       "  <thead>\n",
       "    <tr style=\"text-align: right;\">\n",
       "      <th></th>\n",
       "      <th>Review Content</th>\n",
       "      <th>content_word_count</th>\n",
       "    </tr>\n",
       "  </thead>\n",
       "  <tbody>\n",
       "    <tr>\n",
       "      <th>0</th>\n",
       "      <td>🖨 was easy to install and works great.</td>\n",
       "      <td>8</td>\n",
       "    </tr>\n",
       "    <tr>\n",
       "      <th>1</th>\n",
       "      <td>🔆Slower print speed than what I’m used to (old...</td>\n",
       "      <td>79</td>\n",
       "    </tr>\n",
       "    <tr>\n",
       "      <th>2</th>\n",
       "      <td>𝙻𝚘𝚟𝚎 𝚒𝚝</td>\n",
       "      <td>2</td>\n",
       "    </tr>\n",
       "    <tr>\n",
       "      <th>3</th>\n",
       "      <td>Yup, this printer is a slam dunk. :)What an up...</td>\n",
       "      <td>84</td>\n",
       "    </tr>\n",
       "    <tr>\n",
       "      <th>4</th>\n",
       "      <td>You would think something as simple as reconne...</td>\n",
       "      <td>160</td>\n",
       "    </tr>\n",
       "  </tbody>\n",
       "</table>\n",
       "</div>"
      ],
      "text/plain": [
       "                                      Review Content  content_word_count\n",
       "0             🖨 was easy to install and works great.                   8\n",
       "1  🔆Slower print speed than what I’m used to (old...                  79\n",
       "2                                            𝙻𝚘𝚟𝚎 𝚒𝚝                   2\n",
       "3  Yup, this printer is a slam dunk. :)What an up...                  84\n",
       "4  You would think something as simple as reconne...                 160"
      ]
     },
     "execution_count": 482,
     "metadata": {},
     "output_type": "execute_result"
    }
   ],
   "source": [
    "# Number of words (Review Content)\n",
    "df_raw['content_word_count'] = df_raw['Review Content'].apply(lambda x: len(str(x).split(\" \")))\n",
    "df_raw[['Review Content','content_word_count']].head()"
   ]
  },
  {
   "cell_type": "code",
   "execution_count": 483,
   "metadata": {},
   "outputs": [
    {
     "data": {
      "text/html": [
       "<div>\n",
       "<style scoped>\n",
       "    .dataframe tbody tr th:only-of-type {\n",
       "        vertical-align: middle;\n",
       "    }\n",
       "\n",
       "    .dataframe tbody tr th {\n",
       "        vertical-align: top;\n",
       "    }\n",
       "\n",
       "    .dataframe thead th {\n",
       "        text-align: right;\n",
       "    }\n",
       "</style>\n",
       "<table border=\"1\" class=\"dataframe\">\n",
       "  <thead>\n",
       "    <tr style=\"text-align: right;\">\n",
       "      <th></th>\n",
       "      <th>Review title</th>\n",
       "      <th>title_word_count</th>\n",
       "    </tr>\n",
       "  </thead>\n",
       "  <tbody>\n",
       "    <tr>\n",
       "      <th>0</th>\n",
       "      <td>Works great</td>\n",
       "      <td>2</td>\n",
       "    </tr>\n",
       "    <tr>\n",
       "      <th>1</th>\n",
       "      <td>spunky mid size printer</td>\n",
       "      <td>4</td>\n",
       "    </tr>\n",
       "    <tr>\n",
       "      <th>2</th>\n",
       "      <td>𝙲𝚕𝚎𝚊𝚛 𝚙𝚛𝚒𝚗𝚝𝚜</td>\n",
       "      <td>2</td>\n",
       "    </tr>\n",
       "    <tr>\n",
       "      <th>3</th>\n",
       "      <td>Shaq knows what he's talking about</td>\n",
       "      <td>6</td>\n",
       "    </tr>\n",
       "    <tr>\n",
       "      <th>4</th>\n",
       "      <td>Not User Friendly</td>\n",
       "      <td>3</td>\n",
       "    </tr>\n",
       "  </tbody>\n",
       "</table>\n",
       "</div>"
      ],
      "text/plain": [
       "                         Review title  title_word_count\n",
       "0                         Works great                 2\n",
       "1             spunky mid size printer                 4\n",
       "2                        𝙲𝚕𝚎𝚊𝚛 𝚙𝚛𝚒𝚗𝚝𝚜                 2\n",
       "3  Shaq knows what he's talking about                 6\n",
       "4                   Not User Friendly                 3"
      ]
     },
     "execution_count": 483,
     "metadata": {},
     "output_type": "execute_result"
    }
   ],
   "source": [
    "# Number of words (Review title)\n",
    "df_raw['title_word_count'] = df_raw['Review title'].apply(lambda x: len(str(x).split(\" \")))\n",
    "df_raw[['Review title','title_word_count']].head()"
   ]
  },
  {
   "cell_type": "markdown",
   "metadata": {},
   "source": [
    "<font color=#61BEB0>**Number of Characters:**</font>"
   ]
  },
  {
   "cell_type": "code",
   "execution_count": 484,
   "metadata": {},
   "outputs": [
    {
     "data": {
      "text/html": [
       "<div>\n",
       "<style scoped>\n",
       "    .dataframe tbody tr th:only-of-type {\n",
       "        vertical-align: middle;\n",
       "    }\n",
       "\n",
       "    .dataframe tbody tr th {\n",
       "        vertical-align: top;\n",
       "    }\n",
       "\n",
       "    .dataframe thead th {\n",
       "        text-align: right;\n",
       "    }\n",
       "</style>\n",
       "<table border=\"1\" class=\"dataframe\">\n",
       "  <thead>\n",
       "    <tr style=\"text-align: right;\">\n",
       "      <th></th>\n",
       "      <th>Review Content</th>\n",
       "      <th>content_char_count</th>\n",
       "    </tr>\n",
       "  </thead>\n",
       "  <tbody>\n",
       "    <tr>\n",
       "      <th>0</th>\n",
       "      <td>🖨 was easy to install and works great.</td>\n",
       "      <td>38</td>\n",
       "    </tr>\n",
       "    <tr>\n",
       "      <th>1</th>\n",
       "      <td>🔆Slower print speed than what I’m used to (old...</td>\n",
       "      <td>460</td>\n",
       "    </tr>\n",
       "    <tr>\n",
       "      <th>2</th>\n",
       "      <td>𝙻𝚘𝚟𝚎 𝚒𝚝</td>\n",
       "      <td>7</td>\n",
       "    </tr>\n",
       "    <tr>\n",
       "      <th>3</th>\n",
       "      <td>Yup, this printer is a slam dunk. :)What an up...</td>\n",
       "      <td>469</td>\n",
       "    </tr>\n",
       "    <tr>\n",
       "      <th>4</th>\n",
       "      <td>You would think something as simple as reconne...</td>\n",
       "      <td>861</td>\n",
       "    </tr>\n",
       "  </tbody>\n",
       "</table>\n",
       "</div>"
      ],
      "text/plain": [
       "                                      Review Content  content_char_count\n",
       "0             🖨 was easy to install and works great.                  38\n",
       "1  🔆Slower print speed than what I’m used to (old...                 460\n",
       "2                                            𝙻𝚘𝚟𝚎 𝚒𝚝                   7\n",
       "3  Yup, this printer is a slam dunk. :)What an up...                 469\n",
       "4  You would think something as simple as reconne...                 861"
      ]
     },
     "execution_count": 484,
     "metadata": {},
     "output_type": "execute_result"
    }
   ],
   "source": [
    "# Number of characters (Review Content)\n",
    "df_raw['content_char_count'] = df_raw['Review Content'].str.len() ## this also includes spaces\n",
    "df_raw[['Review Content','content_char_count']].head()"
   ]
  },
  {
   "cell_type": "code",
   "execution_count": 485,
   "metadata": {},
   "outputs": [
    {
     "data": {
      "text/html": [
       "<div>\n",
       "<style scoped>\n",
       "    .dataframe tbody tr th:only-of-type {\n",
       "        vertical-align: middle;\n",
       "    }\n",
       "\n",
       "    .dataframe tbody tr th {\n",
       "        vertical-align: top;\n",
       "    }\n",
       "\n",
       "    .dataframe thead th {\n",
       "        text-align: right;\n",
       "    }\n",
       "</style>\n",
       "<table border=\"1\" class=\"dataframe\">\n",
       "  <thead>\n",
       "    <tr style=\"text-align: right;\">\n",
       "      <th></th>\n",
       "      <th>Review title</th>\n",
       "      <th>title_char_count</th>\n",
       "    </tr>\n",
       "  </thead>\n",
       "  <tbody>\n",
       "    <tr>\n",
       "      <th>0</th>\n",
       "      <td>Works great</td>\n",
       "      <td>11</td>\n",
       "    </tr>\n",
       "    <tr>\n",
       "      <th>1</th>\n",
       "      <td>spunky mid size printer</td>\n",
       "      <td>23</td>\n",
       "    </tr>\n",
       "    <tr>\n",
       "      <th>2</th>\n",
       "      <td>𝙲𝚕𝚎𝚊𝚛 𝚙𝚛𝚒𝚗𝚝𝚜</td>\n",
       "      <td>12</td>\n",
       "    </tr>\n",
       "    <tr>\n",
       "      <th>3</th>\n",
       "      <td>Shaq knows what he's talking about</td>\n",
       "      <td>34</td>\n",
       "    </tr>\n",
       "    <tr>\n",
       "      <th>4</th>\n",
       "      <td>Not User Friendly</td>\n",
       "      <td>17</td>\n",
       "    </tr>\n",
       "  </tbody>\n",
       "</table>\n",
       "</div>"
      ],
      "text/plain": [
       "                         Review title  title_char_count\n",
       "0                         Works great                11\n",
       "1             spunky mid size printer                23\n",
       "2                        𝙲𝚕𝚎𝚊𝚛 𝚙𝚛𝚒𝚗𝚝𝚜                12\n",
       "3  Shaq knows what he's talking about                34\n",
       "4                   Not User Friendly                17"
      ]
     },
     "execution_count": 485,
     "metadata": {},
     "output_type": "execute_result"
    }
   ],
   "source": [
    "# Number of characters (Review title)\n",
    "df_raw['title_char_count'] = df_raw['Review title'].str.len() ## this also includes spaces\n",
    "df_raw[['Review title','title_char_count']].head()"
   ]
  },
  {
   "cell_type": "markdown",
   "metadata": {},
   "source": [
    "<font color=#61BEB0>**Average Word Length:**</font>"
   ]
  },
  {
   "cell_type": "code",
   "execution_count": 486,
   "metadata": {},
   "outputs": [
    {
     "data": {
      "text/html": [
       "<div>\n",
       "<style scoped>\n",
       "    .dataframe tbody tr th:only-of-type {\n",
       "        vertical-align: middle;\n",
       "    }\n",
       "\n",
       "    .dataframe tbody tr th {\n",
       "        vertical-align: top;\n",
       "    }\n",
       "\n",
       "    .dataframe thead th {\n",
       "        text-align: right;\n",
       "    }\n",
       "</style>\n",
       "<table border=\"1\" class=\"dataframe\">\n",
       "  <thead>\n",
       "    <tr style=\"text-align: right;\">\n",
       "      <th></th>\n",
       "      <th>Review Content</th>\n",
       "      <th>content_avg_word</th>\n",
       "    </tr>\n",
       "  </thead>\n",
       "  <tbody>\n",
       "    <tr>\n",
       "      <th>0</th>\n",
       "      <td>🖨 was easy to install and works great.</td>\n",
       "      <td>3.875000</td>\n",
       "    </tr>\n",
       "    <tr>\n",
       "      <th>1</th>\n",
       "      <td>🔆Slower print speed than what I’m used to (old...</td>\n",
       "      <td>4.835443</td>\n",
       "    </tr>\n",
       "    <tr>\n",
       "      <th>2</th>\n",
       "      <td>𝙻𝚘𝚟𝚎 𝚒𝚝</td>\n",
       "      <td>3.000000</td>\n",
       "    </tr>\n",
       "    <tr>\n",
       "      <th>3</th>\n",
       "      <td>Yup, this printer is a slam dunk. :)What an up...</td>\n",
       "      <td>4.595238</td>\n",
       "    </tr>\n",
       "    <tr>\n",
       "      <th>4</th>\n",
       "      <td>You would think something as simple as reconne...</td>\n",
       "      <td>4.387500</td>\n",
       "    </tr>\n",
       "  </tbody>\n",
       "</table>\n",
       "</div>"
      ],
      "text/plain": [
       "                                      Review Content  content_avg_word\n",
       "0             🖨 was easy to install and works great.          3.875000\n",
       "1  🔆Slower print speed than what I’m used to (old...          4.835443\n",
       "2                                            𝙻𝚘𝚟𝚎 𝚒𝚝          3.000000\n",
       "3  Yup, this printer is a slam dunk. :)What an up...          4.595238\n",
       "4  You would think something as simple as reconne...          4.387500"
      ]
     },
     "execution_count": 486,
     "metadata": {},
     "output_type": "execute_result"
    }
   ],
   "source": [
    "# Average word length (Review Content)\n",
    "def avg_word(sentence):\n",
    "  words = sentence.split()\n",
    "  return (sum(len(word) for word in words)/len(words))\n",
    "\n",
    "df_raw['content_avg_word'] = df_raw['Review Content'].apply(lambda x: avg_word(x))\n",
    "df_raw[['Review Content','content_avg_word']].head()"
   ]
  },
  {
   "cell_type": "code",
   "execution_count": 487,
   "metadata": {},
   "outputs": [
    {
     "data": {
      "text/html": [
       "<div>\n",
       "<style scoped>\n",
       "    .dataframe tbody tr th:only-of-type {\n",
       "        vertical-align: middle;\n",
       "    }\n",
       "\n",
       "    .dataframe tbody tr th {\n",
       "        vertical-align: top;\n",
       "    }\n",
       "\n",
       "    .dataframe thead th {\n",
       "        text-align: right;\n",
       "    }\n",
       "</style>\n",
       "<table border=\"1\" class=\"dataframe\">\n",
       "  <thead>\n",
       "    <tr style=\"text-align: right;\">\n",
       "      <th></th>\n",
       "      <th>Review title</th>\n",
       "      <th>title_avg_word</th>\n",
       "    </tr>\n",
       "  </thead>\n",
       "  <tbody>\n",
       "    <tr>\n",
       "      <th>0</th>\n",
       "      <td>Works great</td>\n",
       "      <td>5.000000</td>\n",
       "    </tr>\n",
       "    <tr>\n",
       "      <th>1</th>\n",
       "      <td>spunky mid size printer</td>\n",
       "      <td>5.000000</td>\n",
       "    </tr>\n",
       "    <tr>\n",
       "      <th>2</th>\n",
       "      <td>𝙲𝚕𝚎𝚊𝚛 𝚙𝚛𝚒𝚗𝚝𝚜</td>\n",
       "      <td>5.500000</td>\n",
       "    </tr>\n",
       "    <tr>\n",
       "      <th>3</th>\n",
       "      <td>Shaq knows what he's talking about</td>\n",
       "      <td>4.833333</td>\n",
       "    </tr>\n",
       "    <tr>\n",
       "      <th>4</th>\n",
       "      <td>Not User Friendly</td>\n",
       "      <td>5.000000</td>\n",
       "    </tr>\n",
       "  </tbody>\n",
       "</table>\n",
       "</div>"
      ],
      "text/plain": [
       "                         Review title  title_avg_word\n",
       "0                         Works great        5.000000\n",
       "1             spunky mid size printer        5.000000\n",
       "2                        𝙲𝚕𝚎𝚊𝚛 𝚙𝚛𝚒𝚗𝚝𝚜        5.500000\n",
       "3  Shaq knows what he's talking about        4.833333\n",
       "4                   Not User Friendly        5.000000"
      ]
     },
     "execution_count": 487,
     "metadata": {},
     "output_type": "execute_result"
    }
   ],
   "source": [
    "# Average word length (Review title)\n",
    "def avg_word(sentence):\n",
    "  words = sentence.split()\n",
    "  return (sum(len(word) for word in words)/len(words))\n",
    "\n",
    "df_raw['title_avg_word'] = df_raw['Review title'].apply(lambda x: avg_word(x))\n",
    "df_raw[['Review title','title_avg_word']].head()"
   ]
  },
  {
   "cell_type": "markdown",
   "metadata": {},
   "source": [
    "<font color=#61BEB0>**Number of Stop Words:**</font>"
   ]
  },
  {
   "cell_type": "code",
   "execution_count": 488,
   "metadata": {},
   "outputs": [
    {
     "data": {
      "text/html": [
       "<div>\n",
       "<style scoped>\n",
       "    .dataframe tbody tr th:only-of-type {\n",
       "        vertical-align: middle;\n",
       "    }\n",
       "\n",
       "    .dataframe tbody tr th {\n",
       "        vertical-align: top;\n",
       "    }\n",
       "\n",
       "    .dataframe thead th {\n",
       "        text-align: right;\n",
       "    }\n",
       "</style>\n",
       "<table border=\"1\" class=\"dataframe\">\n",
       "  <thead>\n",
       "    <tr style=\"text-align: right;\">\n",
       "      <th></th>\n",
       "      <th>Review Content</th>\n",
       "      <th>content_stopwords</th>\n",
       "    </tr>\n",
       "  </thead>\n",
       "  <tbody>\n",
       "    <tr>\n",
       "      <th>0</th>\n",
       "      <td>🖨 was easy to install and works great.</td>\n",
       "      <td>3</td>\n",
       "    </tr>\n",
       "    <tr>\n",
       "      <th>1</th>\n",
       "      <td>🔆Slower print speed than what I’m used to (old...</td>\n",
       "      <td>19</td>\n",
       "    </tr>\n",
       "    <tr>\n",
       "      <th>2</th>\n",
       "      <td>𝙻𝚘𝚟𝚎 𝚒𝚝</td>\n",
       "      <td>0</td>\n",
       "    </tr>\n",
       "    <tr>\n",
       "      <th>3</th>\n",
       "      <td>Yup, this printer is a slam dunk. :)What an up...</td>\n",
       "      <td>31</td>\n",
       "    </tr>\n",
       "    <tr>\n",
       "      <th>4</th>\n",
       "      <td>You would think something as simple as reconne...</td>\n",
       "      <td>71</td>\n",
       "    </tr>\n",
       "  </tbody>\n",
       "</table>\n",
       "</div>"
      ],
      "text/plain": [
       "                                      Review Content  content_stopwords\n",
       "0             🖨 was easy to install and works great.                  3\n",
       "1  🔆Slower print speed than what I’m used to (old...                 19\n",
       "2                                            𝙻𝚘𝚟𝚎 𝚒𝚝                  0\n",
       "3  Yup, this printer is a slam dunk. :)What an up...                 31\n",
       "4  You would think something as simple as reconne...                 71"
      ]
     },
     "execution_count": 488,
     "metadata": {},
     "output_type": "execute_result"
    }
   ],
   "source": [
    "# Number of stop words (Review Content)\n",
    "stop = stopwords.words('english')\n",
    "\n",
    "df_raw['content_stopwords'] = df_raw['Review Content'].apply(lambda x: len([x for x in x.split() if x in stop]))\n",
    "df_raw[['Review Content','content_stopwords']].head()"
   ]
  },
  {
   "cell_type": "code",
   "execution_count": 489,
   "metadata": {},
   "outputs": [
    {
     "data": {
      "text/html": [
       "<div>\n",
       "<style scoped>\n",
       "    .dataframe tbody tr th:only-of-type {\n",
       "        vertical-align: middle;\n",
       "    }\n",
       "\n",
       "    .dataframe tbody tr th {\n",
       "        vertical-align: top;\n",
       "    }\n",
       "\n",
       "    .dataframe thead th {\n",
       "        text-align: right;\n",
       "    }\n",
       "</style>\n",
       "<table border=\"1\" class=\"dataframe\">\n",
       "  <thead>\n",
       "    <tr style=\"text-align: right;\">\n",
       "      <th></th>\n",
       "      <th>Review title</th>\n",
       "      <th>title_stopwords</th>\n",
       "    </tr>\n",
       "  </thead>\n",
       "  <tbody>\n",
       "    <tr>\n",
       "      <th>0</th>\n",
       "      <td>Works great</td>\n",
       "      <td>0</td>\n",
       "    </tr>\n",
       "    <tr>\n",
       "      <th>1</th>\n",
       "      <td>spunky mid size printer</td>\n",
       "      <td>0</td>\n",
       "    </tr>\n",
       "    <tr>\n",
       "      <th>2</th>\n",
       "      <td>𝙲𝚕𝚎𝚊𝚛 𝚙𝚛𝚒𝚗𝚝𝚜</td>\n",
       "      <td>0</td>\n",
       "    </tr>\n",
       "    <tr>\n",
       "      <th>3</th>\n",
       "      <td>Shaq knows what he's talking about</td>\n",
       "      <td>2</td>\n",
       "    </tr>\n",
       "    <tr>\n",
       "      <th>4</th>\n",
       "      <td>Not User Friendly</td>\n",
       "      <td>0</td>\n",
       "    </tr>\n",
       "  </tbody>\n",
       "</table>\n",
       "</div>"
      ],
      "text/plain": [
       "                         Review title  title_stopwords\n",
       "0                         Works great                0\n",
       "1             spunky mid size printer                0\n",
       "2                        𝙲𝚕𝚎𝚊𝚛 𝚙𝚛𝚒𝚗𝚝𝚜                0\n",
       "3  Shaq knows what he's talking about                2\n",
       "4                   Not User Friendly                0"
      ]
     },
     "execution_count": 489,
     "metadata": {},
     "output_type": "execute_result"
    }
   ],
   "source": [
    "# Number of stop words (Review title)\n",
    "stop = stopwords.words('english')\n",
    "\n",
    "df_raw['title_stopwords'] = df_raw['Review title'].apply(lambda x: len([x for x in x.split() if x in stop]))\n",
    "df_raw[['Review title','title_stopwords']].head()"
   ]
  },
  {
   "cell_type": "markdown",
   "metadata": {},
   "source": [
    "#### <font color=#FFB703> **Text Pre-Processing** </font>"
   ]
  },
  {
   "cell_type": "markdown",
   "metadata": {},
   "source": [
    "<font color=#61BEB0>**Brand Extraction:**</font>"
   ]
  },
  {
   "cell_type": "code",
   "execution_count": 490,
   "metadata": {},
   "outputs": [
    {
     "data": {
      "text/html": [
       "<div>\n",
       "<style scoped>\n",
       "    .dataframe tbody tr th:only-of-type {\n",
       "        vertical-align: middle;\n",
       "    }\n",
       "\n",
       "    .dataframe tbody tr th {\n",
       "        vertical-align: top;\n",
       "    }\n",
       "\n",
       "    .dataframe thead th {\n",
       "        text-align: right;\n",
       "    }\n",
       "</style>\n",
       "<table border=\"1\" class=\"dataframe\">\n",
       "  <thead>\n",
       "    <tr style=\"text-align: right;\">\n",
       "      <th></th>\n",
       "      <th>Brand</th>\n",
       "      <th>Review Model</th>\n",
       "    </tr>\n",
       "  </thead>\n",
       "  <tbody>\n",
       "    <tr>\n",
       "      <th>0</th>\n",
       "      <td>Canon</td>\n",
       "      <td>Canon Pixma TS6420a</td>\n",
       "    </tr>\n",
       "    <tr>\n",
       "      <th>1</th>\n",
       "      <td>HP</td>\n",
       "      <td>HP OfficeJet Pro 9015e</td>\n",
       "    </tr>\n",
       "    <tr>\n",
       "      <th>2</th>\n",
       "      <td>Canon</td>\n",
       "      <td>Canon PIXMA MG3620</td>\n",
       "    </tr>\n",
       "    <tr>\n",
       "      <th>3</th>\n",
       "      <td>Epson</td>\n",
       "      <td>Epson - ET-3830</td>\n",
       "    </tr>\n",
       "    <tr>\n",
       "      <th>4</th>\n",
       "      <td>HP</td>\n",
       "      <td>HP ENVY 6055e</td>\n",
       "    </tr>\n",
       "  </tbody>\n",
       "</table>\n",
       "</div>"
      ],
      "text/plain": [
       "   Brand            Review Model\n",
       "0  Canon     Canon Pixma TS6420a\n",
       "1     HP  HP OfficeJet Pro 9015e\n",
       "2  Canon      Canon PIXMA MG3620\n",
       "3  Epson         Epson - ET-3830\n",
       "4     HP           HP ENVY 6055e"
      ]
     },
     "execution_count": 490,
     "metadata": {},
     "output_type": "execute_result"
    }
   ],
   "source": [
    "df_raw['Brand'] = df_raw['Review Model'].str.split().str[0]\n",
    "df_raw[['Brand', 'Review Model']].head()"
   ]
  },
  {
   "cell_type": "markdown",
   "metadata": {},
   "source": [
    "<font color=#61BEB0>**Lower Casing:**</font>"
   ]
  },
  {
   "cell_type": "code",
   "execution_count": 491,
   "metadata": {},
   "outputs": [
    {
     "data": {
      "text/plain": [
       "0               🖨 was easy to install and works great.\n",
       "1    🔆slower print speed than what i’m used to (old...\n",
       "2                                              𝙻𝚘𝚟𝚎 𝚒𝚝\n",
       "3    yup, this printer is a slam dunk. :)what an up...\n",
       "4    you would think something as simple as reconne...\n",
       "Name: Review Content, dtype: object"
      ]
     },
     "execution_count": 491,
     "metadata": {},
     "output_type": "execute_result"
    }
   ],
   "source": [
    "# Lower casing (Review Content)\n",
    "df_raw['Review Content'] = df_raw['Review Content'].apply(lambda x: \" \".join(x.lower() for x in x.split()))\n",
    "df_raw['Review Content'].head()"
   ]
  },
  {
   "cell_type": "code",
   "execution_count": 492,
   "metadata": {},
   "outputs": [
    {
     "data": {
      "text/plain": [
       "0                           works great\n",
       "1               spunky mid size printer\n",
       "2                          𝙲𝚕𝚎𝚊𝚛 𝚙𝚛𝚒𝚗𝚝𝚜\n",
       "3    shaq knows what he's talking about\n",
       "4                     not user friendly\n",
       "Name: Review title, dtype: object"
      ]
     },
     "execution_count": 492,
     "metadata": {},
     "output_type": "execute_result"
    }
   ],
   "source": [
    "# Lower casing (Review title)\n",
    "df_raw['Review title'] = df_raw['Review title'].apply(lambda x: \" \".join(x.lower() for x in x.split()))\n",
    "df_raw['Review title'].head()"
   ]
  },
  {
   "cell_type": "markdown",
   "metadata": {},
   "source": [
    "<font color=#61BEB0>**Removing Punctuation:**</font>"
   ]
  },
  {
   "cell_type": "code",
   "execution_count": 493,
   "metadata": {},
   "outputs": [
    {
     "name": "stderr",
     "output_type": "stream",
     "text": [
      "C:\\Users\\peace\\AppData\\Local\\Temp\\ipykernel_14052\\3496301409.py:2: FutureWarning: The default value of regex will change from True to False in a future version.\n",
      "  df_raw['Review Content'] = df_raw['Review Content'].str.replace('[^\\w\\s]','')\n"
     ]
    },
    {
     "data": {
      "text/plain": [
       "0                  was easy to install and works great\n",
       "1    slower print speed than what im used to old mo...\n",
       "2                                              𝙻𝚘𝚟𝚎 𝚒𝚝\n",
       "3    yup this printer is a slam dunk what an upgrad...\n",
       "4    you would think something as simple as reconne...\n",
       "Name: Review Content, dtype: object"
      ]
     },
     "execution_count": 493,
     "metadata": {},
     "output_type": "execute_result"
    }
   ],
   "source": [
    "# Removing punctuation (Review Content)\n",
    "df_raw['Review Content'] = df_raw['Review Content'].str.replace('[^\\w\\s]','')\n",
    "df_raw['Review Content'].head()"
   ]
  },
  {
   "cell_type": "code",
   "execution_count": 494,
   "metadata": {},
   "outputs": [
    {
     "name": "stderr",
     "output_type": "stream",
     "text": [
      "C:\\Users\\peace\\AppData\\Local\\Temp\\ipykernel_14052\\3689238767.py:2: FutureWarning: The default value of regex will change from True to False in a future version.\n",
      "  df_raw['Review title'] = df_raw['Review title'].str.replace('[^\\w\\s]','')\n"
     ]
    },
    {
     "data": {
      "text/plain": [
       "0                          works great\n",
       "1              spunky mid size printer\n",
       "2                         𝙲𝚕𝚎𝚊𝚛 𝚙𝚛𝚒𝚗𝚝𝚜\n",
       "3    shaq knows what hes talking about\n",
       "4                    not user friendly\n",
       "Name: Review title, dtype: object"
      ]
     },
     "execution_count": 494,
     "metadata": {},
     "output_type": "execute_result"
    }
   ],
   "source": [
    "# Removing punctuation (Review title)\n",
    "df_raw['Review title'] = df_raw['Review title'].str.replace('[^\\w\\s]','')\n",
    "df_raw['Review title'].head()"
   ]
  },
  {
   "cell_type": "markdown",
   "metadata": {},
   "source": [
    "<font color=#61BEB0>**Removal of Stop Words:**</font>"
   ]
  },
  {
   "cell_type": "code",
   "execution_count": 495,
   "metadata": {},
   "outputs": [
    {
     "data": {
      "text/plain": [
       "0                             easy install works great\n",
       "1    slower print speed im used old modelhpojpro 86...\n",
       "2                                              𝙻𝚘𝚟𝚎 𝚒𝚝\n",
       "3    yup printer slam dunk upgrade paid little fron...\n",
       "4    would think something simple reconnecting wifi...\n",
       "Name: Review Content, dtype: object"
      ]
     },
     "execution_count": 495,
     "metadata": {},
     "output_type": "execute_result"
    }
   ],
   "source": [
    "# Removal of stop words (Review Content)\n",
    "stop = stopwords.words('english')\n",
    "df_raw['Review Content'] = df_raw['Review Content'].apply(lambda x: \" \".join(x for x in x.split() if x not in stop))\n",
    "df_raw['Review Content'].head()"
   ]
  },
  {
   "cell_type": "code",
   "execution_count": 496,
   "metadata": {},
   "outputs": [
    {
     "data": {
      "text/plain": [
       "0                works great\n",
       "1    spunky mid size printer\n",
       "2               𝙲𝚕𝚎𝚊𝚛 𝚙𝚛𝚒𝚗𝚝𝚜\n",
       "3     shaq knows hes talking\n",
       "4              user friendly\n",
       "Name: Review title, dtype: object"
      ]
     },
     "execution_count": 496,
     "metadata": {},
     "output_type": "execute_result"
    }
   ],
   "source": [
    "# Removal of stop words (Review title)\n",
    "stop = stopwords.words('english')\n",
    "df_raw['Review title'] = df_raw['Review title'].apply(lambda x: \" \".join(x for x in x.split() if x not in stop))\n",
    "df_raw['Review title'].head()"
   ]
  },
  {
   "cell_type": "markdown",
   "metadata": {},
   "source": [
    "<font color=#61BEB0>**Removal of Common Words:**</font>"
   ]
  },
  {
   "cell_type": "code",
   "execution_count": 497,
   "metadata": {},
   "outputs": [
    {
     "data": {
      "text/plain": [
       "printer     16548\n",
       "ink          7322\n",
       "print        7003\n",
       "hp           5850\n",
       "one          3392\n",
       "use          3308\n",
       "paper        3275\n",
       "printing     3023\n",
       "get          2998\n",
       "set          2783\n",
       "dtype: int64"
      ]
     },
     "execution_count": 497,
     "metadata": {},
     "output_type": "execute_result"
    }
   ],
   "source": [
    "# Removal of common words (Review Content)\n",
    "freq = pd.Series(' '.join(df_raw['Review Content']).split()).value_counts()[:10]\n",
    "freq"
   ]
  },
  {
   "cell_type": "code",
   "execution_count": 498,
   "metadata": {},
   "outputs": [
    {
     "data": {
      "text/plain": [
       "0                             easy install works great\n",
       "1    slower speed im used old modelhpojpro 8600 new...\n",
       "2                                              𝙻𝚘𝚟𝚎 𝚒𝚝\n",
       "3    yup slam dunk upgrade paid little front equiva...\n",
       "4    would think something simple reconnecting wifi...\n",
       "Name: Review Content, dtype: object"
      ]
     },
     "execution_count": 498,
     "metadata": {},
     "output_type": "execute_result"
    }
   ],
   "source": [
    "freq = list(freq.index)\n",
    "df_raw['Review Content'] = df_raw['Review Content'].apply(lambda x: \" \".join(x for x in x.split() if x not in freq))\n",
    "df_raw['Review Content'].head()"
   ]
  },
  {
   "cell_type": "code",
   "execution_count": 499,
   "metadata": {},
   "outputs": [
    {
     "data": {
      "text/plain": [
       "printer    2527\n",
       "great       991\n",
       "good        789\n",
       "ink         710\n",
       "easy        572\n",
       "hp          531\n",
       "print       436\n",
       "set         430\n",
       "buy         425\n",
       "quality     421\n",
       "dtype: int64"
      ]
     },
     "execution_count": 499,
     "metadata": {},
     "output_type": "execute_result"
    }
   ],
   "source": [
    "# Removal of common words (Review title)\n",
    "freq = pd.Series(' '.join(df_raw['Review title']).split()).value_counts()[:10]\n",
    "freq"
   ]
  },
  {
   "cell_type": "code",
   "execution_count": 500,
   "metadata": {},
   "outputs": [
    {
     "data": {
      "text/plain": [
       "0                     works\n",
       "1           spunky mid size\n",
       "2              𝙲𝚕𝚎𝚊𝚛 𝚙𝚛𝚒𝚗𝚝𝚜\n",
       "3    shaq knows hes talking\n",
       "4             user friendly\n",
       "Name: Review title, dtype: object"
      ]
     },
     "execution_count": 500,
     "metadata": {},
     "output_type": "execute_result"
    }
   ],
   "source": [
    "freq = list(freq.index)\n",
    "df_raw['Review title'] = df_raw['Review title'].apply(lambda x: \" \".join(x for x in x.split() if x not in freq))\n",
    "df_raw['Review title'].head()"
   ]
  },
  {
   "cell_type": "markdown",
   "metadata": {},
   "source": [
    "<font color=#61BEB0>**Removal of Rare Words:**</font>"
   ]
  },
  {
   "cell_type": "code",
   "execution_count": 501,
   "metadata": {},
   "outputs": [
    {
     "data": {
      "text/plain": [
       "unit4               1\n",
       "flawlessly6         1\n",
       "it7                 1\n",
       "scanner8            1\n",
       "only9               1\n",
       "colornot            1\n",
       "seconds3            1\n",
       "breakcrackalso      1\n",
       "capacityqualityi    1\n",
       "obsessive           1\n",
       "dtype: int64"
      ]
     },
     "execution_count": 501,
     "metadata": {},
     "output_type": "execute_result"
    }
   ],
   "source": [
    "# Removal of rare words (Review Content)\n",
    "freq = pd.Series(' '.join(df_raw['Review Content']).split()).value_counts()[-10:]\n",
    "freq"
   ]
  },
  {
   "cell_type": "code",
   "execution_count": 502,
   "metadata": {},
   "outputs": [
    {
     "data": {
      "text/plain": [
       "0                             easy install works great\n",
       "1    slower speed im used old modelhpojpro 8600 new...\n",
       "2                                              𝙻𝚘𝚟𝚎 𝚒𝚝\n",
       "3    yup slam dunk upgrade paid little front equiva...\n",
       "4    would think something simple reconnecting wifi...\n",
       "Name: Review Content, dtype: object"
      ]
     },
     "execution_count": 502,
     "metadata": {},
     "output_type": "execute_result"
    }
   ],
   "source": [
    "freq = list(freq.index)\n",
    "df_raw['Review Content'] = df_raw['Review Content'].apply(lambda x: \" \".join(x for x in x.split() if x not in freq))\n",
    "df_raw['Review Content'].head()"
   ]
  },
  {
   "cell_type": "code",
   "execution_count": 503,
   "metadata": {},
   "outputs": [
    {
     "data": {
      "text/plain": [
       "screaming    1\n",
       "utter        1\n",
       "prnter       1\n",
       "obviously    1\n",
       "vender       1\n",
       "donkey       1\n",
       "plenty       1\n",
       "illegal      1\n",
       "sense        1\n",
       "roto         1\n",
       "dtype: int64"
      ]
     },
     "execution_count": 503,
     "metadata": {},
     "output_type": "execute_result"
    }
   ],
   "source": [
    "# Removal of rare words (Review title)\n",
    "freq = pd.Series(' '.join(df_raw['Review title']).split()).value_counts()[-10:]\n",
    "freq"
   ]
  },
  {
   "cell_type": "code",
   "execution_count": 504,
   "metadata": {},
   "outputs": [
    {
     "data": {
      "text/plain": [
       "0                     works\n",
       "1           spunky mid size\n",
       "2              𝙲𝚕𝚎𝚊𝚛 𝚙𝚛𝚒𝚗𝚝𝚜\n",
       "3    shaq knows hes talking\n",
       "4             user friendly\n",
       "Name: Review title, dtype: object"
      ]
     },
     "execution_count": 504,
     "metadata": {},
     "output_type": "execute_result"
    }
   ],
   "source": [
    "freq = list(freq.index)\n",
    "df_raw['Review title'] = df_raw['Review title'].apply(lambda x: \" \".join(x for x in x.split() if x not in freq))\n",
    "df_raw['Review title'].head()"
   ]
  },
  {
   "cell_type": "markdown",
   "metadata": {},
   "source": [
    "<font color=#61BEB0>**Spelling Correction - need help:**</font>"
   ]
  },
  {
   "cell_type": "code",
   "execution_count": 518,
   "metadata": {},
   "outputs": [],
   "source": [
    "# Spelling correction (Review Content)\n"
   ]
  },
  {
   "cell_type": "code",
   "execution_count": 519,
   "metadata": {},
   "outputs": [],
   "source": [
    "# Spelling correction (Review title)\n"
   ]
  },
  {
   "cell_type": "markdown",
   "metadata": {},
   "source": [
    "<font color=#61BEB0>**Stemming:**</font>"
   ]
  },
  {
   "cell_type": "code",
   "execution_count": 507,
   "metadata": {},
   "outputs": [
    {
     "data": {
      "text/plain": [
       "0                                   easi instal work great\n",
       "1        slower speed im use old modelhpojpro 8600 new ...\n",
       "2                                                  𝙻𝚘𝚟𝚎 𝚒𝚝\n",
       "3        yup slam dunk upgrad paid littl front equival ...\n",
       "4        would think someth simpl reconnect wifi would ...\n",
       "                               ...                        \n",
       "10204                                                  nan\n",
       "10205                                                  nan\n",
       "10206                                                  nan\n",
       "10207                                                  nan\n",
       "10208                                                  nan\n",
       "Name: Review Content, Length: 10209, dtype: object"
      ]
     },
     "execution_count": 507,
     "metadata": {},
     "output_type": "execute_result"
    }
   ],
   "source": [
    "# Stemming (Review Content)\n",
    "st = PorterStemmer()\n",
    "df_raw['Review Content'].apply(lambda x: \" \".join([st.stem(word) for word in x.split()]))"
   ]
  },
  {
   "cell_type": "code",
   "execution_count": 508,
   "metadata": {},
   "outputs": [
    {
     "data": {
      "text/plain": [
       "0                         work\n",
       "1              spunki mid size\n",
       "2                 𝙲𝚕𝚎𝚊𝚛 𝚙𝚛𝚒𝚗𝚝𝚜\n",
       "3            shaq know he talk\n",
       "4                user friendli\n",
       "                 ...          \n",
       "10204           quick deliveri\n",
       "10205                   awesom\n",
       "10206                     work\n",
       "10207        el artículo llegó\n",
       "10208    new work like one use\n",
       "Name: Review title, Length: 10209, dtype: object"
      ]
     },
     "execution_count": 508,
     "metadata": {},
     "output_type": "execute_result"
    }
   ],
   "source": [
    "# Stemming (Review title)\n",
    "st = PorterStemmer()\n",
    "df_raw['Review title'].apply(lambda x: \" \".join([st.stem(word) for word in x.split()]))"
   ]
  },
  {
   "cell_type": "markdown",
   "metadata": {},
   "source": [
    "<font color=#61BEB0>**Lemmatization:**</font>"
   ]
  },
  {
   "cell_type": "code",
   "execution_count": 509,
   "metadata": {},
   "outputs": [
    {
     "data": {
      "text/plain": [
       "0                              easy install work great\n",
       "1    slower speed im used old modelhpojpro 8600 new...\n",
       "2                                              𝙻𝚘𝚟𝚎 𝚒𝚝\n",
       "3    yup slam dunk upgrade paid little front equiva...\n",
       "4    would think something simple reconnecting wifi...\n",
       "Name: Review Content, dtype: object"
      ]
     },
     "execution_count": 509,
     "metadata": {},
     "output_type": "execute_result"
    }
   ],
   "source": [
    "# Lemmatization (Review Content)\n",
    "df_raw['Review Content'] = df_raw['Review Content'].apply(lambda x: \" \".join([Word(word).lemmatize() for word in x.split()]))\n",
    "df_raw['Review Content'].head()"
   ]
  },
  {
   "cell_type": "code",
   "execution_count": 510,
   "metadata": {},
   "outputs": [
    {
     "data": {
      "text/plain": [
       "0                    work\n",
       "1         spunky mid size\n",
       "2            𝙲𝚕𝚎𝚊𝚛 𝚙𝚛𝚒𝚗𝚝𝚜\n",
       "3    shaq know he talking\n",
       "4           user friendly\n",
       "Name: Review title, dtype: object"
      ]
     },
     "execution_count": 510,
     "metadata": {},
     "output_type": "execute_result"
    }
   ],
   "source": [
    "# Lemmatization (Review title)\n",
    "df_raw['Review title'] = df_raw['Review title'].apply(lambda x: \" \".join([Word(word).lemmatize() for word in x.split()]))\n",
    "df_raw['Review title'].head()"
   ]
  },
  {
   "cell_type": "code",
   "execution_count": 511,
   "metadata": {},
   "outputs": [],
   "source": [
    "# Export to csv for use\n",
    "df_raw.to_excel('amazon_review_processed.xlsx', index=False)"
   ]
  },
  {
   "cell_type": "code",
   "execution_count": 512,
   "metadata": {},
   "outputs": [
    {
     "data": {
      "text/html": [
       "<div>\n",
       "<style scoped>\n",
       "    .dataframe tbody tr th:only-of-type {\n",
       "        vertical-align: middle;\n",
       "    }\n",
       "\n",
       "    .dataframe tbody tr th {\n",
       "        vertical-align: top;\n",
       "    }\n",
       "\n",
       "    .dataframe thead th {\n",
       "        text-align: right;\n",
       "    }\n",
       "</style>\n",
       "<table border=\"1\" class=\"dataframe\">\n",
       "  <thead>\n",
       "    <tr style=\"text-align: right;\">\n",
       "      <th></th>\n",
       "      <th>Review Model</th>\n",
       "      <th>Retailer</th>\n",
       "      <th>Review date</th>\n",
       "      <th>Review name</th>\n",
       "      <th>Review rating</th>\n",
       "      <th>Review title</th>\n",
       "      <th>Review Content</th>\n",
       "      <th>Verified Purchase or not</th>\n",
       "      <th>People_find_helpful</th>\n",
       "      <th>vine or not</th>\n",
       "      <th>...</th>\n",
       "      <th>overall rating</th>\n",
       "      <th>content_word_count</th>\n",
       "      <th>title_word_count</th>\n",
       "      <th>content_char_count</th>\n",
       "      <th>title_char_count</th>\n",
       "      <th>content_avg_word</th>\n",
       "      <th>title_avg_word</th>\n",
       "      <th>content_stopwords</th>\n",
       "      <th>title_stopwords</th>\n",
       "      <th>Brand</th>\n",
       "    </tr>\n",
       "  </thead>\n",
       "  <tbody>\n",
       "    <tr>\n",
       "      <th>0</th>\n",
       "      <td>Canon Pixma TS6420a</td>\n",
       "      <td>Amazon</td>\n",
       "      <td>2023-08-10</td>\n",
       "      <td>Ernest Birkholz</td>\n",
       "      <td>5</td>\n",
       "      <td>work</td>\n",
       "      <td>easy install work great</td>\n",
       "      <td>Verified Purchase</td>\n",
       "      <td>0.0</td>\n",
       "      <td>Not VINE VOICE</td>\n",
       "      <td>...</td>\n",
       "      <td>4.2</td>\n",
       "      <td>8</td>\n",
       "      <td>2</td>\n",
       "      <td>38</td>\n",
       "      <td>11</td>\n",
       "      <td>3.875000</td>\n",
       "      <td>5.000000</td>\n",
       "      <td>3</td>\n",
       "      <td>0</td>\n",
       "      <td>Canon</td>\n",
       "    </tr>\n",
       "    <tr>\n",
       "      <th>1</th>\n",
       "      <td>HP OfficeJet Pro 9015e</td>\n",
       "      <td>Amazon</td>\n",
       "      <td>2022-06-04</td>\n",
       "      <td>mattey</td>\n",
       "      <td>3</td>\n",
       "      <td>spunky mid size</td>\n",
       "      <td>slower speed im used old modelhpojpro 8600 new...</td>\n",
       "      <td>Verified Purchase</td>\n",
       "      <td>0.0</td>\n",
       "      <td>Not VINE VOICE</td>\n",
       "      <td>...</td>\n",
       "      <td>4.2</td>\n",
       "      <td>79</td>\n",
       "      <td>4</td>\n",
       "      <td>460</td>\n",
       "      <td>23</td>\n",
       "      <td>4.835443</td>\n",
       "      <td>5.000000</td>\n",
       "      <td>19</td>\n",
       "      <td>0</td>\n",
       "      <td>HP</td>\n",
       "    </tr>\n",
       "    <tr>\n",
       "      <th>2</th>\n",
       "      <td>Canon PIXMA MG3620</td>\n",
       "      <td>Amazon</td>\n",
       "      <td>2023-03-15</td>\n",
       "      <td>Maria D</td>\n",
       "      <td>4</td>\n",
       "      <td>𝙲𝚕𝚎𝚊𝚛 𝚙𝚛𝚒𝚗𝚝𝚜</td>\n",
       "      <td>𝙻𝚘𝚟𝚎 𝚒𝚝</td>\n",
       "      <td>Verified Purchase</td>\n",
       "      <td>0.0</td>\n",
       "      <td>Not VINE VOICE</td>\n",
       "      <td>...</td>\n",
       "      <td>4.2</td>\n",
       "      <td>2</td>\n",
       "      <td>2</td>\n",
       "      <td>7</td>\n",
       "      <td>12</td>\n",
       "      <td>3.000000</td>\n",
       "      <td>5.500000</td>\n",
       "      <td>0</td>\n",
       "      <td>0</td>\n",
       "      <td>Canon</td>\n",
       "    </tr>\n",
       "    <tr>\n",
       "      <th>3</th>\n",
       "      <td>Epson - ET-3830</td>\n",
       "      <td>Amazon</td>\n",
       "      <td>2022-11-17</td>\n",
       "      <td>Ryan H</td>\n",
       "      <td>5</td>\n",
       "      <td>shaq know he talking</td>\n",
       "      <td>yup slam dunk upgrade paid little front equiva...</td>\n",
       "      <td>Verified Purchase</td>\n",
       "      <td>12.0</td>\n",
       "      <td>Not VINE VOICE</td>\n",
       "      <td>...</td>\n",
       "      <td>4.2</td>\n",
       "      <td>84</td>\n",
       "      <td>6</td>\n",
       "      <td>469</td>\n",
       "      <td>34</td>\n",
       "      <td>4.595238</td>\n",
       "      <td>4.833333</td>\n",
       "      <td>31</td>\n",
       "      <td>2</td>\n",
       "      <td>Epson</td>\n",
       "    </tr>\n",
       "    <tr>\n",
       "      <th>4</th>\n",
       "      <td>HP ENVY 6055e</td>\n",
       "      <td>Amazon</td>\n",
       "      <td>2022-04-09</td>\n",
       "      <td>Sam</td>\n",
       "      <td>3</td>\n",
       "      <td>user friendly</td>\n",
       "      <td>would think something simple reconnecting wifi...</td>\n",
       "      <td>Verified Purchase</td>\n",
       "      <td>0.0</td>\n",
       "      <td>Not VINE VOICE</td>\n",
       "      <td>...</td>\n",
       "      <td>4.2</td>\n",
       "      <td>160</td>\n",
       "      <td>3</td>\n",
       "      <td>861</td>\n",
       "      <td>17</td>\n",
       "      <td>4.387500</td>\n",
       "      <td>5.000000</td>\n",
       "      <td>71</td>\n",
       "      <td>0</td>\n",
       "      <td>HP</td>\n",
       "    </tr>\n",
       "  </tbody>\n",
       "</table>\n",
       "<p>5 rows × 23 columns</p>\n",
       "</div>"
      ],
      "text/plain": [
       "             Review Model Retailer Review date      Review name  \\\n",
       "0     Canon Pixma TS6420a   Amazon  2023-08-10  Ernest Birkholz   \n",
       "1  HP OfficeJet Pro 9015e   Amazon  2022-06-04           mattey   \n",
       "2      Canon PIXMA MG3620   Amazon  2023-03-15          Maria D   \n",
       "3         Epson - ET-3830   Amazon  2022-11-17           Ryan H   \n",
       "4           HP ENVY 6055e   Amazon  2022-04-09              Sam   \n",
       "\n",
       "   Review rating          Review title  \\\n",
       "0              5                  work   \n",
       "1              3       spunky mid size   \n",
       "2              4          𝙲𝚕𝚎𝚊𝚛 𝚙𝚛𝚒𝚗𝚝𝚜   \n",
       "3              5  shaq know he talking   \n",
       "4              3         user friendly   \n",
       "\n",
       "                                      Review Content Verified Purchase or not  \\\n",
       "0                            easy install work great        Verified Purchase   \n",
       "1  slower speed im used old modelhpojpro 8600 new...        Verified Purchase   \n",
       "2                                            𝙻𝚘𝚟𝚎 𝚒𝚝        Verified Purchase   \n",
       "3  yup slam dunk upgrade paid little front equiva...        Verified Purchase   \n",
       "4  would think something simple reconnecting wifi...        Verified Purchase   \n",
       "\n",
       "   People_find_helpful     vine or not  ... overall rating  \\\n",
       "0                  0.0  Not VINE VOICE  ...            4.2   \n",
       "1                  0.0  Not VINE VOICE  ...            4.2   \n",
       "2                  0.0  Not VINE VOICE  ...            4.2   \n",
       "3                 12.0  Not VINE VOICE  ...            4.2   \n",
       "4                  0.0  Not VINE VOICE  ...            4.2   \n",
       "\n",
       "   content_word_count  title_word_count  content_char_count  title_char_count  \\\n",
       "0                   8                 2                  38                11   \n",
       "1                  79                 4                 460                23   \n",
       "2                   2                 2                   7                12   \n",
       "3                  84                 6                 469                34   \n",
       "4                 160                 3                 861                17   \n",
       "\n",
       "   content_avg_word  title_avg_word  content_stopwords  title_stopwords  Brand  \n",
       "0          3.875000        5.000000                  3                0  Canon  \n",
       "1          4.835443        5.000000                 19                0     HP  \n",
       "2          3.000000        5.500000                  0                0  Canon  \n",
       "3          4.595238        4.833333                 31                2  Epson  \n",
       "4          4.387500        5.000000                 71                0     HP  \n",
       "\n",
       "[5 rows x 23 columns]"
      ]
     },
     "execution_count": 512,
     "metadata": {},
     "output_type": "execute_result"
    }
   ],
   "source": [
    "df_processed = pd.read_excel(\"amazon_review_processed.xlsx\")\n",
    "df_processed.head(5)"
   ]
  }
 ],
 "metadata": {
  "kernelspec": {
   "display_name": "Python 3",
   "language": "python",
   "name": "python3"
  },
  "language_info": {
   "codemirror_mode": {
    "name": "ipython",
    "version": 3
   },
   "file_extension": ".py",
   "mimetype": "text/x-python",
   "name": "python",
   "nbconvert_exporter": "python",
   "pygments_lexer": "ipython3",
   "version": "3.10.0"
  },
  "orig_nbformat": 4
 },
 "nbformat": 4,
 "nbformat_minor": 2
}
