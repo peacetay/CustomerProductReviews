{
 "cells": [
  {
   "cell_type": "markdown",
   "metadata": {},
   "source": [
    "### **Data Pre-Processing**"
   ]
  },
  {
   "cell_type": "code",
   "execution_count": 1,
   "metadata": {},
   "outputs": [],
   "source": [
    "import numpy as np\n",
    "import pandas as pd\n",
    "import matplotlib.pyplot as plt\n",
    "import seaborn as sns\n",
    "import string\n",
    "import re\n",
    "import nltk\n",
    "import textblob\n",
    "\n",
    "from textblob import TextBlob\n",
    "from textblob import Word\n",
    "from spellchecker import SpellChecker\n",
    "from nltk import tokenize\n",
    "from nltk.corpus import stopwords\n",
    "from nltk.stem import PorterStemmer\n",
    "from nltk.stem import WordNetLemmatizer\n",
    "from nltk.probability import FreqDist\n",
    "from sklearn.feature_extraction.text import CountVectorizer"
   ]
  },
  {
   "cell_type": "code",
   "execution_count": 2,
   "metadata": {},
   "outputs": [
    {
     "data": {
      "text/html": [
       "<div>\n",
       "<style scoped>\n",
       "    .dataframe tbody tr th:only-of-type {\n",
       "        vertical-align: middle;\n",
       "    }\n",
       "\n",
       "    .dataframe tbody tr th {\n",
       "        vertical-align: top;\n",
       "    }\n",
       "\n",
       "    .dataframe thead th {\n",
       "        text-align: right;\n",
       "    }\n",
       "</style>\n",
       "<table border=\"1\" class=\"dataframe\">\n",
       "  <thead>\n",
       "    <tr style=\"text-align: right;\">\n",
       "      <th></th>\n",
       "      <th>Review Model</th>\n",
       "      <th>Retailer</th>\n",
       "      <th>Review date</th>\n",
       "      <th>Review name</th>\n",
       "      <th>Review rating</th>\n",
       "      <th>Review title</th>\n",
       "      <th>Review Content</th>\n",
       "      <th>Verified Purchase or not</th>\n",
       "      <th>People_find_helpful</th>\n",
       "      <th>vine or not</th>\n",
       "      <th>URL</th>\n",
       "      <th>list price</th>\n",
       "      <th>rating count</th>\n",
       "      <th>overall rating</th>\n",
       "    </tr>\n",
       "  </thead>\n",
       "  <tbody>\n",
       "    <tr>\n",
       "      <th>0</th>\n",
       "      <td>Canon Pixma TS6420a</td>\n",
       "      <td>Amazon</td>\n",
       "      <td>2023-08-10</td>\n",
       "      <td>Ernest Birkholz</td>\n",
       "      <td>5</td>\n",
       "      <td>Works great</td>\n",
       "      <td>🖨 was easy to install and works great.</td>\n",
       "      <td>Verified Purchase</td>\n",
       "      <td>NaN</td>\n",
       "      <td>NaN</td>\n",
       "      <td>https://www.amazon.com/product-reviews/B09TG52...</td>\n",
       "      <td>129.99</td>\n",
       "      <td>285</td>\n",
       "      <td>4.2</td>\n",
       "    </tr>\n",
       "    <tr>\n",
       "      <th>1</th>\n",
       "      <td>HP OfficeJet Pro 9015e</td>\n",
       "      <td>Amazon</td>\n",
       "      <td>2022-06-04</td>\n",
       "      <td>mattey</td>\n",
       "      <td>3</td>\n",
       "      <td>spunky mid size printer</td>\n",
       "      <td>🔆Slower print speed than what I’m used to (old...</td>\n",
       "      <td>Verified Purchase</td>\n",
       "      <td>NaN</td>\n",
       "      <td>NaN</td>\n",
       "      <td>https://www.amazon.com/product-reviews/B08QR6P...</td>\n",
       "      <td>289.99</td>\n",
       "      <td>285</td>\n",
       "      <td>4.2</td>\n",
       "    </tr>\n",
       "    <tr>\n",
       "      <th>2</th>\n",
       "      <td>Canon PIXMA MG3620</td>\n",
       "      <td>Amazon</td>\n",
       "      <td>2023-03-15</td>\n",
       "      <td>Maria D</td>\n",
       "      <td>4</td>\n",
       "      <td>𝙲𝚕𝚎𝚊𝚛 𝚙𝚛𝚒𝚗𝚝𝚜</td>\n",
       "      <td>𝙻𝚘𝚟𝚎 𝚒𝚝</td>\n",
       "      <td>Verified Purchase</td>\n",
       "      <td>NaN</td>\n",
       "      <td>NaN</td>\n",
       "      <td>https://www.amazon.com/Canon-MG3620-Wireless-P...</td>\n",
       "      <td>79.99</td>\n",
       "      <td>285</td>\n",
       "      <td>4.2</td>\n",
       "    </tr>\n",
       "    <tr>\n",
       "      <th>3</th>\n",
       "      <td>Epson - ET-3830</td>\n",
       "      <td>Amazon</td>\n",
       "      <td>2022-11-17</td>\n",
       "      <td>Ryan H</td>\n",
       "      <td>5</td>\n",
       "      <td>Shaq knows what he's talking about</td>\n",
       "      <td>Yup, this printer is a slam dunk. :)What an up...</td>\n",
       "      <td>Verified Purchase</td>\n",
       "      <td>12.0</td>\n",
       "      <td>NaN</td>\n",
       "      <td>https://www.amazon.com/product-reviews/B096NBP...</td>\n",
       "      <td>399.99</td>\n",
       "      <td>285</td>\n",
       "      <td>4.2</td>\n",
       "    </tr>\n",
       "    <tr>\n",
       "      <th>4</th>\n",
       "      <td>HP ENVY 6055e</td>\n",
       "      <td>Amazon</td>\n",
       "      <td>2022-04-09</td>\n",
       "      <td>Sam</td>\n",
       "      <td>3</td>\n",
       "      <td>Not User Friendly</td>\n",
       "      <td>You would think something as simple as reconne...</td>\n",
       "      <td>Verified Purchase</td>\n",
       "      <td>NaN</td>\n",
       "      <td>NaN</td>\n",
       "      <td>https://www.amazon.com/product-reviews/B08XYRV...</td>\n",
       "      <td>129.99</td>\n",
       "      <td>285</td>\n",
       "      <td>4.2</td>\n",
       "    </tr>\n",
       "  </tbody>\n",
       "</table>\n",
       "</div>"
      ],
      "text/plain": [
       "             Review Model Retailer Review date      Review name  \\\n",
       "0     Canon Pixma TS6420a   Amazon  2023-08-10  Ernest Birkholz   \n",
       "1  HP OfficeJet Pro 9015e   Amazon  2022-06-04           mattey   \n",
       "2      Canon PIXMA MG3620   Amazon  2023-03-15          Maria D   \n",
       "3         Epson - ET-3830   Amazon  2022-11-17           Ryan H   \n",
       "4           HP ENVY 6055e   Amazon  2022-04-09              Sam   \n",
       "\n",
       "   Review rating                        Review title  \\\n",
       "0              5                         Works great   \n",
       "1              3             spunky mid size printer   \n",
       "2              4                        𝙲𝚕𝚎𝚊𝚛 𝚙𝚛𝚒𝚗𝚝𝚜   \n",
       "3              5  Shaq knows what he's talking about   \n",
       "4              3                   Not User Friendly   \n",
       "\n",
       "                                      Review Content Verified Purchase or not  \\\n",
       "0             🖨 was easy to install and works great.        Verified Purchase   \n",
       "1  🔆Slower print speed than what I’m used to (old...        Verified Purchase   \n",
       "2                                            𝙻𝚘𝚟𝚎 𝚒𝚝        Verified Purchase   \n",
       "3  Yup, this printer is a slam dunk. :)What an up...        Verified Purchase   \n",
       "4  You would think something as simple as reconne...        Verified Purchase   \n",
       "\n",
       "   People_find_helpful vine or not  \\\n",
       "0                  NaN         NaN   \n",
       "1                  NaN         NaN   \n",
       "2                  NaN         NaN   \n",
       "3                 12.0         NaN   \n",
       "4                  NaN         NaN   \n",
       "\n",
       "                                                 URL  list price  \\\n",
       "0  https://www.amazon.com/product-reviews/B09TG52...      129.99   \n",
       "1  https://www.amazon.com/product-reviews/B08QR6P...      289.99   \n",
       "2  https://www.amazon.com/Canon-MG3620-Wireless-P...       79.99   \n",
       "3  https://www.amazon.com/product-reviews/B096NBP...      399.99   \n",
       "4  https://www.amazon.com/product-reviews/B08XYRV...      129.99   \n",
       "\n",
       "   rating count  overall rating  \n",
       "0           285             4.2  \n",
       "1           285             4.2  \n",
       "2           285             4.2  \n",
       "3           285             4.2  \n",
       "4           285             4.2  "
      ]
     },
     "execution_count": 2,
     "metadata": {},
     "output_type": "execute_result"
    }
   ],
   "source": [
    "df_raw = pd.read_excel(\"amazon_review.xlsx\")\n",
    "df_raw.head(5)"
   ]
  },
  {
   "cell_type": "code",
   "execution_count": 3,
   "metadata": {},
   "outputs": [],
   "source": [
    "df_raw['vine or not'].fillna(0, inplace=True)\n",
    "df_raw['People_find_helpful'].fillna(0, inplace=True)\n",
    "df_raw[\"Verified Purchase or not\"].fillna(0, inplace=True)"
   ]
  },
  {
   "cell_type": "code",
   "execution_count": 4,
   "metadata": {},
   "outputs": [],
   "source": [
    "df_raw.loc[df_raw[\"Verified Purchase or not\"]==\"verified Purchase\", \"Verified Purchase or not\"] = 1\n",
    "df_raw[\"Verified Purchase or not\"] = df_raw[\"Verified Purchase or not\"].astype('bool')\n",
    "df_raw.loc[df_raw[\"vine or not\"] == \"VINE VOICE\", \"vine or not\"] = 1\n",
    "df_raw[\"vine or not\"] = df_raw[\"vine or not\"].astype('bool')"
   ]
  },
  {
   "cell_type": "code",
   "execution_count": 5,
   "metadata": {},
   "outputs": [],
   "source": [
    "df_raw['Review Model'] = df_raw['Review Model'].astype(str)\n",
    "df_raw['Retailer'] = df_raw['Retailer'].astype(str)\n",
    "df_raw['Review title'] = df_raw['Review title'].astype(str)\n",
    "df_raw['Review Content'] = df_raw['Review Content'].astype(str)\n",
    "df_raw['People_find_helpful'] = df_raw['People_find_helpful'].astype(str)"
   ]
  },
  {
   "cell_type": "code",
   "execution_count": 6,
   "metadata": {},
   "outputs": [],
   "source": [
    "df_raw['Original title'] = df_raw['Review title'].copy()\n",
    "df_raw['Original review'] = df_raw['Review Content'].copy()"
   ]
  },
  {
   "cell_type": "markdown",
   "metadata": {},
   "source": [
    "#### <font color=#FFB703> **Checking for Missing Values** </font>"
   ]
  },
  {
   "cell_type": "code",
   "execution_count": 7,
   "metadata": {},
   "outputs": [
    {
     "data": {
      "text/plain": [
       "Review Model                 0\n",
       "Retailer                     0\n",
       "Review date                  0\n",
       "Review name                 57\n",
       "Review rating                0\n",
       "Review title                 0\n",
       "Review Content               0\n",
       "Verified Purchase or not     0\n",
       "People_find_helpful          0\n",
       "vine or not                  0\n",
       "URL                          0\n",
       "list price                   0\n",
       "rating count                 0\n",
       "overall rating               0\n",
       "Original title               0\n",
       "Original review              0\n",
       "dtype: int64"
      ]
     },
     "execution_count": 7,
     "metadata": {},
     "output_type": "execute_result"
    }
   ],
   "source": [
    "missing_values = df_raw.isnull().sum()\n",
    "missing_values"
   ]
  },
  {
   "cell_type": "markdown",
   "metadata": {},
   "source": [
    "#### <font color=#FFB703> **Summarising Review Rating** </font>"
   ]
  },
  {
   "cell_type": "code",
   "execution_count": 8,
   "metadata": {},
   "outputs": [
    {
     "name": "stdout",
     "output_type": "stream",
     "text": [
      "<class 'pandas.core.frame.DataFrame'>\n",
      "RangeIndex: 10209 entries, 0 to 10208\n",
      "Data columns (total 16 columns):\n",
      " #   Column                    Non-Null Count  Dtype         \n",
      "---  ------                    --------------  -----         \n",
      " 0   Review Model              10209 non-null  object        \n",
      " 1   Retailer                  10209 non-null  object        \n",
      " 2   Review date               10209 non-null  datetime64[ns]\n",
      " 3   Review name               10152 non-null  object        \n",
      " 4   Review rating             10209 non-null  int64         \n",
      " 5   Review title              10209 non-null  object        \n",
      " 6   Review Content            10209 non-null  object        \n",
      " 7   Verified Purchase or not  10209 non-null  bool          \n",
      " 8   People_find_helpful       10209 non-null  object        \n",
      " 9   vine or not               10209 non-null  bool          \n",
      " 10  URL                       10209 non-null  object        \n",
      " 11  list price                10209 non-null  float64       \n",
      " 12  rating count              10209 non-null  int64         \n",
      " 13  overall rating            10209 non-null  float64       \n",
      " 14  Original title            10209 non-null  object        \n",
      " 15  Original review           10209 non-null  object        \n",
      "dtypes: bool(2), datetime64[ns](1), float64(2), int64(2), object(9)\n",
      "memory usage: 1.1+ MB\n"
     ]
    }
   ],
   "source": [
    "df_raw.info()"
   ]
  },
  {
   "cell_type": "markdown",
   "metadata": {},
   "source": [
    "#### <font color=#FFB703> **Feature Extraction** </font>"
   ]
  },
  {
   "cell_type": "markdown",
   "metadata": {},
   "source": [
    "<font color=#61BEB0>**Number of Words:**</font>"
   ]
  },
  {
   "cell_type": "code",
   "execution_count": 9,
   "metadata": {},
   "outputs": [
    {
     "data": {
      "text/html": [
       "<div>\n",
       "<style scoped>\n",
       "    .dataframe tbody tr th:only-of-type {\n",
       "        vertical-align: middle;\n",
       "    }\n",
       "\n",
       "    .dataframe tbody tr th {\n",
       "        vertical-align: top;\n",
       "    }\n",
       "\n",
       "    .dataframe thead th {\n",
       "        text-align: right;\n",
       "    }\n",
       "</style>\n",
       "<table border=\"1\" class=\"dataframe\">\n",
       "  <thead>\n",
       "    <tr style=\"text-align: right;\">\n",
       "      <th></th>\n",
       "      <th>Review Content</th>\n",
       "      <th>content_word_count</th>\n",
       "    </tr>\n",
       "  </thead>\n",
       "  <tbody>\n",
       "    <tr>\n",
       "      <th>0</th>\n",
       "      <td>🖨 was easy to install and works great.</td>\n",
       "      <td>8</td>\n",
       "    </tr>\n",
       "    <tr>\n",
       "      <th>1</th>\n",
       "      <td>🔆Slower print speed than what I’m used to (old...</td>\n",
       "      <td>79</td>\n",
       "    </tr>\n",
       "    <tr>\n",
       "      <th>2</th>\n",
       "      <td>𝙻𝚘𝚟𝚎 𝚒𝚝</td>\n",
       "      <td>2</td>\n",
       "    </tr>\n",
       "    <tr>\n",
       "      <th>3</th>\n",
       "      <td>Yup, this printer is a slam dunk. :)What an up...</td>\n",
       "      <td>84</td>\n",
       "    </tr>\n",
       "    <tr>\n",
       "      <th>4</th>\n",
       "      <td>You would think something as simple as reconne...</td>\n",
       "      <td>160</td>\n",
       "    </tr>\n",
       "  </tbody>\n",
       "</table>\n",
       "</div>"
      ],
      "text/plain": [
       "                                      Review Content  content_word_count\n",
       "0             🖨 was easy to install and works great.                   8\n",
       "1  🔆Slower print speed than what I’m used to (old...                  79\n",
       "2                                            𝙻𝚘𝚟𝚎 𝚒𝚝                   2\n",
       "3  Yup, this printer is a slam dunk. :)What an up...                  84\n",
       "4  You would think something as simple as reconne...                 160"
      ]
     },
     "execution_count": 9,
     "metadata": {},
     "output_type": "execute_result"
    }
   ],
   "source": [
    "# Number of words (Review Content)\n",
    "df_raw['content_word_count'] = df_raw['Review Content'].apply(lambda x: len(str(x).split(\" \")))\n",
    "df_raw[['Review Content','content_word_count']].head()"
   ]
  },
  {
   "cell_type": "code",
   "execution_count": 10,
   "metadata": {},
   "outputs": [
    {
     "data": {
      "text/html": [
       "<div>\n",
       "<style scoped>\n",
       "    .dataframe tbody tr th:only-of-type {\n",
       "        vertical-align: middle;\n",
       "    }\n",
       "\n",
       "    .dataframe tbody tr th {\n",
       "        vertical-align: top;\n",
       "    }\n",
       "\n",
       "    .dataframe thead th {\n",
       "        text-align: right;\n",
       "    }\n",
       "</style>\n",
       "<table border=\"1\" class=\"dataframe\">\n",
       "  <thead>\n",
       "    <tr style=\"text-align: right;\">\n",
       "      <th></th>\n",
       "      <th>Review title</th>\n",
       "      <th>title_word_count</th>\n",
       "    </tr>\n",
       "  </thead>\n",
       "  <tbody>\n",
       "    <tr>\n",
       "      <th>0</th>\n",
       "      <td>Works great</td>\n",
       "      <td>2</td>\n",
       "    </tr>\n",
       "    <tr>\n",
       "      <th>1</th>\n",
       "      <td>spunky mid size printer</td>\n",
       "      <td>4</td>\n",
       "    </tr>\n",
       "    <tr>\n",
       "      <th>2</th>\n",
       "      <td>𝙲𝚕𝚎𝚊𝚛 𝚙𝚛𝚒𝚗𝚝𝚜</td>\n",
       "      <td>2</td>\n",
       "    </tr>\n",
       "    <tr>\n",
       "      <th>3</th>\n",
       "      <td>Shaq knows what he's talking about</td>\n",
       "      <td>6</td>\n",
       "    </tr>\n",
       "    <tr>\n",
       "      <th>4</th>\n",
       "      <td>Not User Friendly</td>\n",
       "      <td>3</td>\n",
       "    </tr>\n",
       "  </tbody>\n",
       "</table>\n",
       "</div>"
      ],
      "text/plain": [
       "                         Review title  title_word_count\n",
       "0                         Works great                 2\n",
       "1             spunky mid size printer                 4\n",
       "2                        𝙲𝚕𝚎𝚊𝚛 𝚙𝚛𝚒𝚗𝚝𝚜                 2\n",
       "3  Shaq knows what he's talking about                 6\n",
       "4                   Not User Friendly                 3"
      ]
     },
     "execution_count": 10,
     "metadata": {},
     "output_type": "execute_result"
    }
   ],
   "source": [
    "# Number of words (Review title)\n",
    "df_raw['title_word_count'] = df_raw['Review title'].apply(lambda x: len(str(x).split(\" \")))\n",
    "df_raw[['Review title','title_word_count']].head()"
   ]
  },
  {
   "cell_type": "markdown",
   "metadata": {},
   "source": [
    "<font color=#61BEB0>**Number of Characters:**</font>"
   ]
  },
  {
   "cell_type": "code",
   "execution_count": 11,
   "metadata": {},
   "outputs": [
    {
     "data": {
      "text/html": [
       "<div>\n",
       "<style scoped>\n",
       "    .dataframe tbody tr th:only-of-type {\n",
       "        vertical-align: middle;\n",
       "    }\n",
       "\n",
       "    .dataframe tbody tr th {\n",
       "        vertical-align: top;\n",
       "    }\n",
       "\n",
       "    .dataframe thead th {\n",
       "        text-align: right;\n",
       "    }\n",
       "</style>\n",
       "<table border=\"1\" class=\"dataframe\">\n",
       "  <thead>\n",
       "    <tr style=\"text-align: right;\">\n",
       "      <th></th>\n",
       "      <th>Review Content</th>\n",
       "      <th>content_char_count</th>\n",
       "    </tr>\n",
       "  </thead>\n",
       "  <tbody>\n",
       "    <tr>\n",
       "      <th>0</th>\n",
       "      <td>🖨 was easy to install and works great.</td>\n",
       "      <td>38</td>\n",
       "    </tr>\n",
       "    <tr>\n",
       "      <th>1</th>\n",
       "      <td>🔆Slower print speed than what I’m used to (old...</td>\n",
       "      <td>460</td>\n",
       "    </tr>\n",
       "    <tr>\n",
       "      <th>2</th>\n",
       "      <td>𝙻𝚘𝚟𝚎 𝚒𝚝</td>\n",
       "      <td>7</td>\n",
       "    </tr>\n",
       "    <tr>\n",
       "      <th>3</th>\n",
       "      <td>Yup, this printer is a slam dunk. :)What an up...</td>\n",
       "      <td>469</td>\n",
       "    </tr>\n",
       "    <tr>\n",
       "      <th>4</th>\n",
       "      <td>You would think something as simple as reconne...</td>\n",
       "      <td>861</td>\n",
       "    </tr>\n",
       "  </tbody>\n",
       "</table>\n",
       "</div>"
      ],
      "text/plain": [
       "                                      Review Content  content_char_count\n",
       "0             🖨 was easy to install and works great.                  38\n",
       "1  🔆Slower print speed than what I’m used to (old...                 460\n",
       "2                                            𝙻𝚘𝚟𝚎 𝚒𝚝                   7\n",
       "3  Yup, this printer is a slam dunk. :)What an up...                 469\n",
       "4  You would think something as simple as reconne...                 861"
      ]
     },
     "execution_count": 11,
     "metadata": {},
     "output_type": "execute_result"
    }
   ],
   "source": [
    "# Number of characters (Review Content)\n",
    "df_raw['content_char_count'] = df_raw['Review Content'].str.len() ## this also includes spaces\n",
    "df_raw[['Review Content','content_char_count']].head()"
   ]
  },
  {
   "cell_type": "code",
   "execution_count": 12,
   "metadata": {},
   "outputs": [
    {
     "data": {
      "text/html": [
       "<div>\n",
       "<style scoped>\n",
       "    .dataframe tbody tr th:only-of-type {\n",
       "        vertical-align: middle;\n",
       "    }\n",
       "\n",
       "    .dataframe tbody tr th {\n",
       "        vertical-align: top;\n",
       "    }\n",
       "\n",
       "    .dataframe thead th {\n",
       "        text-align: right;\n",
       "    }\n",
       "</style>\n",
       "<table border=\"1\" class=\"dataframe\">\n",
       "  <thead>\n",
       "    <tr style=\"text-align: right;\">\n",
       "      <th></th>\n",
       "      <th>Review title</th>\n",
       "      <th>title_char_count</th>\n",
       "    </tr>\n",
       "  </thead>\n",
       "  <tbody>\n",
       "    <tr>\n",
       "      <th>0</th>\n",
       "      <td>Works great</td>\n",
       "      <td>11</td>\n",
       "    </tr>\n",
       "    <tr>\n",
       "      <th>1</th>\n",
       "      <td>spunky mid size printer</td>\n",
       "      <td>23</td>\n",
       "    </tr>\n",
       "    <tr>\n",
       "      <th>2</th>\n",
       "      <td>𝙲𝚕𝚎𝚊𝚛 𝚙𝚛𝚒𝚗𝚝𝚜</td>\n",
       "      <td>12</td>\n",
       "    </tr>\n",
       "    <tr>\n",
       "      <th>3</th>\n",
       "      <td>Shaq knows what he's talking about</td>\n",
       "      <td>34</td>\n",
       "    </tr>\n",
       "    <tr>\n",
       "      <th>4</th>\n",
       "      <td>Not User Friendly</td>\n",
       "      <td>17</td>\n",
       "    </tr>\n",
       "  </tbody>\n",
       "</table>\n",
       "</div>"
      ],
      "text/plain": [
       "                         Review title  title_char_count\n",
       "0                         Works great                11\n",
       "1             spunky mid size printer                23\n",
       "2                        𝙲𝚕𝚎𝚊𝚛 𝚙𝚛𝚒𝚗𝚝𝚜                12\n",
       "3  Shaq knows what he's talking about                34\n",
       "4                   Not User Friendly                17"
      ]
     },
     "execution_count": 12,
     "metadata": {},
     "output_type": "execute_result"
    }
   ],
   "source": [
    "# Number of characters (Review title)\n",
    "df_raw['title_char_count'] = df_raw['Review title'].str.len() ## this also includes spaces\n",
    "df_raw[['Review title','title_char_count']].head()"
   ]
  },
  {
   "cell_type": "markdown",
   "metadata": {},
   "source": [
    "<font color=#61BEB0>**Average Word Length:**</font>"
   ]
  },
  {
   "cell_type": "code",
   "execution_count": 13,
   "metadata": {},
   "outputs": [
    {
     "data": {
      "text/html": [
       "<div>\n",
       "<style scoped>\n",
       "    .dataframe tbody tr th:only-of-type {\n",
       "        vertical-align: middle;\n",
       "    }\n",
       "\n",
       "    .dataframe tbody tr th {\n",
       "        vertical-align: top;\n",
       "    }\n",
       "\n",
       "    .dataframe thead th {\n",
       "        text-align: right;\n",
       "    }\n",
       "</style>\n",
       "<table border=\"1\" class=\"dataframe\">\n",
       "  <thead>\n",
       "    <tr style=\"text-align: right;\">\n",
       "      <th></th>\n",
       "      <th>Review Content</th>\n",
       "      <th>content_avg_word</th>\n",
       "    </tr>\n",
       "  </thead>\n",
       "  <tbody>\n",
       "    <tr>\n",
       "      <th>0</th>\n",
       "      <td>🖨 was easy to install and works great.</td>\n",
       "      <td>3.875000</td>\n",
       "    </tr>\n",
       "    <tr>\n",
       "      <th>1</th>\n",
       "      <td>🔆Slower print speed than what I’m used to (old...</td>\n",
       "      <td>4.835443</td>\n",
       "    </tr>\n",
       "    <tr>\n",
       "      <th>2</th>\n",
       "      <td>𝙻𝚘𝚟𝚎 𝚒𝚝</td>\n",
       "      <td>3.000000</td>\n",
       "    </tr>\n",
       "    <tr>\n",
       "      <th>3</th>\n",
       "      <td>Yup, this printer is a slam dunk. :)What an up...</td>\n",
       "      <td>4.595238</td>\n",
       "    </tr>\n",
       "    <tr>\n",
       "      <th>4</th>\n",
       "      <td>You would think something as simple as reconne...</td>\n",
       "      <td>4.387500</td>\n",
       "    </tr>\n",
       "  </tbody>\n",
       "</table>\n",
       "</div>"
      ],
      "text/plain": [
       "                                      Review Content  content_avg_word\n",
       "0             🖨 was easy to install and works great.          3.875000\n",
       "1  🔆Slower print speed than what I’m used to (old...          4.835443\n",
       "2                                            𝙻𝚘𝚟𝚎 𝚒𝚝          3.000000\n",
       "3  Yup, this printer is a slam dunk. :)What an up...          4.595238\n",
       "4  You would think something as simple as reconne...          4.387500"
      ]
     },
     "execution_count": 13,
     "metadata": {},
     "output_type": "execute_result"
    }
   ],
   "source": [
    "# Average word length (Review Content)\n",
    "def avg_word(sentence):\n",
    "  words = sentence.split()\n",
    "  return (sum(len(word) for word in words)/len(words))\n",
    "\n",
    "df_raw['content_avg_word'] = df_raw['Review Content'].apply(lambda x: avg_word(x))\n",
    "df_raw[['Review Content','content_avg_word']].head()"
   ]
  },
  {
   "cell_type": "code",
   "execution_count": 14,
   "metadata": {},
   "outputs": [
    {
     "data": {
      "text/html": [
       "<div>\n",
       "<style scoped>\n",
       "    .dataframe tbody tr th:only-of-type {\n",
       "        vertical-align: middle;\n",
       "    }\n",
       "\n",
       "    .dataframe tbody tr th {\n",
       "        vertical-align: top;\n",
       "    }\n",
       "\n",
       "    .dataframe thead th {\n",
       "        text-align: right;\n",
       "    }\n",
       "</style>\n",
       "<table border=\"1\" class=\"dataframe\">\n",
       "  <thead>\n",
       "    <tr style=\"text-align: right;\">\n",
       "      <th></th>\n",
       "      <th>Review title</th>\n",
       "      <th>title_avg_word</th>\n",
       "    </tr>\n",
       "  </thead>\n",
       "  <tbody>\n",
       "    <tr>\n",
       "      <th>0</th>\n",
       "      <td>Works great</td>\n",
       "      <td>5.000000</td>\n",
       "    </tr>\n",
       "    <tr>\n",
       "      <th>1</th>\n",
       "      <td>spunky mid size printer</td>\n",
       "      <td>5.000000</td>\n",
       "    </tr>\n",
       "    <tr>\n",
       "      <th>2</th>\n",
       "      <td>𝙲𝚕𝚎𝚊𝚛 𝚙𝚛𝚒𝚗𝚝𝚜</td>\n",
       "      <td>5.500000</td>\n",
       "    </tr>\n",
       "    <tr>\n",
       "      <th>3</th>\n",
       "      <td>Shaq knows what he's talking about</td>\n",
       "      <td>4.833333</td>\n",
       "    </tr>\n",
       "    <tr>\n",
       "      <th>4</th>\n",
       "      <td>Not User Friendly</td>\n",
       "      <td>5.000000</td>\n",
       "    </tr>\n",
       "  </tbody>\n",
       "</table>\n",
       "</div>"
      ],
      "text/plain": [
       "                         Review title  title_avg_word\n",
       "0                         Works great        5.000000\n",
       "1             spunky mid size printer        5.000000\n",
       "2                        𝙲𝚕𝚎𝚊𝚛 𝚙𝚛𝚒𝚗𝚝𝚜        5.500000\n",
       "3  Shaq knows what he's talking about        4.833333\n",
       "4                   Not User Friendly        5.000000"
      ]
     },
     "execution_count": 14,
     "metadata": {},
     "output_type": "execute_result"
    }
   ],
   "source": [
    "# Average word length (Review title)\n",
    "def avg_word(sentence):\n",
    "  words = sentence.split()\n",
    "  return (sum(len(word) for word in words)/len(words))\n",
    "\n",
    "df_raw['title_avg_word'] = df_raw['Review title'].apply(lambda x: avg_word(x))\n",
    "df_raw[['Review title','title_avg_word']].head()"
   ]
  },
  {
   "cell_type": "markdown",
   "metadata": {},
   "source": [
    "<font color=#61BEB0>**Number of Stop Words:**</font>"
   ]
  },
  {
   "cell_type": "code",
   "execution_count": 15,
   "metadata": {},
   "outputs": [
    {
     "data": {
      "text/html": [
       "<div>\n",
       "<style scoped>\n",
       "    .dataframe tbody tr th:only-of-type {\n",
       "        vertical-align: middle;\n",
       "    }\n",
       "\n",
       "    .dataframe tbody tr th {\n",
       "        vertical-align: top;\n",
       "    }\n",
       "\n",
       "    .dataframe thead th {\n",
       "        text-align: right;\n",
       "    }\n",
       "</style>\n",
       "<table border=\"1\" class=\"dataframe\">\n",
       "  <thead>\n",
       "    <tr style=\"text-align: right;\">\n",
       "      <th></th>\n",
       "      <th>Review Content</th>\n",
       "      <th>content_stopwords</th>\n",
       "    </tr>\n",
       "  </thead>\n",
       "  <tbody>\n",
       "    <tr>\n",
       "      <th>0</th>\n",
       "      <td>🖨 was easy to install and works great.</td>\n",
       "      <td>3</td>\n",
       "    </tr>\n",
       "    <tr>\n",
       "      <th>1</th>\n",
       "      <td>🔆Slower print speed than what I’m used to (old...</td>\n",
       "      <td>19</td>\n",
       "    </tr>\n",
       "    <tr>\n",
       "      <th>2</th>\n",
       "      <td>𝙻𝚘𝚟𝚎 𝚒𝚝</td>\n",
       "      <td>0</td>\n",
       "    </tr>\n",
       "    <tr>\n",
       "      <th>3</th>\n",
       "      <td>Yup, this printer is a slam dunk. :)What an up...</td>\n",
       "      <td>31</td>\n",
       "    </tr>\n",
       "    <tr>\n",
       "      <th>4</th>\n",
       "      <td>You would think something as simple as reconne...</td>\n",
       "      <td>71</td>\n",
       "    </tr>\n",
       "  </tbody>\n",
       "</table>\n",
       "</div>"
      ],
      "text/plain": [
       "                                      Review Content  content_stopwords\n",
       "0             🖨 was easy to install and works great.                  3\n",
       "1  🔆Slower print speed than what I’m used to (old...                 19\n",
       "2                                            𝙻𝚘𝚟𝚎 𝚒𝚝                  0\n",
       "3  Yup, this printer is a slam dunk. :)What an up...                 31\n",
       "4  You would think something as simple as reconne...                 71"
      ]
     },
     "execution_count": 15,
     "metadata": {},
     "output_type": "execute_result"
    }
   ],
   "source": [
    "# Number of stop words (Review Content)\n",
    "stop = stopwords.words('english')\n",
    "\n",
    "df_raw['content_stopwords'] = df_raw['Review Content'].apply(lambda x: len([x for x in x.split() if x in stop]))\n",
    "df_raw[['Review Content','content_stopwords']].head()"
   ]
  },
  {
   "cell_type": "code",
   "execution_count": 16,
   "metadata": {},
   "outputs": [
    {
     "data": {
      "text/html": [
       "<div>\n",
       "<style scoped>\n",
       "    .dataframe tbody tr th:only-of-type {\n",
       "        vertical-align: middle;\n",
       "    }\n",
       "\n",
       "    .dataframe tbody tr th {\n",
       "        vertical-align: top;\n",
       "    }\n",
       "\n",
       "    .dataframe thead th {\n",
       "        text-align: right;\n",
       "    }\n",
       "</style>\n",
       "<table border=\"1\" class=\"dataframe\">\n",
       "  <thead>\n",
       "    <tr style=\"text-align: right;\">\n",
       "      <th></th>\n",
       "      <th>Review title</th>\n",
       "      <th>title_stopwords</th>\n",
       "    </tr>\n",
       "  </thead>\n",
       "  <tbody>\n",
       "    <tr>\n",
       "      <th>0</th>\n",
       "      <td>Works great</td>\n",
       "      <td>0</td>\n",
       "    </tr>\n",
       "    <tr>\n",
       "      <th>1</th>\n",
       "      <td>spunky mid size printer</td>\n",
       "      <td>0</td>\n",
       "    </tr>\n",
       "    <tr>\n",
       "      <th>2</th>\n",
       "      <td>𝙲𝚕𝚎𝚊𝚛 𝚙𝚛𝚒𝚗𝚝𝚜</td>\n",
       "      <td>0</td>\n",
       "    </tr>\n",
       "    <tr>\n",
       "      <th>3</th>\n",
       "      <td>Shaq knows what he's talking about</td>\n",
       "      <td>2</td>\n",
       "    </tr>\n",
       "    <tr>\n",
       "      <th>4</th>\n",
       "      <td>Not User Friendly</td>\n",
       "      <td>0</td>\n",
       "    </tr>\n",
       "  </tbody>\n",
       "</table>\n",
       "</div>"
      ],
      "text/plain": [
       "                         Review title  title_stopwords\n",
       "0                         Works great                0\n",
       "1             spunky mid size printer                0\n",
       "2                        𝙲𝚕𝚎𝚊𝚛 𝚙𝚛𝚒𝚗𝚝𝚜                0\n",
       "3  Shaq knows what he's talking about                2\n",
       "4                   Not User Friendly                0"
      ]
     },
     "execution_count": 16,
     "metadata": {},
     "output_type": "execute_result"
    }
   ],
   "source": [
    "# Number of stop words (Review title)\n",
    "stop = stopwords.words('english')\n",
    "\n",
    "df_raw['title_stopwords'] = df_raw['Review title'].apply(lambda x: len([x for x in x.split() if x in stop]))\n",
    "df_raw[['Review title','title_stopwords']].head()"
   ]
  },
  {
   "cell_type": "markdown",
   "metadata": {},
   "source": [
    "#### <font color=#FFB703> **Text Pre-Processing** </font>"
   ]
  },
  {
   "cell_type": "markdown",
   "metadata": {},
   "source": [
    "<font color=#61BEB0>**Brand Extraction:**</font>"
   ]
  },
  {
   "cell_type": "code",
   "execution_count": 17,
   "metadata": {},
   "outputs": [
    {
     "data": {
      "text/html": [
       "<div>\n",
       "<style scoped>\n",
       "    .dataframe tbody tr th:only-of-type {\n",
       "        vertical-align: middle;\n",
       "    }\n",
       "\n",
       "    .dataframe tbody tr th {\n",
       "        vertical-align: top;\n",
       "    }\n",
       "\n",
       "    .dataframe thead th {\n",
       "        text-align: right;\n",
       "    }\n",
       "</style>\n",
       "<table border=\"1\" class=\"dataframe\">\n",
       "  <thead>\n",
       "    <tr style=\"text-align: right;\">\n",
       "      <th></th>\n",
       "      <th>Brand</th>\n",
       "      <th>Review Model</th>\n",
       "    </tr>\n",
       "  </thead>\n",
       "  <tbody>\n",
       "    <tr>\n",
       "      <th>0</th>\n",
       "      <td>Canon</td>\n",
       "      <td>Canon Pixma TS6420a</td>\n",
       "    </tr>\n",
       "    <tr>\n",
       "      <th>1</th>\n",
       "      <td>HP</td>\n",
       "      <td>HP OfficeJet Pro 9015e</td>\n",
       "    </tr>\n",
       "    <tr>\n",
       "      <th>2</th>\n",
       "      <td>Canon</td>\n",
       "      <td>Canon PIXMA MG3620</td>\n",
       "    </tr>\n",
       "    <tr>\n",
       "      <th>3</th>\n",
       "      <td>Epson</td>\n",
       "      <td>Epson - ET-3830</td>\n",
       "    </tr>\n",
       "    <tr>\n",
       "      <th>4</th>\n",
       "      <td>HP</td>\n",
       "      <td>HP ENVY 6055e</td>\n",
       "    </tr>\n",
       "  </tbody>\n",
       "</table>\n",
       "</div>"
      ],
      "text/plain": [
       "   Brand            Review Model\n",
       "0  Canon     Canon Pixma TS6420a\n",
       "1     HP  HP OfficeJet Pro 9015e\n",
       "2  Canon      Canon PIXMA MG3620\n",
       "3  Epson         Epson - ET-3830\n",
       "4     HP           HP ENVY 6055e"
      ]
     },
     "execution_count": 17,
     "metadata": {},
     "output_type": "execute_result"
    }
   ],
   "source": [
    "df_raw['Brand'] = df_raw['Review Model'].str.split().str[0]\n",
    "df_raw[['Brand', 'Review Model']].head()"
   ]
  },
  {
   "cell_type": "markdown",
   "metadata": {},
   "source": [
    "<font color=#61BEB0>**Lower Casing:**</font>"
   ]
  },
  {
   "cell_type": "code",
   "execution_count": 18,
   "metadata": {},
   "outputs": [
    {
     "data": {
      "text/plain": [
       "0               🖨 was easy to install and works great.\n",
       "1    🔆slower print speed than what i’m used to (old...\n",
       "2                                              𝙻𝚘𝚟𝚎 𝚒𝚝\n",
       "3    yup, this printer is a slam dunk. :)what an up...\n",
       "4    you would think something as simple as reconne...\n",
       "Name: Review Content, dtype: object"
      ]
     },
     "execution_count": 18,
     "metadata": {},
     "output_type": "execute_result"
    }
   ],
   "source": [
    "# Lower casing (Review Content)\n",
    "df_raw[\"Review Content\"] = df_raw[\"Review Content\"].apply(lambda x: \" \".join(x.lower() for x in x.split()))\n",
    "df_raw[\"Review Content\"].head()"
   ]
  },
  {
   "cell_type": "code",
   "execution_count": 19,
   "metadata": {},
   "outputs": [
    {
     "data": {
      "text/plain": [
       "0                           works great\n",
       "1               spunky mid size printer\n",
       "2                          𝙲𝚕𝚎𝚊𝚛 𝚙𝚛𝚒𝚗𝚝𝚜\n",
       "3    shaq knows what he's talking about\n",
       "4                     not user friendly\n",
       "Name: Review title, dtype: object"
      ]
     },
     "execution_count": 19,
     "metadata": {},
     "output_type": "execute_result"
    }
   ],
   "source": [
    "# Lower casing (Review title)\n",
    "df_raw['Review title'] = df_raw['Review title'].apply(lambda x: \" \".join(x.lower() for x in x.split()))\n",
    "df_raw['Review title'].head()"
   ]
  },
  {
   "cell_type": "markdown",
   "metadata": {},
   "source": [
    "<font color=#61BEB0>**Removing Punctuation:**</font>"
   ]
  },
  {
   "cell_type": "code",
   "execution_count": 20,
   "metadata": {},
   "outputs": [
    {
     "data": {
      "text/plain": [
       "0               🖨 was easy to install and works great.\n",
       "1    🔆slower print speed than what i’m used to (old...\n",
       "2                                              𝙻𝚘𝚟𝚎 𝚒𝚝\n",
       "3    yup, this printer is a slam dunk. :)what an up...\n",
       "4    you would think something as simple as reconne...\n",
       "5          you won't be disappointed with this printer\n",
       "6    you will spend hours of your time plugging unp...\n",
       "7    you will get very poor quality black and white...\n",
       "8    you use an app for setup. not much to explain ...\n",
       "9    you need to install this without using the hp ...\n",
       "Name: Review Content, dtype: object"
      ]
     },
     "execution_count": 20,
     "metadata": {},
     "output_type": "execute_result"
    }
   ],
   "source": [
    "# Replace / with spaces (Review Content)\n",
    "df_raw['Review Content'] = df_raw['Review Content'].str.replace('/',' ', regex=True)\n",
    "df_raw['Review Content'].head(10)"
   ]
  },
  {
   "cell_type": "code",
   "execution_count": 21,
   "metadata": {},
   "outputs": [
    {
     "data": {
      "text/plain": [
       "0                           works great\n",
       "1               spunky mid size printer\n",
       "2                          𝙲𝚕𝚎𝚊𝚛 𝚙𝚛𝚒𝚗𝚝𝚜\n",
       "3    shaq knows what he's talking about\n",
       "4                     not user friendly\n",
       "Name: Review title, dtype: object"
      ]
     },
     "execution_count": 21,
     "metadata": {},
     "output_type": "execute_result"
    }
   ],
   "source": [
    "# Replace / with spaces (Review title)\n",
    "df_raw['Review title'] = df_raw['Review title'].str.replace('/',' ', regex=True)\n",
    "df_raw['Review title'].head()"
   ]
  },
  {
   "cell_type": "code",
   "execution_count": 22,
   "metadata": {},
   "outputs": [
    {
     "data": {
      "text/plain": [
       "0             🖨 was easy to install and works great . \n",
       "1    🔆slower print speed than what i’m used to (old...\n",
       "2                                              𝙻𝚘𝚟𝚎 𝚒𝚝\n",
       "3    yup, this printer is a slam dunk .  :)what an ...\n",
       "4    you would think something as simple as reconne...\n",
       "Name: Review Content, dtype: object"
      ]
     },
     "execution_count": 22,
     "metadata": {},
     "output_type": "execute_result"
    }
   ],
   "source": [
    "# mark each sentence end with \" . \" to facilitate sentence separation later without affecting word removal\n",
    "df_raw['Review Content']  = df_raw['Review Content'].str.replace('[\\.\\?!]+',' . ', regex=True)\n",
    "df_raw['Review Content'].head()"
   ]
  },
  {
   "cell_type": "code",
   "execution_count": 23,
   "metadata": {},
   "outputs": [
    {
     "data": {
      "text/plain": [
       "0               was easy to install and works great . \n",
       "1    slower print speed than what im used to old mo...\n",
       "2                                              𝙻𝚘𝚟𝚎 𝚒𝚝\n",
       "3    yup this printer is a slam dunk .  what an upg...\n",
       "4    you would think something as simple as reconne...\n",
       "Name: Review Content, dtype: object"
      ]
     },
     "execution_count": 23,
     "metadata": {},
     "output_type": "execute_result"
    }
   ],
   "source": [
    "# Removing punctuation except sentence ends (Review Content)\n",
    "df_raw['Review Content'] = df_raw['Review Content'].str.replace('[^\\w\\s\\.]','', regex=True)\n",
    "df_raw['Review Content'].head()"
   ]
  },
  {
   "cell_type": "code",
   "execution_count": 24,
   "metadata": {},
   "outputs": [
    {
     "data": {
      "text/plain": [
       "0                          works great\n",
       "1              spunky mid size printer\n",
       "2                         𝙲𝚕𝚎𝚊𝚛 𝚙𝚛𝚒𝚗𝚝𝚜\n",
       "3    shaq knows what hes talking about\n",
       "4                    not user friendly\n",
       "Name: Review title, dtype: object"
      ]
     },
     "execution_count": 24,
     "metadata": {},
     "output_type": "execute_result"
    }
   ],
   "source": [
    "# Removing punctuation (Review title)\n",
    "df_raw['Review title'] = df_raw['Review title'].str.replace('[^\\w\\s]','', regex=True)\n",
    "df_raw['Review title'].head()"
   ]
  },
  {
   "cell_type": "markdown",
   "metadata": {},
   "source": [
    "<font color=#61BEB0>**Removal of Stop Words:**</font>"
   ]
  },
  {
   "cell_type": "code",
   "execution_count": 25,
   "metadata": {},
   "outputs": [
    {
     "data": {
      "text/plain": [
       "0                           easy install works great .\n",
       "1    slower print speed im used old model . hpojpro...\n",
       "2                                              𝙻𝚘𝚟𝚎 𝚒𝚝\n",
       "3    yup printer slam dunk . upgrade . paid little ...\n",
       "4    would think something simple reconnecting wifi...\n",
       "Name: Review Content, dtype: object"
      ]
     },
     "execution_count": 25,
     "metadata": {},
     "output_type": "execute_result"
    }
   ],
   "source": [
    "# Removal of stop words (Review Content)\n",
    "stop = stopwords.words('english')\n",
    "df_raw['Review Content'] = df_raw['Review Content'].apply(lambda x: \" \".join(x for x in x.split() if x not in stop))\n",
    "df_raw['Review Content'].head()"
   ]
  },
  {
   "cell_type": "code",
   "execution_count": 26,
   "metadata": {},
   "outputs": [
    {
     "data": {
      "text/plain": [
       "0                works great\n",
       "1    spunky mid size printer\n",
       "2               𝙲𝚕𝚎𝚊𝚛 𝚙𝚛𝚒𝚗𝚝𝚜\n",
       "3     shaq knows hes talking\n",
       "4              user friendly\n",
       "Name: Review title, dtype: object"
      ]
     },
     "execution_count": 26,
     "metadata": {},
     "output_type": "execute_result"
    }
   ],
   "source": [
    "# Removal of stop words (Review title)\n",
    "stop = stopwords.words('english')\n",
    "df_raw['Review title'] = df_raw['Review title'].apply(lambda x: \" \".join(x for x in x.split() if x not in stop))\n",
    "df_raw['Review title'].head()"
   ]
  },
  {
   "cell_type": "markdown",
   "metadata": {},
   "source": [
    "<font color=#61BEB0>**Spelling Correction:**</font>"
   ]
  },
  {
   "cell_type": "code",
   "execution_count": 27,
   "metadata": {},
   "outputs": [],
   "source": [
    "spell=SpellChecker()"
   ]
  },
  {
   "cell_type": "code",
   "execution_count": 28,
   "metadata": {},
   "outputs": [
    {
     "name": "stdout",
     "output_type": "stream",
     "text": [
      "                word  count\n",
      "1                 hp   2737\n",
      "13             epson   1050\n",
      "12            doesnt    937\n",
      "38             didnt    733\n",
      "30             youre    304\n",
      "...              ...    ...\n",
      "2154   drawbacksonly      1\n",
      "2155  perkssupported      1\n",
      "2156            pide      1\n",
      "2157       necesitas      1\n",
      "5121            5day      1\n",
      "\n",
      "[5122 rows x 2 columns]\n"
     ]
    }
   ],
   "source": [
    "#find commonly misspelled words\n",
    "misspelled = {}\n",
    "for i in df_raw['Review Content']:\n",
    "    unknown = spell.unknown(i.split())\n",
    "    for j in unknown:\n",
    "        misspelled[j] = misspelled.get(j, 0) + 1\n",
    "\n",
    "errors = pd.DataFrame(list(misspelled.items()), columns= ['word','count']).sort_values('count', ascending=False)\n",
    "\n",
    "print(errors)"
   ]
  },
  {
   "cell_type": "code",
   "execution_count": 29,
   "metadata": {},
   "outputs": [
    {
     "name": "stdout",
     "output_type": "stream",
     "text": [
      "                     word  count\n",
      "1                      hp   2737\n",
      "13                  epson   1050\n",
      "12                 doesnt    937\n",
      "38                  didnt    733\n",
      "30                  youre    304\n",
      "56                  wasnt    303\n",
      "10                   isnt    298\n",
      "15                     pc    235\n",
      "69               allinone    170\n",
      "20                    hps    166\n",
      "141                inkjet    138\n",
      "166                 pixma    123\n",
      "198               ecotank    110\n",
      "92              officejet    106\n",
      "64                    3rd     95\n",
      "182                   pdf     81\n",
      "50                 theyre     78\n",
      "26               shouldnt     72\n",
      "144                     x     70\n",
      "27                macbook     68\n",
      "6                      bw     67\n",
      "77                    2nd     65\n",
      "17                     xl     64\n",
      "19                    adf     64\n",
      "33                   thru     64\n",
      "187                epsons     62\n",
      "28                      w     61\n",
      "276                    cd     59\n",
      "175                 hasnt     53\n",
      "76             chromebook     52\n",
      "332           doublesided     50\n",
      "193               deskjet     48\n",
      "73               twosided     48\n",
      "21               airprint     47\n",
      "39             refillable     46\n",
      "162                     b     46\n",
      "18                    lcd     44\n",
      "0                   9015e     41\n",
      "124                    5g     40\n",
      "116                    qr     36\n",
      "90                 2sided     35\n",
      "66              everytime     35\n",
      "126                   btw     35\n",
      "22                   alot     35\n",
      "385         selectedaudio     34\n",
      "396  videoplaymutecurrent     34\n",
      "395               0stream     34\n",
      "394            1xplayback     34\n",
      "398             000loaded     34\n",
      "393     liveliveremaining     34\n"
     ]
    }
   ],
   "source": [
    "print(errors[:50])"
   ]
  },
  {
   "cell_type": "code",
   "execution_count": 30,
   "metadata": {},
   "outputs": [],
   "source": [
    "#add commonly \"misspelled\" words related to topic\n",
    "spell.word_frequency.load_words(['hp', 'canon', 'epson', \"pixma\", \"officejet\", \"inkjet\", \"laserjet\", \"ios\", \"airprint\", \"pdf\",\n",
    "                                \"deskjet\", \"2sided\", \"refillable\", \"ecotank\", \"macbook\", \"cd\"])"
   ]
  },
  {
   "cell_type": "code",
   "execution_count": 31,
   "metadata": {},
   "outputs": [
    {
     "data": {
      "text/plain": [
       "0                works great\n",
       "1    spunky mid size printer\n",
       "2               𝙲𝚕𝚎𝚊𝚛 𝚙𝚛𝚒𝚗𝚝𝚜\n",
       "3     shag knows hes talking\n",
       "4              user friendly\n",
       "5              great printer\n",
       "6                buy buy buy\n",
       "7      poor quality printing\n",
       "8               instructions\n",
       "9              great printer\n",
       "Name: Review title, dtype: object"
      ]
     },
     "execution_count": 31,
     "metadata": {},
     "output_type": "execute_result"
    }
   ],
   "source": [
    "df_raw['Review title'] = df_raw['Review title'].apply(lambda x: \" \".join([spell.correction(x) if spell.correction(x) else x \n",
    "                                                          for x in x.split()]))\n",
    "df_raw['Review title'].head(10)"
   ]
  },
  {
   "cell_type": "code",
   "execution_count": 32,
   "metadata": {},
   "outputs": [
    {
     "data": {
      "text/plain": [
       "0                           easy install works great .\n",
       "1    slower print speed im used old model . hpojpro...\n",
       "2                                               𝙻𝚘𝚟𝚎 i\n",
       "3    yup printer slam dunk . upgrade . paid little ...\n",
       "4    would think something simple reconnecting wifi...\n",
       "5                            wont disappointed printer\n",
       "6    spend hours time plugging unplugging rebooting...\n",
       "7    get poor quality black white printing copying ...\n",
       "8    use app setup . much explain something isn't w...\n",
       "9    need install without using hp smart app hp sli...\n",
       "Name: Review Content, dtype: object"
      ]
     },
     "execution_count": 32,
     "metadata": {},
     "output_type": "execute_result"
    }
   ],
   "source": [
    "df_raw['Review Content'] = df_raw['Review Content'].apply(lambda x: \" \".join([spell.correction(x) if spell.correction(x) else x \n",
    "                                                          for x in x.split()]))\n",
    "df_raw['Review Content'].head(10)"
   ]
  },
  {
   "cell_type": "code",
   "execution_count": 33,
   "metadata": {},
   "outputs": [],
   "source": [
    "#remove any punctuation that was put back in by spell check\n",
    "df_raw['Review Content'] = df_raw['Review Content'].str.replace('[^\\w\\s\\.]','', regex=True)\n",
    "df_raw['Review title'] = df_raw['Review title'].str.replace('[^\\w\\s]','', regex=True)"
   ]
  },
  {
   "cell_type": "markdown",
   "metadata": {},
   "source": [
    "<font color=#61BEB0>**Removal of Common Words:**</font>"
   ]
  },
  {
   "cell_type": "code",
   "execution_count": 34,
   "metadata": {},
   "outputs": [],
   "source": [
    "# combine title and content to extract common words\n",
    "df_raw[\"Full review\"] = df_raw['Review title'] + ' . ' + df_raw['Review Content']"
   ]
  },
  {
   "cell_type": "code",
   "execution_count": 35,
   "metadata": {},
   "outputs": [
    {
     "data": {
      "text/plain": [
       "0             works great . easy install works great .\n",
       "1    spunky mid size printer . slower print speed i...\n",
       "2                                𝙲𝚕𝚎𝚊𝚛 𝚙𝚛𝚒𝚗𝚝𝚜 . 𝙻𝚘𝚟𝚎 i\n",
       "3    shag knows hes talking . yup printer slam dunk...\n",
       "4    user friendly . would think something simple r...\n",
       "Name: Full review, dtype: object"
      ]
     },
     "execution_count": 35,
     "metadata": {},
     "output_type": "execute_result"
    }
   ],
   "source": [
    "df_raw[\"Full review\"].head()"
   ]
  },
  {
   "cell_type": "code",
   "execution_count": 39,
   "metadata": {},
   "outputs": [
    {
     "data": {
      "text/plain": [
       ".           71736\n",
       "printer     19526\n",
       "ink          8139\n",
       "print        7606\n",
       "hp           6472\n",
       "use          3677\n",
       "one          3636\n",
       "paper        3518\n",
       "printing     3374\n",
       "set          3236\n",
       "get          3164\n",
       "Name: count, dtype: int64"
      ]
     },
     "execution_count": 39,
     "metadata": {},
     "output_type": "execute_result"
    }
   ],
   "source": [
    "# Extract common words from full review\n",
    "freq = pd.Series(' '.join(df_raw['Full review']).split()).value_counts()[:11]\n",
    "freq"
   ]
  },
  {
   "cell_type": "code",
   "execution_count": 40,
   "metadata": {},
   "outputs": [
    {
     "data": {
      "text/plain": [
       "printer     19526\n",
       "ink          8139\n",
       "print        7606\n",
       "hp           6472\n",
       "use          3677\n",
       "one          3636\n",
       "paper        3518\n",
       "printing     3374\n",
       "set          3236\n",
       "get          3164\n",
       "Name: count, dtype: int64"
      ]
     },
     "execution_count": 40,
     "metadata": {},
     "output_type": "execute_result"
    }
   ],
   "source": [
    "# exclude ' . ' which we still need for sentence level split later and add brand names\n",
    "freq= freq[1:]\n",
    "freq"
   ]
  },
  {
   "cell_type": "code",
   "execution_count": 41,
   "metadata": {},
   "outputs": [
    {
     "data": {
      "text/plain": [
       "0                           easy install works great .\n",
       "1    slower speed im used old model . hpojpro . 860...\n",
       "2                                               𝙻𝚘𝚟𝚎 i\n",
       "3    yup slam dunk . upgrade . paid little front eq...\n",
       "4    would think something simple reconnecting wifi...\n",
       "Name: Review Content, dtype: object"
      ]
     },
     "execution_count": 41,
     "metadata": {},
     "output_type": "execute_result"
    }
   ],
   "source": [
    "# Remove common words from content\n",
    "freq = list(freq.index)\n",
    "freq.append([\"canon\", \"epson\"])\n",
    "df_raw['Review Content'] = df_raw['Review Content'].apply(lambda x: \" \".join(x for x in x.split() if x not in freq))\n",
    "df_raw['Review Content'].head()"
   ]
  },
  {
   "cell_type": "code",
   "execution_count": 42,
   "metadata": {},
   "outputs": [
    {
     "data": {
      "text/plain": [
       "0               works great\n",
       "1           spunky mid size\n",
       "2              𝙲𝚕𝚎𝚊𝚛 𝚙𝚛𝚒𝚗𝚝𝚜\n",
       "3    shag knows hes talking\n",
       "4             user friendly\n",
       "Name: Review title, dtype: object"
      ]
     },
     "execution_count": 42,
     "metadata": {},
     "output_type": "execute_result"
    }
   ],
   "source": [
    "# Remove common words from title\n",
    "df_raw['Review title'] = df_raw['Review title'].apply(lambda x: \" \".join(x for x in x.split() if x not in freq))\n",
    "df_raw['Review title'].head()"
   ]
  },
  {
   "cell_type": "markdown",
   "metadata": {},
   "source": [
    "<font color=#61BEB0>**Removal of Rare Words:**</font>"
   ]
  },
  {
   "cell_type": "code",
   "execution_count": 43,
   "metadata": {},
   "outputs": [],
   "source": [
    "# Extract rare words from full review (count=1)\n",
    "freq = pd.Series(' '.join(df_raw['Full review']).split()).value_counts()\n",
    "freq = freq.loc[lambda x : (x ==1)]"
   ]
  },
  {
   "cell_type": "code",
   "execution_count": 44,
   "metadata": {},
   "outputs": [
    {
     "data": {
      "text/plain": [
       "0                           easy install works great .\n",
       "1    slower speed im used old model . . 8600 new 90...\n",
       "2                                                    i\n",
       "3    yup slam . upgrade . paid little front equival...\n",
       "4    would think something simple reconnecting wifi...\n",
       "Name: Review Content, dtype: object"
      ]
     },
     "execution_count": 44,
     "metadata": {},
     "output_type": "execute_result"
    }
   ],
   "source": [
    "freq = list(freq.index)\n",
    "df_raw['Review Content'] = df_raw['Review Content'].apply(lambda x: \" \".join(x for x in x.split() if x not in freq))\n",
    "df_raw['Review Content'].head()"
   ]
  },
  {
   "cell_type": "code",
   "execution_count": 45,
   "metadata": {},
   "outputs": [
    {
     "data": {
      "text/plain": [
       "0               works great\n",
       "1           spunky mid size\n",
       "2                          \n",
       "3    shag knows hes talking\n",
       "4             user friendly\n",
       "Name: Review title, dtype: object"
      ]
     },
     "execution_count": 45,
     "metadata": {},
     "output_type": "execute_result"
    }
   ],
   "source": [
    "df_raw['Review title'] = df_raw['Review title'].apply(lambda x: \" \".join(x for x in x.split() if x not in freq))\n",
    "df_raw['Review title'].head()"
   ]
  },
  {
   "cell_type": "code",
   "execution_count": 46,
   "metadata": {},
   "outputs": [
    {
     "data": {
      "text/plain": [
       "0             works great . easy install works great .\n",
       "1    spunky mid size printer . slower print speed i...\n",
       "2                                                  . i\n",
       "3    shag knows hes talking . yup printer slam . up...\n",
       "4    user friendly . would think something simple r...\n",
       "Name: Full review, dtype: object"
      ]
     },
     "execution_count": 46,
     "metadata": {},
     "output_type": "execute_result"
    }
   ],
   "source": [
    "df_raw['Full review'] = df_raw['Full review'].apply(lambda x: \" \".join(x for x in x.split() if x not in freq))\n",
    "df_raw['Full review'].head()"
   ]
  },
  {
   "cell_type": "markdown",
   "metadata": {},
   "source": [
    "<font color=#61BEB0>**Stemming:**</font>"
   ]
  },
  {
   "cell_type": "code",
   "execution_count": 47,
   "metadata": {},
   "outputs": [
    {
     "data": {
      "text/plain": [
       "0                             easi instal work great .\n",
       "1    slower speed im use old model . . 8600 new 901...\n",
       "2                                                    i\n",
       "3    yup slam . upgrad . paid littl front equival t...\n",
       "4    would think someth simpl reconnect wifi would ...\n",
       "Name: Review Content, dtype: object"
      ]
     },
     "execution_count": 47,
     "metadata": {},
     "output_type": "execute_result"
    }
   ],
   "source": [
    "# Stemming (Review Content)\n",
    "st = PorterStemmer()\n",
    "df_raw['Review Content']= df_raw['Review Content'].apply(lambda x: \" \".join([st.stem(word) for word in x.split()]))\n",
    "df_raw['Review Content'].head()"
   ]
  },
  {
   "cell_type": "code",
   "execution_count": 48,
   "metadata": {},
   "outputs": [],
   "source": [
    "# Stemming (Review title)\n",
    "st = PorterStemmer()\n",
    "df_raw['Review title']=df_raw['Review title'].apply(lambda x: \" \".join([st.stem(word) for word in x.split()]))"
   ]
  },
  {
   "cell_type": "markdown",
   "metadata": {},
   "source": [
    "<font color=#61BEB0>**Combine Title and Review:**</font>"
   ]
  },
  {
   "cell_type": "code",
   "execution_count": 49,
   "metadata": {},
   "outputs": [],
   "source": [
    "# combine title and content to extract common words\n",
    "df_raw[\"Full review\"] = df_raw['Review title'] + ' . ' + df_raw['Review Content']"
   ]
  },
  {
   "cell_type": "markdown",
   "metadata": {},
   "source": [
    "<font color=#61BEB0>**Export data files:**</font>"
   ]
  },
  {
   "cell_type": "code",
   "execution_count": 50,
   "metadata": {},
   "outputs": [],
   "source": [
    "# create unique ID for each row\n",
    "df_raw['ID'] = df_raw.index + 1"
   ]
  },
  {
   "cell_type": "code",
   "execution_count": 52,
   "metadata": {},
   "outputs": [],
   "source": [
    "# remove sentence separators and export\n",
    "df_fullrev = df_raw.copy(deep=True)\n",
    "df_fullrev['Review Content'] = df_fullrev['Review Content'].str.replace(' \\.','', regex=True)\n",
    "df_fullrev['Full review'] = df_fullrev['Full review'].str.replace(' \\.','', regex=True)\n",
    "\n",
    "df_fullrev.to_excel('amazon_review_processed_full.xlsx', index=False)"
   ]
  },
  {
   "cell_type": "code",
   "execution_count": 53,
   "metadata": {},
   "outputs": [],
   "source": [
    "# break reviews into list of sentences\n",
    "df_sents = df_raw.copy(deep=True)\n",
    "df_sents[\"Review Content\"]= df_sents[\"Review Content\"].apply(lambda x: list(filter(None, x.split(\" .\"))))\n",
    "df_sents[\"Full review\"]= df_sents[\"Full review\"].apply(lambda x: list(filter(None, x.split(\" .\"))))"
   ]
  },
  {
   "cell_type": "code",
   "execution_count": 54,
   "metadata": {},
   "outputs": [
    {
     "data": {
      "text/html": [
       "<div>\n",
       "<style scoped>\n",
       "    .dataframe tbody tr th:only-of-type {\n",
       "        vertical-align: middle;\n",
       "    }\n",
       "\n",
       "    .dataframe tbody tr th {\n",
       "        vertical-align: top;\n",
       "    }\n",
       "\n",
       "    .dataframe thead th {\n",
       "        text-align: right;\n",
       "    }\n",
       "</style>\n",
       "<table border=\"1\" class=\"dataframe\">\n",
       "  <thead>\n",
       "    <tr style=\"text-align: right;\">\n",
       "      <th></th>\n",
       "      <th>Review Model</th>\n",
       "      <th>Retailer</th>\n",
       "      <th>Review date</th>\n",
       "      <th>Review name</th>\n",
       "      <th>Review rating</th>\n",
       "      <th>Review title</th>\n",
       "      <th>Review Content</th>\n",
       "      <th>Verified Purchase or not</th>\n",
       "      <th>People_find_helpful</th>\n",
       "      <th>vine or not</th>\n",
       "      <th>...</th>\n",
       "      <th>title_word_count</th>\n",
       "      <th>content_char_count</th>\n",
       "      <th>title_char_count</th>\n",
       "      <th>content_avg_word</th>\n",
       "      <th>title_avg_word</th>\n",
       "      <th>content_stopwords</th>\n",
       "      <th>title_stopwords</th>\n",
       "      <th>Brand</th>\n",
       "      <th>Full review</th>\n",
       "      <th>ID</th>\n",
       "    </tr>\n",
       "  </thead>\n",
       "  <tbody>\n",
       "    <tr>\n",
       "      <th>0</th>\n",
       "      <td>Canon Pixma TS6420a</td>\n",
       "      <td>Amazon</td>\n",
       "      <td>2023-08-10</td>\n",
       "      <td>Ernest Birkholz</td>\n",
       "      <td>5</td>\n",
       "      <td>work great</td>\n",
       "      <td>[easi instal work great]</td>\n",
       "      <td>True</td>\n",
       "      <td>0.0</td>\n",
       "      <td>False</td>\n",
       "      <td>...</td>\n",
       "      <td>2</td>\n",
       "      <td>38</td>\n",
       "      <td>11</td>\n",
       "      <td>3.875000</td>\n",
       "      <td>5.000000</td>\n",
       "      <td>3</td>\n",
       "      <td>0</td>\n",
       "      <td>Canon</td>\n",
       "      <td>work great</td>\n",
       "      <td>1</td>\n",
       "    </tr>\n",
       "    <tr>\n",
       "      <th>0</th>\n",
       "      <td>Canon Pixma TS6420a</td>\n",
       "      <td>Amazon</td>\n",
       "      <td>2023-08-10</td>\n",
       "      <td>Ernest Birkholz</td>\n",
       "      <td>5</td>\n",
       "      <td>work great</td>\n",
       "      <td>[easi instal work great]</td>\n",
       "      <td>True</td>\n",
       "      <td>0.0</td>\n",
       "      <td>False</td>\n",
       "      <td>...</td>\n",
       "      <td>2</td>\n",
       "      <td>38</td>\n",
       "      <td>11</td>\n",
       "      <td>3.875000</td>\n",
       "      <td>5.000000</td>\n",
       "      <td>3</td>\n",
       "      <td>0</td>\n",
       "      <td>Canon</td>\n",
       "      <td>easi instal work great</td>\n",
       "      <td>1</td>\n",
       "    </tr>\n",
       "    <tr>\n",
       "      <th>1</th>\n",
       "      <td>HP OfficeJet Pro 9015e</td>\n",
       "      <td>Amazon</td>\n",
       "      <td>2022-06-04</td>\n",
       "      <td>mattey</td>\n",
       "      <td>3</td>\n",
       "      <td>spunki mid size</td>\n",
       "      <td>[slower speed im use old model,  8600 new 9015...</td>\n",
       "      <td>True</td>\n",
       "      <td>0.0</td>\n",
       "      <td>False</td>\n",
       "      <td>...</td>\n",
       "      <td>4</td>\n",
       "      <td>460</td>\n",
       "      <td>23</td>\n",
       "      <td>4.835443</td>\n",
       "      <td>5.000000</td>\n",
       "      <td>19</td>\n",
       "      <td>0</td>\n",
       "      <td>HP</td>\n",
       "      <td>spunki mid size</td>\n",
       "      <td>2</td>\n",
       "    </tr>\n",
       "    <tr>\n",
       "      <th>1</th>\n",
       "      <td>HP OfficeJet Pro 9015e</td>\n",
       "      <td>Amazon</td>\n",
       "      <td>2022-06-04</td>\n",
       "      <td>mattey</td>\n",
       "      <td>3</td>\n",
       "      <td>spunki mid size</td>\n",
       "      <td>[slower speed im use old model,  8600 new 9015...</td>\n",
       "      <td>True</td>\n",
       "      <td>0.0</td>\n",
       "      <td>False</td>\n",
       "      <td>...</td>\n",
       "      <td>4</td>\n",
       "      <td>460</td>\n",
       "      <td>23</td>\n",
       "      <td>4.835443</td>\n",
       "      <td>5.000000</td>\n",
       "      <td>19</td>\n",
       "      <td>0</td>\n",
       "      <td>HP</td>\n",
       "      <td>slower speed im use old model</td>\n",
       "      <td>2</td>\n",
       "    </tr>\n",
       "    <tr>\n",
       "      <th>1</th>\n",
       "      <td>HP OfficeJet Pro 9015e</td>\n",
       "      <td>Amazon</td>\n",
       "      <td>2022-06-04</td>\n",
       "      <td>mattey</td>\n",
       "      <td>3</td>\n",
       "      <td>spunki mid size</td>\n",
       "      <td>[slower speed im use old model,  8600 new 9015...</td>\n",
       "      <td>True</td>\n",
       "      <td>0.0</td>\n",
       "      <td>False</td>\n",
       "      <td>...</td>\n",
       "      <td>4</td>\n",
       "      <td>460</td>\n",
       "      <td>23</td>\n",
       "      <td>4.835443</td>\n",
       "      <td>5.000000</td>\n",
       "      <td>19</td>\n",
       "      <td>0</td>\n",
       "      <td>HP</td>\n",
       "      <td>8600 new 9015e sound like break apart insid</td>\n",
       "      <td>2</td>\n",
       "    </tr>\n",
       "    <tr>\n",
       "      <th>1</th>\n",
       "      <td>HP OfficeJet Pro 9015e</td>\n",
       "      <td>Amazon</td>\n",
       "      <td>2022-06-04</td>\n",
       "      <td>mattey</td>\n",
       "      <td>3</td>\n",
       "      <td>spunki mid size</td>\n",
       "      <td>[slower speed im use old model,  8600 new 9015...</td>\n",
       "      <td>True</td>\n",
       "      <td>0.0</td>\n",
       "      <td>False</td>\n",
       "      <td>...</td>\n",
       "      <td>4</td>\n",
       "      <td>460</td>\n",
       "      <td>23</td>\n",
       "      <td>4.835443</td>\n",
       "      <td>5.000000</td>\n",
       "      <td>19</td>\n",
       "      <td>0</td>\n",
       "      <td>HP</td>\n",
       "      <td>setup annoyingli complex luckili research wat...</td>\n",
       "      <td>2</td>\n",
       "    </tr>\n",
       "    <tr>\n",
       "      <th>2</th>\n",
       "      <td>Canon PIXMA MG3620</td>\n",
       "      <td>Amazon</td>\n",
       "      <td>2023-03-15</td>\n",
       "      <td>Maria D</td>\n",
       "      <td>4</td>\n",
       "      <td></td>\n",
       "      <td>[i]</td>\n",
       "      <td>True</td>\n",
       "      <td>0.0</td>\n",
       "      <td>False</td>\n",
       "      <td>...</td>\n",
       "      <td>2</td>\n",
       "      <td>7</td>\n",
       "      <td>12</td>\n",
       "      <td>3.000000</td>\n",
       "      <td>5.500000</td>\n",
       "      <td>0</td>\n",
       "      <td>0</td>\n",
       "      <td>Canon</td>\n",
       "      <td>i</td>\n",
       "      <td>3</td>\n",
       "    </tr>\n",
       "    <tr>\n",
       "      <th>3</th>\n",
       "      <td>Epson - ET-3830</td>\n",
       "      <td>Amazon</td>\n",
       "      <td>2022-11-17</td>\n",
       "      <td>Ryan H</td>\n",
       "      <td>5</td>\n",
       "      <td>shag know he talk</td>\n",
       "      <td>[yup slam,  upgrad,  paid littl front equival ...</td>\n",
       "      <td>True</td>\n",
       "      <td>12.0</td>\n",
       "      <td>False</td>\n",
       "      <td>...</td>\n",
       "      <td>6</td>\n",
       "      <td>469</td>\n",
       "      <td>34</td>\n",
       "      <td>4.595238</td>\n",
       "      <td>4.833333</td>\n",
       "      <td>31</td>\n",
       "      <td>2</td>\n",
       "      <td>Epson</td>\n",
       "      <td>shag know he talk</td>\n",
       "      <td>4</td>\n",
       "    </tr>\n",
       "    <tr>\n",
       "      <th>3</th>\n",
       "      <td>Epson - ET-3830</td>\n",
       "      <td>Amazon</td>\n",
       "      <td>2022-11-17</td>\n",
       "      <td>Ryan H</td>\n",
       "      <td>5</td>\n",
       "      <td>shag know he talk</td>\n",
       "      <td>[yup slam,  upgrad,  paid littl front equival ...</td>\n",
       "      <td>True</td>\n",
       "      <td>12.0</td>\n",
       "      <td>False</td>\n",
       "      <td>...</td>\n",
       "      <td>6</td>\n",
       "      <td>469</td>\n",
       "      <td>34</td>\n",
       "      <td>4.595238</td>\n",
       "      <td>4.833333</td>\n",
       "      <td>31</td>\n",
       "      <td>2</td>\n",
       "      <td>Epson</td>\n",
       "      <td>yup slam</td>\n",
       "      <td>4</td>\n",
       "    </tr>\n",
       "    <tr>\n",
       "      <th>3</th>\n",
       "      <td>Epson - ET-3830</td>\n",
       "      <td>Amazon</td>\n",
       "      <td>2022-11-17</td>\n",
       "      <td>Ryan H</td>\n",
       "      <td>5</td>\n",
       "      <td>shag know he talk</td>\n",
       "      <td>[yup slam,  upgrad,  paid littl front equival ...</td>\n",
       "      <td>True</td>\n",
       "      <td>12.0</td>\n",
       "      <td>False</td>\n",
       "      <td>...</td>\n",
       "      <td>6</td>\n",
       "      <td>469</td>\n",
       "      <td>34</td>\n",
       "      <td>4.595238</td>\n",
       "      <td>4.833333</td>\n",
       "      <td>31</td>\n",
       "      <td>2</td>\n",
       "      <td>Epson</td>\n",
       "      <td>upgrad</td>\n",
       "      <td>4</td>\n",
       "    </tr>\n",
       "  </tbody>\n",
       "</table>\n",
       "<p>10 rows × 27 columns</p>\n",
       "</div>"
      ],
      "text/plain": [
       "             Review Model Retailer Review date      Review name  \\\n",
       "0     Canon Pixma TS6420a   Amazon  2023-08-10  Ernest Birkholz   \n",
       "0     Canon Pixma TS6420a   Amazon  2023-08-10  Ernest Birkholz   \n",
       "1  HP OfficeJet Pro 9015e   Amazon  2022-06-04           mattey   \n",
       "1  HP OfficeJet Pro 9015e   Amazon  2022-06-04           mattey   \n",
       "1  HP OfficeJet Pro 9015e   Amazon  2022-06-04           mattey   \n",
       "1  HP OfficeJet Pro 9015e   Amazon  2022-06-04           mattey   \n",
       "2      Canon PIXMA MG3620   Amazon  2023-03-15          Maria D   \n",
       "3         Epson - ET-3830   Amazon  2022-11-17           Ryan H   \n",
       "3         Epson - ET-3830   Amazon  2022-11-17           Ryan H   \n",
       "3         Epson - ET-3830   Amazon  2022-11-17           Ryan H   \n",
       "\n",
       "   Review rating       Review title  \\\n",
       "0              5         work great   \n",
       "0              5         work great   \n",
       "1              3    spunki mid size   \n",
       "1              3    spunki mid size   \n",
       "1              3    spunki mid size   \n",
       "1              3    spunki mid size   \n",
       "2              4                      \n",
       "3              5  shag know he talk   \n",
       "3              5  shag know he talk   \n",
       "3              5  shag know he talk   \n",
       "\n",
       "                                      Review Content  \\\n",
       "0                           [easi instal work great]   \n",
       "0                           [easi instal work great]   \n",
       "1  [slower speed im use old model,  8600 new 9015...   \n",
       "1  [slower speed im use old model,  8600 new 9015...   \n",
       "1  [slower speed im use old model,  8600 new 9015...   \n",
       "1  [slower speed im use old model,  8600 new 9015...   \n",
       "2                                                [i]   \n",
       "3  [yup slam,  upgrad,  paid littl front equival ...   \n",
       "3  [yup slam,  upgrad,  paid littl front equival ...   \n",
       "3  [yup slam,  upgrad,  paid littl front equival ...   \n",
       "\n",
       "   Verified Purchase or not People_find_helpful  vine or not  ...  \\\n",
       "0                      True                 0.0        False  ...   \n",
       "0                      True                 0.0        False  ...   \n",
       "1                      True                 0.0        False  ...   \n",
       "1                      True                 0.0        False  ...   \n",
       "1                      True                 0.0        False  ...   \n",
       "1                      True                 0.0        False  ...   \n",
       "2                      True                 0.0        False  ...   \n",
       "3                      True                12.0        False  ...   \n",
       "3                      True                12.0        False  ...   \n",
       "3                      True                12.0        False  ...   \n",
       "\n",
       "  title_word_count  content_char_count  title_char_count  content_avg_word  \\\n",
       "0                2                  38                11          3.875000   \n",
       "0                2                  38                11          3.875000   \n",
       "1                4                 460                23          4.835443   \n",
       "1                4                 460                23          4.835443   \n",
       "1                4                 460                23          4.835443   \n",
       "1                4                 460                23          4.835443   \n",
       "2                2                   7                12          3.000000   \n",
       "3                6                 469                34          4.595238   \n",
       "3                6                 469                34          4.595238   \n",
       "3                6                 469                34          4.595238   \n",
       "\n",
       "  title_avg_word content_stopwords  title_stopwords  Brand  \\\n",
       "0       5.000000                 3                0  Canon   \n",
       "0       5.000000                 3                0  Canon   \n",
       "1       5.000000                19                0     HP   \n",
       "1       5.000000                19                0     HP   \n",
       "1       5.000000                19                0     HP   \n",
       "1       5.000000                19                0     HP   \n",
       "2       5.500000                 0                0  Canon   \n",
       "3       4.833333                31                2  Epson   \n",
       "3       4.833333                31                2  Epson   \n",
       "3       4.833333                31                2  Epson   \n",
       "\n",
       "                                         Full review  ID  \n",
       "0                                         work great   1  \n",
       "0                             easi instal work great   1  \n",
       "1                                    spunki mid size   2  \n",
       "1                      slower speed im use old model   2  \n",
       "1        8600 new 9015e sound like break apart insid   2  \n",
       "1   setup annoyingli complex luckili research wat...   2  \n",
       "2                                                  i   3  \n",
       "3                                  shag know he talk   4  \n",
       "3                                           yup slam   4  \n",
       "3                                             upgrad   4  \n",
       "\n",
       "[10 rows x 27 columns]"
      ]
     },
     "execution_count": 54,
     "metadata": {},
     "output_type": "execute_result"
    }
   ],
   "source": [
    "df_sents1 = df_sents.explode(\"Full review\")\n",
    "df_sents1.head(10)"
   ]
  },
  {
   "cell_type": "code",
   "execution_count": 55,
   "metadata": {},
   "outputs": [],
   "source": [
    "df_sents1.to_excel('amazon_review_processed_sents.xlsx', index=False)"
   ]
  },
  {
   "cell_type": "code",
   "execution_count": null,
   "metadata": {},
   "outputs": [],
   "source": []
  }
 ],
 "metadata": {
  "kernelspec": {
   "display_name": "Python 3 (ipykernel)",
   "language": "python",
   "name": "python3"
  },
  "language_info": {
   "codemirror_mode": {
    "name": "ipython",
    "version": 3
   },
   "file_extension": ".py",
   "mimetype": "text/x-python",
   "name": "python",
   "nbconvert_exporter": "python",
   "pygments_lexer": "ipython3",
   "version": "3.9.16"
  }
 },
 "nbformat": 4,
 "nbformat_minor": 2
}
