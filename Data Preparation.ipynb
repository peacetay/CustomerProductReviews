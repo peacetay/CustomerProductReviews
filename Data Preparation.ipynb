{
 "cells": [
  {
   "cell_type": "markdown",
   "metadata": {},
   "source": [
    "### Data Pre-Processing"
   ]
  },
  {
   "cell_type": "code",
   "execution_count": 2,
   "metadata": {},
   "outputs": [],
   "source": [
    "import numpy as np\n",
    "import pandas as pd\n",
    "import matplotlib.pyplot as plt\n",
    "import seaborn as sns\n",
    "import string\n",
    "import re\n",
    "import nltk\n",
    "\n",
    "from nltk import tokenize\n",
    "from nltk.corpus import stopwords\n",
    "from nltk.stem import WordNetLemmatizer\n",
    "from nltk.probability import FreqDist\n",
    "from sklearn.feature_extraction.text import CountVectorizer"
   ]
  },
  {
   "cell_type": "code",
   "execution_count": 9,
   "metadata": {},
   "outputs": [
    {
     "data": {
      "text/html": [
       "<div>\n",
       "<style scoped>\n",
       "    .dataframe tbody tr th:only-of-type {\n",
       "        vertical-align: middle;\n",
       "    }\n",
       "\n",
       "    .dataframe tbody tr th {\n",
       "        vertical-align: top;\n",
       "    }\n",
       "\n",
       "    .dataframe thead th {\n",
       "        text-align: right;\n",
       "    }\n",
       "</style>\n",
       "<table border=\"1\" class=\"dataframe\">\n",
       "  <thead>\n",
       "    <tr style=\"text-align: right;\">\n",
       "      <th></th>\n",
       "      <th>Review Model</th>\n",
       "      <th>Retailer</th>\n",
       "      <th>Review date</th>\n",
       "      <th>Review name</th>\n",
       "      <th>Review rating</th>\n",
       "      <th>Review title</th>\n",
       "      <th>Review Content</th>\n",
       "      <th>Verified Purchase or not</th>\n",
       "      <th>People_find_helpful</th>\n",
       "      <th>vine or not</th>\n",
       "      <th>URL</th>\n",
       "      <th>list price</th>\n",
       "      <th>rating count</th>\n",
       "      <th>overall rating</th>\n",
       "    </tr>\n",
       "  </thead>\n",
       "  <tbody>\n",
       "    <tr>\n",
       "      <th>0</th>\n",
       "      <td>Canon Pixma TS6420a</td>\n",
       "      <td>Amazon</td>\n",
       "      <td>2023-08-10</td>\n",
       "      <td>Ernest Birkholz</td>\n",
       "      <td>5</td>\n",
       "      <td>Works great</td>\n",
       "      <td>🖨 was easy to install and works great.</td>\n",
       "      <td>Verified Purchase</td>\n",
       "      <td>NaN</td>\n",
       "      <td>NaN</td>\n",
       "      <td>https://www.amazon.com/product-reviews/B09TG52...</td>\n",
       "      <td>129.99</td>\n",
       "      <td>285</td>\n",
       "      <td>4.2</td>\n",
       "    </tr>\n",
       "    <tr>\n",
       "      <th>1</th>\n",
       "      <td>HP OfficeJet Pro 9015e</td>\n",
       "      <td>Amazon</td>\n",
       "      <td>2022-06-04</td>\n",
       "      <td>mattey</td>\n",
       "      <td>3</td>\n",
       "      <td>spunky mid size printer</td>\n",
       "      <td>🔆Slower print speed than what I’m used to (old...</td>\n",
       "      <td>Verified Purchase</td>\n",
       "      <td>NaN</td>\n",
       "      <td>NaN</td>\n",
       "      <td>https://www.amazon.com/product-reviews/B08QR6P...</td>\n",
       "      <td>289.99</td>\n",
       "      <td>285</td>\n",
       "      <td>4.2</td>\n",
       "    </tr>\n",
       "    <tr>\n",
       "      <th>2</th>\n",
       "      <td>Canon PIXMA MG3620</td>\n",
       "      <td>Amazon</td>\n",
       "      <td>2023-03-15</td>\n",
       "      <td>Maria D</td>\n",
       "      <td>4</td>\n",
       "      <td>𝙲𝚕𝚎𝚊𝚛 𝚙𝚛𝚒𝚗𝚝𝚜</td>\n",
       "      <td>𝙻𝚘𝚟𝚎 𝚒𝚝</td>\n",
       "      <td>Verified Purchase</td>\n",
       "      <td>NaN</td>\n",
       "      <td>NaN</td>\n",
       "      <td>https://www.amazon.com/Canon-MG3620-Wireless-P...</td>\n",
       "      <td>79.99</td>\n",
       "      <td>285</td>\n",
       "      <td>4.2</td>\n",
       "    </tr>\n",
       "    <tr>\n",
       "      <th>3</th>\n",
       "      <td>Epson - ET-3830</td>\n",
       "      <td>Amazon</td>\n",
       "      <td>2022-11-17</td>\n",
       "      <td>Ryan H</td>\n",
       "      <td>5</td>\n",
       "      <td>Shaq knows what he's talking about</td>\n",
       "      <td>Yup, this printer is a slam dunk. :)What an up...</td>\n",
       "      <td>Verified Purchase</td>\n",
       "      <td>12.0</td>\n",
       "      <td>NaN</td>\n",
       "      <td>https://www.amazon.com/product-reviews/B096NBP...</td>\n",
       "      <td>399.99</td>\n",
       "      <td>285</td>\n",
       "      <td>4.2</td>\n",
       "    </tr>\n",
       "    <tr>\n",
       "      <th>4</th>\n",
       "      <td>HP ENVY 6055e</td>\n",
       "      <td>Amazon</td>\n",
       "      <td>2022-04-09</td>\n",
       "      <td>Sam</td>\n",
       "      <td>3</td>\n",
       "      <td>Not User Friendly</td>\n",
       "      <td>You would think something as simple as reconne...</td>\n",
       "      <td>Verified Purchase</td>\n",
       "      <td>NaN</td>\n",
       "      <td>NaN</td>\n",
       "      <td>https://www.amazon.com/product-reviews/B08XYRV...</td>\n",
       "      <td>129.99</td>\n",
       "      <td>285</td>\n",
       "      <td>4.2</td>\n",
       "    </tr>\n",
       "  </tbody>\n",
       "</table>\n",
       "</div>"
      ],
      "text/plain": [
       "             Review Model Retailer Review date      Review name  \\\n",
       "0     Canon Pixma TS6420a   Amazon  2023-08-10  Ernest Birkholz   \n",
       "1  HP OfficeJet Pro 9015e   Amazon  2022-06-04           mattey   \n",
       "2      Canon PIXMA MG3620   Amazon  2023-03-15          Maria D   \n",
       "3         Epson - ET-3830   Amazon  2022-11-17           Ryan H   \n",
       "4           HP ENVY 6055e   Amazon  2022-04-09              Sam   \n",
       "\n",
       "   Review rating                        Review title  \\\n",
       "0              5                         Works great   \n",
       "1              3             spunky mid size printer   \n",
       "2              4                        𝙲𝚕𝚎𝚊𝚛 𝚙𝚛𝚒𝚗𝚝𝚜   \n",
       "3              5  Shaq knows what he's talking about   \n",
       "4              3                   Not User Friendly   \n",
       "\n",
       "                                      Review Content Verified Purchase or not  \\\n",
       "0             🖨 was easy to install and works great.        Verified Purchase   \n",
       "1  🔆Slower print speed than what I’m used to (old...        Verified Purchase   \n",
       "2                                            𝙻𝚘𝚟𝚎 𝚒𝚝        Verified Purchase   \n",
       "3  Yup, this printer is a slam dunk. :)What an up...        Verified Purchase   \n",
       "4  You would think something as simple as reconne...        Verified Purchase   \n",
       "\n",
       "   People_find_helpful vine or not  \\\n",
       "0                  NaN         NaN   \n",
       "1                  NaN         NaN   \n",
       "2                  NaN         NaN   \n",
       "3                 12.0         NaN   \n",
       "4                  NaN         NaN   \n",
       "\n",
       "                                                 URL  list price  \\\n",
       "0  https://www.amazon.com/product-reviews/B09TG52...      129.99   \n",
       "1  https://www.amazon.com/product-reviews/B08QR6P...      289.99   \n",
       "2  https://www.amazon.com/Canon-MG3620-Wireless-P...       79.99   \n",
       "3  https://www.amazon.com/product-reviews/B096NBP...      399.99   \n",
       "4  https://www.amazon.com/product-reviews/B08XYRV...      129.99   \n",
       "\n",
       "   rating count  overall rating  \n",
       "0           285             4.2  \n",
       "1           285             4.2  \n",
       "2           285             4.2  \n",
       "3           285             4.2  \n",
       "4           285             4.2  "
      ]
     },
     "execution_count": 9,
     "metadata": {},
     "output_type": "execute_result"
    }
   ],
   "source": [
    "df_raw = pd.read_excel(\"amazon_review.xlsx\")\n",
    "df_raw.head(5)"
   ]
  },
  {
   "cell_type": "code",
   "execution_count": 10,
   "metadata": {},
   "outputs": [
    {
     "name": "stdout",
     "output_type": "stream",
     "text": [
      "<class 'pandas.core.frame.DataFrame'>\n",
      "RangeIndex: 10209 entries, 0 to 10208\n",
      "Data columns (total 14 columns):\n",
      " #   Column                    Non-Null Count  Dtype         \n",
      "---  ------                    --------------  -----         \n",
      " 0   Review Model              10209 non-null  object        \n",
      " 1   Retailer                  10209 non-null  object        \n",
      " 2   Review date               10209 non-null  datetime64[ns]\n",
      " 3   Review name               10152 non-null  object        \n",
      " 4   Review rating             10209 non-null  int64         \n",
      " 5   Review title              10028 non-null  object        \n",
      " 6   Review Content            10198 non-null  object        \n",
      " 7   Verified Purchase or not  9425 non-null   object        \n",
      " 8   People_find_helpful       3905 non-null   float64       \n",
      " 9   vine or not               265 non-null    object        \n",
      " 10  URL                       10209 non-null  object        \n",
      " 11  list price                10209 non-null  float64       \n",
      " 12  rating count              10209 non-null  int64         \n",
      " 13  overall rating            10209 non-null  float64       \n",
      "dtypes: datetime64[ns](1), float64(3), int64(2), object(8)\n",
      "memory usage: 1.1+ MB\n"
     ]
    }
   ],
   "source": [
    "df_raw.info()"
   ]
  },
  {
   "cell_type": "markdown",
   "metadata": {},
   "source": [
    "#### Feature Extraction"
   ]
  },
  {
   "cell_type": "code",
   "execution_count": 11,
   "metadata": {},
   "outputs": [
    {
     "data": {
      "text/html": [
       "<div>\n",
       "<style scoped>\n",
       "    .dataframe tbody tr th:only-of-type {\n",
       "        vertical-align: middle;\n",
       "    }\n",
       "\n",
       "    .dataframe tbody tr th {\n",
       "        vertical-align: top;\n",
       "    }\n",
       "\n",
       "    .dataframe thead th {\n",
       "        text-align: right;\n",
       "    }\n",
       "</style>\n",
       "<table border=\"1\" class=\"dataframe\">\n",
       "  <thead>\n",
       "    <tr style=\"text-align: right;\">\n",
       "      <th></th>\n",
       "      <th>Review Content</th>\n",
       "      <th>word_count</th>\n",
       "    </tr>\n",
       "  </thead>\n",
       "  <tbody>\n",
       "    <tr>\n",
       "      <th>0</th>\n",
       "      <td>🖨 was easy to install and works great.</td>\n",
       "      <td>8</td>\n",
       "    </tr>\n",
       "    <tr>\n",
       "      <th>1</th>\n",
       "      <td>🔆Slower print speed than what I’m used to (old...</td>\n",
       "      <td>79</td>\n",
       "    </tr>\n",
       "    <tr>\n",
       "      <th>2</th>\n",
       "      <td>𝙻𝚘𝚟𝚎 𝚒𝚝</td>\n",
       "      <td>2</td>\n",
       "    </tr>\n",
       "    <tr>\n",
       "      <th>3</th>\n",
       "      <td>Yup, this printer is a slam dunk. :)What an up...</td>\n",
       "      <td>84</td>\n",
       "    </tr>\n",
       "    <tr>\n",
       "      <th>4</th>\n",
       "      <td>You would think something as simple as reconne...</td>\n",
       "      <td>160</td>\n",
       "    </tr>\n",
       "  </tbody>\n",
       "</table>\n",
       "</div>"
      ],
      "text/plain": [
       "                                      Review Content  word_count\n",
       "0             🖨 was easy to install and works great.           8\n",
       "1  🔆Slower print speed than what I’m used to (old...          79\n",
       "2                                            𝙻𝚘𝚟𝚎 𝚒𝚝           2\n",
       "3  Yup, this printer is a slam dunk. :)What an up...          84\n",
       "4  You would think something as simple as reconne...         160"
      ]
     },
     "execution_count": 11,
     "metadata": {},
     "output_type": "execute_result"
    }
   ],
   "source": [
    "# Number of words\n",
    "df_raw['word_count'] = df_raw['Review Content'].apply(lambda x: len(str(x).split(\" \")))\n",
    "df_raw[['Review Content','word_count']].head()"
   ]
  },
  {
   "cell_type": "code",
   "execution_count": 12,
   "metadata": {},
   "outputs": [
    {
     "data": {
      "text/html": [
       "<div>\n",
       "<style scoped>\n",
       "    .dataframe tbody tr th:only-of-type {\n",
       "        vertical-align: middle;\n",
       "    }\n",
       "\n",
       "    .dataframe tbody tr th {\n",
       "        vertical-align: top;\n",
       "    }\n",
       "\n",
       "    .dataframe thead th {\n",
       "        text-align: right;\n",
       "    }\n",
       "</style>\n",
       "<table border=\"1\" class=\"dataframe\">\n",
       "  <thead>\n",
       "    <tr style=\"text-align: right;\">\n",
       "      <th></th>\n",
       "      <th>Review Content</th>\n",
       "      <th>char_count</th>\n",
       "    </tr>\n",
       "  </thead>\n",
       "  <tbody>\n",
       "    <tr>\n",
       "      <th>0</th>\n",
       "      <td>🖨 was easy to install and works great.</td>\n",
       "      <td>38.0</td>\n",
       "    </tr>\n",
       "    <tr>\n",
       "      <th>1</th>\n",
       "      <td>🔆Slower print speed than what I’m used to (old...</td>\n",
       "      <td>460.0</td>\n",
       "    </tr>\n",
       "    <tr>\n",
       "      <th>2</th>\n",
       "      <td>𝙻𝚘𝚟𝚎 𝚒𝚝</td>\n",
       "      <td>7.0</td>\n",
       "    </tr>\n",
       "    <tr>\n",
       "      <th>3</th>\n",
       "      <td>Yup, this printer is a slam dunk. :)What an up...</td>\n",
       "      <td>469.0</td>\n",
       "    </tr>\n",
       "    <tr>\n",
       "      <th>4</th>\n",
       "      <td>You would think something as simple as reconne...</td>\n",
       "      <td>861.0</td>\n",
       "    </tr>\n",
       "  </tbody>\n",
       "</table>\n",
       "</div>"
      ],
      "text/plain": [
       "                                      Review Content  char_count\n",
       "0             🖨 was easy to install and works great.        38.0\n",
       "1  🔆Slower print speed than what I’m used to (old...       460.0\n",
       "2                                            𝙻𝚘𝚟𝚎 𝚒𝚝         7.0\n",
       "3  Yup, this printer is a slam dunk. :)What an up...       469.0\n",
       "4  You would think something as simple as reconne...       861.0"
      ]
     },
     "execution_count": 12,
     "metadata": {},
     "output_type": "execute_result"
    }
   ],
   "source": [
    "# Number of characters\n",
    "df_raw['char_count'] = df_raw['Review Content'].str.len() ## this also includes spaces\n",
    "df_raw[['Review Content','char_count']].head()"
   ]
  },
  {
   "cell_type": "code",
   "execution_count": 17,
   "metadata": {},
   "outputs": [
    {
     "data": {
      "text/html": [
       "<div>\n",
       "<style scoped>\n",
       "    .dataframe tbody tr th:only-of-type {\n",
       "        vertical-align: middle;\n",
       "    }\n",
       "\n",
       "    .dataframe tbody tr th {\n",
       "        vertical-align: top;\n",
       "    }\n",
       "\n",
       "    .dataframe thead th {\n",
       "        text-align: right;\n",
       "    }\n",
       "</style>\n",
       "<table border=\"1\" class=\"dataframe\">\n",
       "  <thead>\n",
       "    <tr style=\"text-align: right;\">\n",
       "      <th></th>\n",
       "      <th>Review Content</th>\n",
       "      <th>avg_word</th>\n",
       "    </tr>\n",
       "  </thead>\n",
       "  <tbody>\n",
       "    <tr>\n",
       "      <th>0</th>\n",
       "      <td>🖨 was easy to install and works great.</td>\n",
       "      <td>3.875000</td>\n",
       "    </tr>\n",
       "    <tr>\n",
       "      <th>1</th>\n",
       "      <td>🔆Slower print speed than what I’m used to (old...</td>\n",
       "      <td>4.835443</td>\n",
       "    </tr>\n",
       "    <tr>\n",
       "      <th>2</th>\n",
       "      <td>𝙻𝚘𝚟𝚎 𝚒𝚝</td>\n",
       "      <td>3.000000</td>\n",
       "    </tr>\n",
       "    <tr>\n",
       "      <th>3</th>\n",
       "      <td>Yup, this printer is a slam dunk. :)What an up...</td>\n",
       "      <td>4.595238</td>\n",
       "    </tr>\n",
       "    <tr>\n",
       "      <th>4</th>\n",
       "      <td>You would think something as simple as reconne...</td>\n",
       "      <td>4.387500</td>\n",
       "    </tr>\n",
       "  </tbody>\n",
       "</table>\n",
       "</div>"
      ],
      "text/plain": [
       "                                      Review Content  avg_word\n",
       "0             🖨 was easy to install and works great.  3.875000\n",
       "1  🔆Slower print speed than what I’m used to (old...  4.835443\n",
       "2                                            𝙻𝚘𝚟𝚎 𝚒𝚝  3.000000\n",
       "3  Yup, this printer is a slam dunk. :)What an up...  4.595238\n",
       "4  You would think something as simple as reconne...  4.387500"
      ]
     },
     "execution_count": 17,
     "metadata": {},
     "output_type": "execute_result"
    }
   ],
   "source": [
    "# Average word length\n",
    "def avg_word(sentence):\n",
    "    if isinstance(sentence, str):  # Check if the input is a string\n",
    "        words = sentence.split()\n",
    "        return sum(len(word) for word in words) / len(words)\n",
    "    else:\n",
    "        return 0  # Return 0 for non-string values\n",
    "\n",
    "df_raw['avg_word'] = df_raw['Review Content'].apply(lambda x: avg_word(x))\n",
    "df_raw[['Review Content', 'avg_word']].head()"
   ]
  },
  {
   "cell_type": "code",
   "execution_count": 20,
   "metadata": {},
   "outputs": [
    {
     "data": {
      "text/html": [
       "<div>\n",
       "<style scoped>\n",
       "    .dataframe tbody tr th:only-of-type {\n",
       "        vertical-align: middle;\n",
       "    }\n",
       "\n",
       "    .dataframe tbody tr th {\n",
       "        vertical-align: top;\n",
       "    }\n",
       "\n",
       "    .dataframe thead th {\n",
       "        text-align: right;\n",
       "    }\n",
       "</style>\n",
       "<table border=\"1\" class=\"dataframe\">\n",
       "  <thead>\n",
       "    <tr style=\"text-align: right;\">\n",
       "      <th></th>\n",
       "      <th>Review Content</th>\n",
       "      <th>stopwords</th>\n",
       "    </tr>\n",
       "  </thead>\n",
       "  <tbody>\n",
       "    <tr>\n",
       "      <th>0</th>\n",
       "      <td>🖨 was easy to install and works great.</td>\n",
       "      <td>3</td>\n",
       "    </tr>\n",
       "    <tr>\n",
       "      <th>1</th>\n",
       "      <td>🔆Slower print speed than what I’m used to (old...</td>\n",
       "      <td>19</td>\n",
       "    </tr>\n",
       "    <tr>\n",
       "      <th>2</th>\n",
       "      <td>𝙻𝚘𝚟𝚎 𝚒𝚝</td>\n",
       "      <td>0</td>\n",
       "    </tr>\n",
       "    <tr>\n",
       "      <th>3</th>\n",
       "      <td>Yup, this printer is a slam dunk. :)What an up...</td>\n",
       "      <td>31</td>\n",
       "    </tr>\n",
       "    <tr>\n",
       "      <th>4</th>\n",
       "      <td>You would think something as simple as reconne...</td>\n",
       "      <td>71</td>\n",
       "    </tr>\n",
       "  </tbody>\n",
       "</table>\n",
       "</div>"
      ],
      "text/plain": [
       "                                      Review Content  stopwords\n",
       "0             🖨 was easy to install and works great.          3\n",
       "1  🔆Slower print speed than what I’m used to (old...         19\n",
       "2                                            𝙻𝚘𝚟𝚎 𝚒𝚝          0\n",
       "3  Yup, this printer is a slam dunk. :)What an up...         31\n",
       "4  You would think something as simple as reconne...         71"
      ]
     },
     "execution_count": 20,
     "metadata": {},
     "output_type": "execute_result"
    }
   ],
   "source": [
    "# Number of stop words\n",
    "stop = stopwords.words('english')\n",
    "\n",
    "def count_stopwords(sentence):\n",
    "    if isinstance(sentence, str):  # Check if the input is a string\n",
    "        words = sentence.split()\n",
    "        return len([word for word in words if word in stop])\n",
    "    else:\n",
    "        return 0  # Return 0 for non-string values\n",
    "\n",
    "df_raw['stopwords'] = df_raw['Review Content'].apply(lambda x: count_stopwords(x))\n",
    "df_raw[['Review Content', 'stopwords']].head()"
   ]
  },
  {
   "cell_type": "markdown",
   "metadata": {},
   "source": [
    "#### Text Pre-Processing"
   ]
  },
  {
   "cell_type": "code",
   "execution_count": null,
   "metadata": {},
   "outputs": [],
   "source": [
    "# Lower casing\n",
    "\n",
    "\n"
   ]
  },
  {
   "cell_type": "code",
   "execution_count": null,
   "metadata": {},
   "outputs": [],
   "source": [
    "# Removing punctuation \n",
    "\n"
   ]
  },
  {
   "cell_type": "code",
   "execution_count": null,
   "metadata": {},
   "outputs": [],
   "source": [
    "# Removal of stop words\n",
    "\n",
    "\n"
   ]
  },
  {
   "cell_type": "code",
   "execution_count": null,
   "metadata": {},
   "outputs": [],
   "source": [
    "# Removal of common words\n",
    "\n",
    "\n"
   ]
  },
  {
   "cell_type": "code",
   "execution_count": null,
   "metadata": {},
   "outputs": [],
   "source": [
    "# Removal of rare words\n",
    "\n",
    "\n"
   ]
  },
  {
   "cell_type": "code",
   "execution_count": null,
   "metadata": {},
   "outputs": [],
   "source": [
    "# Spelling correction \n",
    "\n",
    "\n"
   ]
  },
  {
   "cell_type": "code",
   "execution_count": null,
   "metadata": {},
   "outputs": [],
   "source": [
    "# Tokenisation \n",
    "\n",
    "\n"
   ]
  },
  {
   "cell_type": "code",
   "execution_count": null,
   "metadata": {},
   "outputs": [],
   "source": [
    "# Stemming \n",
    "\n",
    "\n"
   ]
  },
  {
   "cell_type": "code",
   "execution_count": null,
   "metadata": {},
   "outputs": [],
   "source": [
    "# Lemmatization \n",
    "\n",
    "\n"
   ]
  },
  {
   "cell_type": "code",
   "execution_count": null,
   "metadata": {},
   "outputs": [],
   "source": [
    "# Export to csv for use\n",
    "\n",
    "\n"
   ]
  }
 ],
 "metadata": {
  "kernelspec": {
   "display_name": "Python 3",
   "language": "python",
   "name": "python3"
  },
  "language_info": {
   "codemirror_mode": {
    "name": "ipython",
    "version": 3
   },
   "file_extension": ".py",
   "mimetype": "text/x-python",
   "name": "python",
   "nbconvert_exporter": "python",
   "pygments_lexer": "ipython3",
   "version": "3.10.0"
  },
  "orig_nbformat": 4
 },
 "nbformat": 4,
 "nbformat_minor": 2
}
