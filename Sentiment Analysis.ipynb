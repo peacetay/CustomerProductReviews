{
 "cells": [
  {
   "cell_type": "markdown",
   "id": "a0ff8cdc",
   "metadata": {},
   "source": [
    "## Importing Packages"
   ]
  },
  {
   "cell_type": "code",
   "execution_count": 200,
   "id": "41ad498e",
   "metadata": {},
   "outputs": [],
   "source": [
    "import numpy as np\n",
    "import pandas as pd\n",
    "import matplotlib.pyplot as plt\n",
    "import seaborn as sns\n",
    "import string\n",
    "import re\n",
    "import nltk\n",
    "import textblob\n",
    "\n",
    "from textblob import TextBlob\n",
    "from textblob import Word\n",
    "#from spellchecker import SpellChecker\n",
    "from nltk import tokenize\n",
    "from nltk.corpus import stopwords\n",
    "from nltk.stem import PorterStemmer\n",
    "from nltk.stem import WordNetLemmatizer\n",
    "from nltk.probability import FreqDist\n",
    "from sklearn.feature_extraction.text import CountVectorizer\n",
    "from nltk.sentiment import SentimentIntensityAnalyzer\n",
    "from tqdm.notebook import tqdm"
   ]
  },
  {
   "cell_type": "code",
   "execution_count": 201,
   "id": "19f28d60",
   "metadata": {},
   "outputs": [
    {
     "data": {
      "text/html": [
       "<div>\n",
       "<style scoped>\n",
       "    .dataframe tbody tr th:only-of-type {\n",
       "        vertical-align: middle;\n",
       "    }\n",
       "\n",
       "    .dataframe tbody tr th {\n",
       "        vertical-align: top;\n",
       "    }\n",
       "\n",
       "    .dataframe thead th {\n",
       "        text-align: right;\n",
       "    }\n",
       "</style>\n",
       "<table border=\"1\" class=\"dataframe\">\n",
       "  <thead>\n",
       "    <tr style=\"text-align: right;\">\n",
       "      <th></th>\n",
       "      <th>Review Model</th>\n",
       "      <th>Retailer</th>\n",
       "      <th>Review date</th>\n",
       "      <th>Review name</th>\n",
       "      <th>Review rating</th>\n",
       "      <th>Review title</th>\n",
       "      <th>Review Content</th>\n",
       "      <th>Verified Purchase or not</th>\n",
       "      <th>People_find_helpful</th>\n",
       "      <th>vine or not</th>\n",
       "      <th>...</th>\n",
       "      <th>title_word_count</th>\n",
       "      <th>content_char_count</th>\n",
       "      <th>title_char_count</th>\n",
       "      <th>content_avg_word</th>\n",
       "      <th>title_avg_word</th>\n",
       "      <th>content_stopwords</th>\n",
       "      <th>title_stopwords</th>\n",
       "      <th>Brand</th>\n",
       "      <th>Full review</th>\n",
       "      <th>ID</th>\n",
       "    </tr>\n",
       "  </thead>\n",
       "  <tbody>\n",
       "    <tr>\n",
       "      <th>0</th>\n",
       "      <td>Canon Pixma TS6420a</td>\n",
       "      <td>Amazon</td>\n",
       "      <td>2023-08-10</td>\n",
       "      <td>Ernest Birkholz</td>\n",
       "      <td>5</td>\n",
       "      <td>works great</td>\n",
       "      <td>easy install works great</td>\n",
       "      <td>True</td>\n",
       "      <td>0.0</td>\n",
       "      <td>False</td>\n",
       "      <td>...</td>\n",
       "      <td>2</td>\n",
       "      <td>38</td>\n",
       "      <td>11</td>\n",
       "      <td>3.875000</td>\n",
       "      <td>5.000000</td>\n",
       "      <td>3</td>\n",
       "      <td>0</td>\n",
       "      <td>Canon</td>\n",
       "      <td>works great easy install works great</td>\n",
       "      <td>0</td>\n",
       "    </tr>\n",
       "    <tr>\n",
       "      <th>1</th>\n",
       "      <td>HP OfficeJet Pro 9015e</td>\n",
       "      <td>Amazon</td>\n",
       "      <td>2022-06-04</td>\n",
       "      <td>mattey</td>\n",
       "      <td>3</td>\n",
       "      <td>spunky mid size</td>\n",
       "      <td>slower speed im used old model 8600 new 9015e ...</td>\n",
       "      <td>True</td>\n",
       "      <td>0.0</td>\n",
       "      <td>False</td>\n",
       "      <td>...</td>\n",
       "      <td>4</td>\n",
       "      <td>460</td>\n",
       "      <td>23</td>\n",
       "      <td>4.835443</td>\n",
       "      <td>5.000000</td>\n",
       "      <td>19</td>\n",
       "      <td>0</td>\n",
       "      <td>HP</td>\n",
       "      <td>spunky mid size slower speed im used old model...</td>\n",
       "      <td>1</td>\n",
       "    </tr>\n",
       "    <tr>\n",
       "      <th>2</th>\n",
       "      <td>Canon PIXMA MG3620</td>\n",
       "      <td>Amazon</td>\n",
       "      <td>2023-03-15</td>\n",
       "      <td>Maria D</td>\n",
       "      <td>4</td>\n",
       "      <td>NaN</td>\n",
       "      <td>i</td>\n",
       "      <td>True</td>\n",
       "      <td>0.0</td>\n",
       "      <td>False</td>\n",
       "      <td>...</td>\n",
       "      <td>2</td>\n",
       "      <td>7</td>\n",
       "      <td>12</td>\n",
       "      <td>3.000000</td>\n",
       "      <td>5.500000</td>\n",
       "      <td>0</td>\n",
       "      <td>0</td>\n",
       "      <td>Canon</td>\n",
       "      <td>i</td>\n",
       "      <td>2</td>\n",
       "    </tr>\n",
       "    <tr>\n",
       "      <th>3</th>\n",
       "      <td>Epson - ET-3830</td>\n",
       "      <td>Amazon</td>\n",
       "      <td>2022-11-17</td>\n",
       "      <td>Ryan H</td>\n",
       "      <td>5</td>\n",
       "      <td>shag knows hes talking</td>\n",
       "      <td>yup slam upgrade paid little front equivalent ...</td>\n",
       "      <td>True</td>\n",
       "      <td>12.0</td>\n",
       "      <td>False</td>\n",
       "      <td>...</td>\n",
       "      <td>6</td>\n",
       "      <td>469</td>\n",
       "      <td>34</td>\n",
       "      <td>4.595238</td>\n",
       "      <td>4.833333</td>\n",
       "      <td>31</td>\n",
       "      <td>2</td>\n",
       "      <td>Epson</td>\n",
       "      <td>shag knows hes talking yup slam upgrade paid l...</td>\n",
       "      <td>3</td>\n",
       "    </tr>\n",
       "    <tr>\n",
       "      <th>4</th>\n",
       "      <td>HP ENVY 6055e</td>\n",
       "      <td>Amazon</td>\n",
       "      <td>2022-04-09</td>\n",
       "      <td>Sam</td>\n",
       "      <td>3</td>\n",
       "      <td>user friendly</td>\n",
       "      <td>would think something simple reconnecting wifi...</td>\n",
       "      <td>True</td>\n",
       "      <td>0.0</td>\n",
       "      <td>False</td>\n",
       "      <td>...</td>\n",
       "      <td>3</td>\n",
       "      <td>861</td>\n",
       "      <td>17</td>\n",
       "      <td>4.387500</td>\n",
       "      <td>5.000000</td>\n",
       "      <td>71</td>\n",
       "      <td>0</td>\n",
       "      <td>HP</td>\n",
       "      <td>user friendly would think something simple rec...</td>\n",
       "      <td>4</td>\n",
       "    </tr>\n",
       "  </tbody>\n",
       "</table>\n",
       "<p>5 rows × 25 columns</p>\n",
       "</div>"
      ],
      "text/plain": [
       "             Review Model Retailer Review date      Review name  \\\n",
       "0     Canon Pixma TS6420a   Amazon  2023-08-10  Ernest Birkholz   \n",
       "1  HP OfficeJet Pro 9015e   Amazon  2022-06-04           mattey   \n",
       "2      Canon PIXMA MG3620   Amazon  2023-03-15          Maria D   \n",
       "3         Epson - ET-3830   Amazon  2022-11-17           Ryan H   \n",
       "4           HP ENVY 6055e   Amazon  2022-04-09              Sam   \n",
       "\n",
       "   Review rating            Review title  \\\n",
       "0              5             works great   \n",
       "1              3         spunky mid size   \n",
       "2              4                     NaN   \n",
       "3              5  shag knows hes talking   \n",
       "4              3           user friendly   \n",
       "\n",
       "                                      Review Content  \\\n",
       "0                           easy install works great   \n",
       "1  slower speed im used old model 8600 new 9015e ...   \n",
       "2                                                  i   \n",
       "3  yup slam upgrade paid little front equivalent ...   \n",
       "4  would think something simple reconnecting wifi...   \n",
       "\n",
       "   Verified Purchase or not  People_find_helpful  vine or not  ...  \\\n",
       "0                      True                  0.0        False  ...   \n",
       "1                      True                  0.0        False  ...   \n",
       "2                      True                  0.0        False  ...   \n",
       "3                      True                 12.0        False  ...   \n",
       "4                      True                  0.0        False  ...   \n",
       "\n",
       "  title_word_count  content_char_count  title_char_count  content_avg_word  \\\n",
       "0                2                  38                11          3.875000   \n",
       "1                4                 460                23          4.835443   \n",
       "2                2                   7                12          3.000000   \n",
       "3                6                 469                34          4.595238   \n",
       "4                3                 861                17          4.387500   \n",
       "\n",
       "   title_avg_word  content_stopwords  title_stopwords  Brand  \\\n",
       "0        5.000000                  3                0  Canon   \n",
       "1        5.000000                 19                0     HP   \n",
       "2        5.500000                  0                0  Canon   \n",
       "3        4.833333                 31                2  Epson   \n",
       "4        5.000000                 71                0     HP   \n",
       "\n",
       "                                         Full review  ID  \n",
       "0               works great easy install works great   0  \n",
       "1  spunky mid size slower speed im used old model...   1  \n",
       "2                                                  i   2  \n",
       "3  shag knows hes talking yup slam upgrade paid l...   3  \n",
       "4  user friendly would think something simple rec...   4  \n",
       "\n",
       "[5 rows x 25 columns]"
      ]
     },
     "execution_count": 201,
     "metadata": {},
     "output_type": "execute_result"
    }
   ],
   "source": [
    "# Load the Excel file into a DataFrame\n",
    "df_SA = pd.read_excel('amazon_review_processed_full.xlsx')\n",
    "\n",
    "df_SA['ID'] = range(0, len(df_SA))\n",
    "\n",
    "# Display the DataFrame\n",
    "df_SA.head(5)"
   ]
  },
  {
   "cell_type": "markdown",
   "id": "82ca42ae",
   "metadata": {},
   "source": [
    "## Vader Sentiment Scoring on Original Review Content"
   ]
  },
  {
   "cell_type": "code",
   "execution_count": 202,
   "id": "a7743d5c",
   "metadata": {},
   "outputs": [],
   "source": [
    "sia = SentimentIntensityAnalyzer()"
   ]
  },
  {
   "cell_type": "code",
   "execution_count": 203,
   "id": "8eeac735",
   "metadata": {},
   "outputs": [],
   "source": [
    "#Converting Review Content to string type in order to run Vader Sentiment Analysis\n",
    "df_SA['Review Content'] = df_SA['Review Content'].astype(str)"
   ]
  },
  {
   "cell_type": "markdown",
   "id": "12ccfe92",
   "metadata": {},
   "source": [
    "### Running the Vader Sentiment Analysis"
   ]
  },
  {
   "cell_type": "code",
   "execution_count": 204,
   "id": "376d9c37",
   "metadata": {},
   "outputs": [
    {
     "data": {
      "application/vnd.jupyter.widget-view+json": {
       "model_id": "b0a6810f21d44e9aaace966efc777eb6",
       "version_major": 2,
       "version_minor": 0
      },
      "text/plain": [
       "  0%|          | 0/10209 [00:00<?, ?it/s]"
      ]
     },
     "metadata": {},
     "output_type": "display_data"
    }
   ],
   "source": [
    "# Running the polarity score on the entire dataset\n",
    "res = {}\n",
    "for i, row in tqdm(df_SA.iterrows(), total=len(df_SA)):\n",
    "    text = row['Review Content']\n",
    "    myid = row['ID']\n",
    "    res[myid] = sia.polarity_scores(text)"
   ]
  },
  {
   "cell_type": "code",
   "execution_count": 205,
   "id": "52fc3ce2",
   "metadata": {},
   "outputs": [],
   "source": [
    "vaders = pd.DataFrame(res).T\n",
    "vaders = vaders.reset_index().rename(columns={'index':'ID'})\n",
    "vaders = vaders.merge(df_SA, how='left')"
   ]
  },
  {
   "cell_type": "code",
   "execution_count": 206,
   "id": "a6c9dc7f",
   "metadata": {},
   "outputs": [
    {
     "data": {
      "text/html": [
       "<div>\n",
       "<style scoped>\n",
       "    .dataframe tbody tr th:only-of-type {\n",
       "        vertical-align: middle;\n",
       "    }\n",
       "\n",
       "    .dataframe tbody tr th {\n",
       "        vertical-align: top;\n",
       "    }\n",
       "\n",
       "    .dataframe thead th {\n",
       "        text-align: right;\n",
       "    }\n",
       "</style>\n",
       "<table border=\"1\" class=\"dataframe\">\n",
       "  <thead>\n",
       "    <tr style=\"text-align: right;\">\n",
       "      <th></th>\n",
       "      <th>Review rating</th>\n",
       "      <th>compound</th>\n",
       "    </tr>\n",
       "  </thead>\n",
       "  <tbody>\n",
       "    <tr>\n",
       "      <th>0</th>\n",
       "      <td>5</td>\n",
       "      <td>0.7906</td>\n",
       "    </tr>\n",
       "    <tr>\n",
       "      <th>1</th>\n",
       "      <td>3</td>\n",
       "      <td>0.9557</td>\n",
       "    </tr>\n",
       "    <tr>\n",
       "      <th>2</th>\n",
       "      <td>4</td>\n",
       "      <td>0.0000</td>\n",
       "    </tr>\n",
       "    <tr>\n",
       "      <th>3</th>\n",
       "      <td>5</td>\n",
       "      <td>0.7773</td>\n",
       "    </tr>\n",
       "    <tr>\n",
       "      <th>4</th>\n",
       "      <td>3</td>\n",
       "      <td>-0.5574</td>\n",
       "    </tr>\n",
       "    <tr>\n",
       "      <th>...</th>\n",
       "      <td>...</td>\n",
       "      <td>...</td>\n",
       "    </tr>\n",
       "    <tr>\n",
       "      <th>10204</th>\n",
       "      <td>5</td>\n",
       "      <td>0.0000</td>\n",
       "    </tr>\n",
       "    <tr>\n",
       "      <th>10205</th>\n",
       "      <td>5</td>\n",
       "      <td>0.0000</td>\n",
       "    </tr>\n",
       "    <tr>\n",
       "      <th>10206</th>\n",
       "      <td>1</td>\n",
       "      <td>0.0000</td>\n",
       "    </tr>\n",
       "    <tr>\n",
       "      <th>10207</th>\n",
       "      <td>1</td>\n",
       "      <td>0.0000</td>\n",
       "    </tr>\n",
       "    <tr>\n",
       "      <th>10208</th>\n",
       "      <td>4</td>\n",
       "      <td>0.0000</td>\n",
       "    </tr>\n",
       "  </tbody>\n",
       "</table>\n",
       "<p>10209 rows × 2 columns</p>\n",
       "</div>"
      ],
      "text/plain": [
       "       Review rating  compound\n",
       "0                  5    0.7906\n",
       "1                  3    0.9557\n",
       "2                  4    0.0000\n",
       "3                  5    0.7773\n",
       "4                  3   -0.5574\n",
       "...              ...       ...\n",
       "10204              5    0.0000\n",
       "10205              5    0.0000\n",
       "10206              1    0.0000\n",
       "10207              1    0.0000\n",
       "10208              4    0.0000\n",
       "\n",
       "[10209 rows x 2 columns]"
      ]
     },
     "execution_count": 206,
     "metadata": {},
     "output_type": "execute_result"
    }
   ],
   "source": [
    "vaders[['Review rating','compound']]"
   ]
  },
  {
   "cell_type": "markdown",
   "id": "22e18aa9",
   "metadata": {},
   "source": [
    "## Plotting VADER results on Original Review Content"
   ]
  },
  {
   "cell_type": "code",
   "execution_count": 27,
   "id": "d1d7fbed",
   "metadata": {},
   "outputs": [
    {
     "data": {
      "image/png": "[encoded data removed]",
      "text/plain": [
       "<Figure size 1500x500 with 3 Axes>"
      ]
     },
     "metadata": {},
     "output_type": "display_data"
    }
   ],
   "source": [
    "fig, axs = plt.subplots(1,3, figsize = (15,5))\n",
    "sns.barplot(data=vaders, x='Review rating', y = 'pos', ax=axs[0])\n",
    "sns.barplot(data=vaders, x='Review rating', y = 'neu', ax=axs[1])\n",
    "sns.barplot(data=vaders, x='Review rating', y = 'neg', ax=axs[2])\n",
    "axs[0].set_title('Positive')\n",
    "axs[1].set_title('Neutral')\n",
    "axs[2].set_title('Negative')\n",
    "plt.tight_layout()\n",
    "plt.show()"
   ]
  },
  {
   "cell_type": "markdown",
   "id": "f20617f5",
   "metadata": {},
   "source": [
    "Remarks: As expected, for ratings that are higher, they are more likely to get a higher positive score, while ratings that are lower got a higher negative score."
   ]
  },
  {
   "cell_type": "code",
   "execution_count": 210,
   "id": "14a34386",
   "metadata": {},
   "outputs": [
    {
     "data": {
      "image/png": "[encoded data removed]",
      "text/plain": [
       "<Figure size 640x480 with 1 Axes>"
      ]
     },
     "metadata": {},
     "output_type": "display_data"
    }
   ],
   "source": [
    "ax = sns.boxplot(x=\"Review rating\", y=\"compound\", data=vaders, width=0.4)\n",
    "ax.set_title('Compound Score by Amazon Reviews')\n",
    "plt.show()"
   ]
  },
  {
   "cell_type": "markdown",
   "id": "1479a707",
   "metadata": {},
   "source": [
    "The Compound score is a metric that calculates the sum of all the lexicon ratings which have been normalized between -1(most extreme negative) and +1 (most extreme positive).\n",
    "\n",
    "positive sentiment : (compound score >= 0.05) \n",
    "\n",
    "neutral sentiment : (compound score > -0.05) and (compound score < 0.05) \n",
    "\n",
    "negative sentiment : (compound score <= -0.05)\n",
    "\n",
    "As we can see, lower ratings have more negative compound scores compared to higher ratings. For the higher ratings, there are a number of negative compound scores which may suggest wrong classification by the model which we will take a closer look in the next section"
   ]
  },
  {
   "cell_type": "markdown",
   "id": "fd68f1a6",
   "metadata": {},
   "source": [
    "## Reviewing Examples"
   ]
  },
  {
   "cell_type": "code",
   "execution_count": 174,
   "id": "31df3053",
   "metadata": {},
   "outputs": [],
   "source": [
    "vaders = vaders.rename(columns={'Review rating': 'Review_rating'})"
   ]
  },
  {
   "cell_type": "markdown",
   "id": "56dbd749",
   "metadata": {},
   "source": [
    "### Checking if the model works"
   ]
  },
  {
   "cell_type": "code",
   "execution_count": 178,
   "id": "809a544a",
   "metadata": {},
   "outputs": [
    {
     "data": {
      "text/plain": [
       "array(['easy', 'great', 'nice', 'easy', 'good',\n",
       "       'love easy nice clear great value', 'love', 'love', 'love easy',\n",
       "       'love'], dtype=object)"
      ]
     },
     "execution_count": 178,
     "metadata": {},
     "output_type": "execute_result"
    }
   ],
   "source": [
    "# Positive sentiment with 5-star review\n",
    "vaders.query('Review_rating == 5').sort_values('pos', ascending=False)['Review Content'].values[0:10]"
   ]
  },
  {
   "cell_type": "code",
   "execution_count": 179,
   "id": "bbd1ebc5",
   "metadata": {},
   "outputs": [
    {
     "data": {
      "text/plain": [
       "array(['disgusting', 'bad', 'dislike', 'horrible', 'horrible', 'dislike',\n",
       "       'terrible', 'mistake buying worst', 'worst ever',\n",
       "       'absolutely hate'], dtype=object)"
      ]
     },
     "execution_count": 179,
     "metadata": {},
     "output_type": "execute_result"
    }
   ],
   "source": [
    "# Negative sentiment with 1-star review\n",
    "vaders.query('Review_rating == 1').sort_values('neg', ascending=False)['Review Content'].values[0:10]"
   ]
  },
  {
   "cell_type": "markdown",
   "id": "18c1f484",
   "metadata": {},
   "source": [
    "### Checking if the model produces inaccurate results"
   ]
  },
  {
   "cell_type": "code",
   "execution_count": 180,
   "id": "b99407a7",
   "metadata": {},
   "outputs": [
    {
     "data": {
      "text/plain": [
       "array(['good', 'please careful product', 'good buy', 'please see',\n",
       "       'save heartache dont buy awful'], dtype=object)"
      ]
     },
     "execution_count": 180,
     "metadata": {},
     "output_type": "execute_result"
    }
   ],
   "source": [
    "# Positive sentiment but with 1-star review\n",
    "vaders.query('Review_rating == 1').sort_values('pos', ascending=False)['Review Content'].values[0:5]"
   ]
  },
  {
   "cell_type": "code",
   "execution_count": 181,
   "id": "fec1f5f8",
   "metadata": {},
   "outputs": [
    {
     "data": {
      "text/plain": [
       "array(['difficult', 'complaints', 'complaints buy',\n",
       "       'difficult done works weird', 'fail de install'], dtype=object)"
      ]
     },
     "execution_count": 181,
     "metadata": {},
     "output_type": "execute_result"
    }
   ],
   "source": [
    "# Negative sentiment but with 5-star review\n",
    "vaders.query('Review_rating == 5').sort_values('neg', ascending=False)['Review Content'].values[0:5]"
   ]
  },
  {
   "cell_type": "markdown",
   "id": "fc79ba38",
   "metadata": {},
   "source": [
    "Some gave positive feedback but gave low ratings, while some gave negative feedback but high ratings. Might be inaccurate ratings on user's end or \"troll\" feedback"
   ]
  },
  {
   "cell_type": "code",
   "execution_count": null,
   "id": "1343c80d",
   "metadata": {},
   "outputs": [],
   "source": []
  },
  {
   "cell_type": "code",
   "execution_count": null,
   "id": "c7a4cc6d",
   "metadata": {},
   "outputs": [],
   "source": []
  },
  {
   "cell_type": "code",
   "execution_count": null,
   "id": "92b842a7",
   "metadata": {},
   "outputs": [],
   "source": []
  },
  {
   "cell_type": "code",
   "execution_count": null,
   "id": "a974b59a",
   "metadata": {},
   "outputs": [],
   "source": []
  },
  {
   "cell_type": "code",
   "execution_count": null,
   "id": "63bdb444",
   "metadata": {},
   "outputs": [],
   "source": []
  },
  {
   "cell_type": "markdown",
   "id": "dc8e11df",
   "metadata": {},
   "source": [
    "## Vader Sentiment Scoring on Review Content based on sentence split"
   ]
  },
  {
   "cell_type": "markdown",
   "id": "b9c06adf",
   "metadata": {},
   "source": [
    "#### Note: This is going to be used in conjuction with Topic Modelling, analysing the sentiments based on topics"
   ]
  },
  {
   "cell_type": "code",
   "execution_count": 124,
   "id": "d81c450c",
   "metadata": {},
   "outputs": [
    {
     "data": {
      "text/html": [
       "<div>\n",
       "<style scoped>\n",
       "    .dataframe tbody tr th:only-of-type {\n",
       "        vertical-align: middle;\n",
       "    }\n",
       "\n",
       "    .dataframe tbody tr th {\n",
       "        vertical-align: top;\n",
       "    }\n",
       "\n",
       "    .dataframe thead th {\n",
       "        text-align: right;\n",
       "    }\n",
       "</style>\n",
       "<table border=\"1\" class=\"dataframe\">\n",
       "  <thead>\n",
       "    <tr style=\"text-align: right;\">\n",
       "      <th></th>\n",
       "      <th>Review Model</th>\n",
       "      <th>Retailer</th>\n",
       "      <th>Review date</th>\n",
       "      <th>Review name</th>\n",
       "      <th>Review rating</th>\n",
       "      <th>Review title</th>\n",
       "      <th>Review Content</th>\n",
       "      <th>Verified Purchase or not</th>\n",
       "      <th>People_find_helpful</th>\n",
       "      <th>vine or not</th>\n",
       "      <th>...</th>\n",
       "      <th>content_char_count</th>\n",
       "      <th>title_char_count</th>\n",
       "      <th>content_avg_word</th>\n",
       "      <th>title_avg_word</th>\n",
       "      <th>content_stopwords</th>\n",
       "      <th>title_stopwords</th>\n",
       "      <th>Brand</th>\n",
       "      <th>Full review</th>\n",
       "      <th>ID</th>\n",
       "      <th>Review ID</th>\n",
       "    </tr>\n",
       "  </thead>\n",
       "  <tbody>\n",
       "    <tr>\n",
       "      <th>0</th>\n",
       "      <td>Canon Pixma TS6420a</td>\n",
       "      <td>Amazon</td>\n",
       "      <td>2023-08-10</td>\n",
       "      <td>Ernest Birkholz</td>\n",
       "      <td>5</td>\n",
       "      <td>works great</td>\n",
       "      <td>['easy install works great']</td>\n",
       "      <td>True</td>\n",
       "      <td>0.0</td>\n",
       "      <td>False</td>\n",
       "      <td>...</td>\n",
       "      <td>38</td>\n",
       "      <td>11</td>\n",
       "      <td>3.875000</td>\n",
       "      <td>5.0</td>\n",
       "      <td>3</td>\n",
       "      <td>0</td>\n",
       "      <td>Canon</td>\n",
       "      <td>works great</td>\n",
       "      <td>0</td>\n",
       "      <td>1</td>\n",
       "    </tr>\n",
       "    <tr>\n",
       "      <th>1</th>\n",
       "      <td>Canon Pixma TS6420a</td>\n",
       "      <td>Amazon</td>\n",
       "      <td>2023-08-10</td>\n",
       "      <td>Ernest Birkholz</td>\n",
       "      <td>5</td>\n",
       "      <td>works great</td>\n",
       "      <td>['easy install works great']</td>\n",
       "      <td>True</td>\n",
       "      <td>0.0</td>\n",
       "      <td>False</td>\n",
       "      <td>...</td>\n",
       "      <td>38</td>\n",
       "      <td>11</td>\n",
       "      <td>3.875000</td>\n",
       "      <td>5.0</td>\n",
       "      <td>3</td>\n",
       "      <td>0</td>\n",
       "      <td>Canon</td>\n",
       "      <td>easy install works great</td>\n",
       "      <td>1</td>\n",
       "      <td>1</td>\n",
       "    </tr>\n",
       "    <tr>\n",
       "      <th>2</th>\n",
       "      <td>HP OfficeJet Pro 9015e</td>\n",
       "      <td>Amazon</td>\n",
       "      <td>2022-06-04</td>\n",
       "      <td>mattey</td>\n",
       "      <td>3</td>\n",
       "      <td>spunky mid size</td>\n",
       "      <td>['slower speed im used old model', ' 8600 new ...</td>\n",
       "      <td>True</td>\n",
       "      <td>0.0</td>\n",
       "      <td>False</td>\n",
       "      <td>...</td>\n",
       "      <td>460</td>\n",
       "      <td>23</td>\n",
       "      <td>4.835443</td>\n",
       "      <td>5.0</td>\n",
       "      <td>19</td>\n",
       "      <td>0</td>\n",
       "      <td>HP</td>\n",
       "      <td>spunky mid size</td>\n",
       "      <td>2</td>\n",
       "      <td>2</td>\n",
       "    </tr>\n",
       "    <tr>\n",
       "      <th>3</th>\n",
       "      <td>HP OfficeJet Pro 9015e</td>\n",
       "      <td>Amazon</td>\n",
       "      <td>2022-06-04</td>\n",
       "      <td>mattey</td>\n",
       "      <td>3</td>\n",
       "      <td>spunky mid size</td>\n",
       "      <td>['slower speed im used old model', ' 8600 new ...</td>\n",
       "      <td>True</td>\n",
       "      <td>0.0</td>\n",
       "      <td>False</td>\n",
       "      <td>...</td>\n",
       "      <td>460</td>\n",
       "      <td>23</td>\n",
       "      <td>4.835443</td>\n",
       "      <td>5.0</td>\n",
       "      <td>19</td>\n",
       "      <td>0</td>\n",
       "      <td>HP</td>\n",
       "      <td>slower speed im used old model</td>\n",
       "      <td>3</td>\n",
       "      <td>2</td>\n",
       "    </tr>\n",
       "    <tr>\n",
       "      <th>4</th>\n",
       "      <td>HP OfficeJet Pro 9015e</td>\n",
       "      <td>Amazon</td>\n",
       "      <td>2022-06-04</td>\n",
       "      <td>mattey</td>\n",
       "      <td>3</td>\n",
       "      <td>spunky mid size</td>\n",
       "      <td>['slower speed im used old model', ' 8600 new ...</td>\n",
       "      <td>True</td>\n",
       "      <td>0.0</td>\n",
       "      <td>False</td>\n",
       "      <td>...</td>\n",
       "      <td>460</td>\n",
       "      <td>23</td>\n",
       "      <td>4.835443</td>\n",
       "      <td>5.0</td>\n",
       "      <td>19</td>\n",
       "      <td>0</td>\n",
       "      <td>HP</td>\n",
       "      <td>8600 new 9015e sounds like breaking apart inside</td>\n",
       "      <td>4</td>\n",
       "      <td>2</td>\n",
       "    </tr>\n",
       "  </tbody>\n",
       "</table>\n",
       "<p>5 rows × 26 columns</p>\n",
       "</div>"
      ],
      "text/plain": [
       "             Review Model Retailer Review date      Review name  \\\n",
       "0     Canon Pixma TS6420a   Amazon  2023-08-10  Ernest Birkholz   \n",
       "1     Canon Pixma TS6420a   Amazon  2023-08-10  Ernest Birkholz   \n",
       "2  HP OfficeJet Pro 9015e   Amazon  2022-06-04           mattey   \n",
       "3  HP OfficeJet Pro 9015e   Amazon  2022-06-04           mattey   \n",
       "4  HP OfficeJet Pro 9015e   Amazon  2022-06-04           mattey   \n",
       "\n",
       "   Review rating     Review title  \\\n",
       "0              5      works great   \n",
       "1              5      works great   \n",
       "2              3  spunky mid size   \n",
       "3              3  spunky mid size   \n",
       "4              3  spunky mid size   \n",
       "\n",
       "                                      Review Content  \\\n",
       "0                       ['easy install works great']   \n",
       "1                       ['easy install works great']   \n",
       "2  ['slower speed im used old model', ' 8600 new ...   \n",
       "3  ['slower speed im used old model', ' 8600 new ...   \n",
       "4  ['slower speed im used old model', ' 8600 new ...   \n",
       "\n",
       "   Verified Purchase or not  People_find_helpful  vine or not  ...  \\\n",
       "0                      True                  0.0        False  ...   \n",
       "1                      True                  0.0        False  ...   \n",
       "2                      True                  0.0        False  ...   \n",
       "3                      True                  0.0        False  ...   \n",
       "4                      True                  0.0        False  ...   \n",
       "\n",
       "  content_char_count  title_char_count  content_avg_word  title_avg_word  \\\n",
       "0                 38                11          3.875000             5.0   \n",
       "1                 38                11          3.875000             5.0   \n",
       "2                460                23          4.835443             5.0   \n",
       "3                460                23          4.835443             5.0   \n",
       "4                460                23          4.835443             5.0   \n",
       "\n",
       "   content_stopwords  title_stopwords  Brand  \\\n",
       "0                  3                0  Canon   \n",
       "1                  3                0  Canon   \n",
       "2                 19                0     HP   \n",
       "3                 19                0     HP   \n",
       "4                 19                0     HP   \n",
       "\n",
       "                                         Full review  ID  Review ID  \n",
       "0                                        works great   0          1  \n",
       "1                           easy install works great   1          1  \n",
       "2                                    spunky mid size   2          2  \n",
       "3                     slower speed im used old model   3          2  \n",
       "4   8600 new 9015e sounds like breaking apart inside   4          2  \n",
       "\n",
       "[5 rows x 26 columns]"
      ]
     },
     "execution_count": 124,
     "metadata": {},
     "output_type": "execute_result"
    }
   ],
   "source": [
    "# Load the Excel file into a DataFrame\n",
    "df_SA_sent = pd.read_excel('amazon_review_processed_sents.xlsx')\n",
    "\n",
    "# Creating a new Review ID column\n",
    "df_SA_sent['Review ID'] = df_SA_sent['ID']\n",
    "df_SA_sent['ID'] = range(0, len(df_SA_sent))\n",
    "\n",
    "# Display the DataFrame\n",
    "df_SA_sent.head(5)"
   ]
  },
  {
   "cell_type": "markdown",
   "id": "0cbf6e88",
   "metadata": {},
   "source": [
    "#### Comparing the number of reviews for each rating after splitting into sentences"
   ]
  },
  {
   "cell_type": "code",
   "execution_count": 142,
   "id": "cab9f74c",
   "metadata": {},
   "outputs": [
    {
     "data": {
      "image/png": "[encoded data removed]",
      "text/plain": [
       "<Figure size 1200x500 with 2 Axes>"
      ]
     },
     "metadata": {},
     "output_type": "display_data"
    }
   ],
   "source": [
    "# Create a figure with two subplots\n",
    "fig, axes = plt.subplots(1, 2, figsize=(12, 5))\n",
    "\n",
    "# Plot the first count plot\n",
    "ax1 = sns.countplot(x=\"Review rating\", data=df_SA, ax=axes[0])\n",
    "axes[0].set_xlabel(\"Review rating\")\n",
    "axes[0].set_ylabel(\"Count\")\n",
    "axes[0].set_title(\"Count Plot 1\")\n",
    "\n",
    "# Add count labels on top of the bars for the first plot\n",
    "for p in ax1.patches:\n",
    "    ax1.annotate(f'{p.get_height()}', (p.get_x() + p.get_width() / 2., p.get_height()),\n",
    "                ha='center', va='center', fontsize=12, color='black', xytext=(0, 10),\n",
    "                textcoords='offset points')\n",
    "\n",
    "# Plot the second count plot (can have different data or settings)\n",
    "ax2 = sns.countplot(x=\"Review rating\", data=df_SA_sent, ax=axes[1])\n",
    "axes[1].set_xlabel(\"Review rating\")\n",
    "axes[1].set_ylabel(\"Count\")\n",
    "axes[1].set_title(\"Count Plot 2\")\n",
    "\n",
    "# Add count labels on top of the bars for the second plot\n",
    "for p in ax2.patches:\n",
    "    ax2.annotate(f'{p.get_height()}', (p.get_x() + p.get_width() / 2., p.get_height()),\n",
    "                ha='center', va='center', fontsize=12, color='black', xytext=(0, 10),\n",
    "                textcoords='offset points')\n",
    "\n",
    "# Adjust layout and show the plots\n",
    "plt.tight_layout()\n",
    "plt.show()"
   ]
  },
  {
   "cell_type": "markdown",
   "id": "37b94b81",
   "metadata": {},
   "source": [
    "### Running the Vader Sentiment Analysis"
   ]
  },
  {
   "cell_type": "code",
   "execution_count": 149,
   "id": "7a963a9e",
   "metadata": {},
   "outputs": [
    {
     "data": {
      "application/vnd.jupyter.widget-view+json": {
       "model_id": "a1d1575b951d417e9288bf096c199be0",
       "version_major": 2,
       "version_minor": 0
      },
      "text/plain": [
       "  0%|          | 0/72898 [00:00<?, ?it/s]"
      ]
     },
     "metadata": {},
     "output_type": "display_data"
    }
   ],
   "source": [
    "# Running the polarity score on the entire dataset\n",
    "res2 = {}\n",
    "for i, row in tqdm(df_SA_sent.iterrows(), total=len(df_SA_sent)):\n",
    "    text = row['Full review']\n",
    "    myid = row['ID']\n",
    "    res2[myid] = sia.polarity_scores(text)"
   ]
  },
  {
   "cell_type": "code",
   "execution_count": 154,
   "id": "ea360932",
   "metadata": {},
   "outputs": [],
   "source": [
    "vaders_sent = pd.DataFrame(res2).T\n",
    "vaders_sent = vaders_sent.reset_index().rename(columns={'index':'ID'})\n",
    "vaders_sent = vaders_sent.merge(df_SA_sent, how='left')"
   ]
  },
  {
   "cell_type": "markdown",
   "id": "6d954b67",
   "metadata": {},
   "source": [
    "## Plotting VADER results on Review Content based on sentence split\n"
   ]
  },
  {
   "cell_type": "code",
   "execution_count": 159,
   "id": "a6792477",
   "metadata": {},
   "outputs": [
    {
     "data": {
      "image/png": "[encoded data removed]",
      "text/plain": [
       "<Figure size 1500x500 with 3 Axes>"
      ]
     },
     "metadata": {},
     "output_type": "display_data"
    }
   ],
   "source": [
    "fig, axs = plt.subplots(1,3, figsize = (15,5))\n",
    "sns.barplot(data=vaders_sent, x='Review rating', y = 'pos', ax=axs[0])\n",
    "sns.barplot(data=vaders_sent, x='Review rating', y = 'neu', ax=axs[1])\n",
    "sns.barplot(data=vaders_sent, x='Review rating', y = 'neg', ax=axs[2])\n",
    "axs[0].set_title('Positive')\n",
    "axs[1].set_title('Neutral')\n",
    "axs[2].set_title('Negative')\n",
    "plt.tight_layout()\n",
    "plt.show()"
   ]
  },
  {
   "cell_type": "code",
   "execution_count": 211,
   "id": "369a01d3",
   "metadata": {},
   "outputs": [
    {
     "data": {
      "image/png": "[encoded data removed]",
      "text/plain": [
       "<Figure size 640x480 with 1 Axes>"
      ]
     },
     "metadata": {},
     "output_type": "display_data"
    }
   ],
   "source": [
    "ax = sns.boxplot(data=vaders_sent, x='Review rating', y='compound')\n",
    "ax.set_title('Compound Score by Amazon Reviews')\n",
    "plt.show()"
   ]
  },
  {
   "cell_type": "markdown",
   "id": "279054e2",
   "metadata": {},
   "source": [
    "For the lower ratings, there seems to be quite a number of positive compound scores, which may suggest that certain sentences acknowledges that there are positive feedback but overall the negative outweighs the positives."
   ]
  },
  {
   "cell_type": "markdown",
   "id": "7a286147",
   "metadata": {},
   "source": [
    "## Reviewing Examples"
   ]
  },
  {
   "cell_type": "code",
   "execution_count": 212,
   "id": "47d7aae6",
   "metadata": {},
   "outputs": [],
   "source": [
    "vaders_sent = vaders_sent.rename(columns={'Review rating': 'Review_rating'})"
   ]
  },
  {
   "cell_type": "markdown",
   "id": "5c40afec",
   "metadata": {},
   "source": [
    "### Checking if the model works after splitting into sentence"
   ]
  },
  {
   "cell_type": "code",
   "execution_count": 217,
   "id": "69d4528a",
   "metadata": {},
   "outputs": [
    {
     "data": {
      "text/plain": [
       "\"['easy install', ' easy', ' works great']\""
      ]
     },
     "execution_count": 217,
     "metadata": {},
     "output_type": "execute_result"
    }
   ],
   "source": [
    "# Positive sentiment with 5-star review\n",
    "vaders_sent.query('Review_rating == 5').sort_values('pos', ascending=False)['Review Content'].values[0]"
   ]
  },
  {
   "cell_type": "code",
   "execution_count": 216,
   "id": "3d700473",
   "metadata": {},
   "outputs": [
    {
     "data": {
      "text/plain": [
       "\"['convinced devices break couple months', ' luck common printers my buy locally always end buying', ' never', ' waste', ' favor buy absolutely anything else']\""
      ]
     },
     "execution_count": 216,
     "metadata": {},
     "output_type": "execute_result"
    }
   ],
   "source": [
    "# Negative sentiment with 1-star review\n",
    "vaders_sent.query('Review_rating == 1').sort_values('neg', ascending=False)['Review Content'].values[0]"
   ]
  },
  {
   "cell_type": "markdown",
   "id": "cd4f7d8a",
   "metadata": {},
   "source": [
    "### Checking if the model produces inaccurate results"
   ]
  },
  {
   "cell_type": "code",
   "execution_count": 218,
   "id": "67ddc982",
   "metadata": {},
   "outputs": [
    {
     "data": {
      "text/plain": [
       "\"['loved first two canon pixma', ' canon model built much poorer parts flimsy like flip screen', ' spent hours although able unable scan totally imac old', ' every time tried support online via phone asked payment really purchased unit', ' helpful', ' sent back frustrating his', ' fortunately amazon honored free return']\""
      ]
     },
     "execution_count": 218,
     "metadata": {},
     "output_type": "execute_result"
    }
   ],
   "source": [
    "# Positive sentiment but with 1-star review\n",
    "vaders_sent.query('Review_rating == 1').sort_values('pos', ascending=False)['Review Content'].values[0]"
   ]
  },
  {
   "cell_type": "code",
   "execution_count": 219,
   "id": "78cba04b",
   "metadata": {},
   "outputs": [
    {
     "data": {
      "text/plain": [
       "\"['always love reason buy another upgrade windows 11 ugh', ' purchased two others epson brother', ' failures', ' maybe windows 11', ' made sure supported windows 11 os', ' weeks love far', ' ios app great well']\""
      ]
     },
     "execution_count": 219,
     "metadata": {},
     "output_type": "execute_result"
    }
   ],
   "source": [
    "# Negative sentiment but with 5-star review\n",
    "vaders_sent.query('Review_rating == 5').sort_values('neg', ascending=False)['Review Content'].values[0]"
   ]
  },
  {
   "cell_type": "markdown",
   "id": "1282c5ee",
   "metadata": {},
   "source": []
  },
  {
   "cell_type": "markdown",
   "id": "a058e1e4",
   "metadata": {},
   "source": []
  },
  {
   "cell_type": "markdown",
   "id": "ff94e4cd",
   "metadata": {},
   "source": []
  },
  {
   "cell_type": "markdown",
   "id": "85d2afd4",
   "metadata": {},
   "source": []
  },
  {
   "cell_type": "code",
   "execution_count": null,
   "id": "3806c67f",
   "metadata": {},
   "outputs": [],
   "source": []
  },
  {
   "cell_type": "code",
   "execution_count": null,
   "id": "97ca807c",
   "metadata": {},
   "outputs": [],
   "source": []
  }
 ],
 "metadata": {
  "kernelspec": {
   "display_name": "Python 3 (ipykernel)",
   "language": "python",
   "name": "python3"
  },
  "language_info": {
   "codemirror_mode": {
    "name": "ipython",
    "version": 3
   },
   "file_extension": ".py",
   "mimetype": "text/x-python",
   "name": "python",
   "nbconvert_exporter": "python",
   "pygments_lexer": "ipython3",
   "version": "3.10.8"
  }
 },
 "nbformat": 4,
 "nbformat_minor": 5
}
